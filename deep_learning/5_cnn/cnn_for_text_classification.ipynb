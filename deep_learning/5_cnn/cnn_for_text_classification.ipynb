{
  "cells": [
    {
      "cell_type": "code",
      "execution_count": 1,
      "metadata": {
        "id": "jJmaFmQJILIG"
      },
      "outputs": [
        {
          "data": {
            "text/plain": [
              "device(type='cuda', index=0)"
            ]
          },
          "execution_count": 1,
          "metadata": {},
          "output_type": "execute_result"
        }
      ],
      "source": [
        "import os\n",
        "import random\n",
        "import numpy as np\n",
        "\n",
        "import torch\n",
        "import torch.nn as nn\n",
        "import torch.optim as optim\n",
        "import torch.nn.functional as F\n",
        "import torch.utils.data as data\n",
        "\n",
        "import torchvision.transforms as transforms\n",
        "import torchvision.datasets as datasets\n",
        "\n",
        "from torchsummary import summary\n",
        "\n",
        "import matplotlib.pyplot as plt\n",
        "from PIL import Image\n",
        "\n",
        "device = torch.device(\"cuda:0\" if torch.cuda.is_available() else \"cpu\")\n",
        "device"
      ]
    },
    {
      "cell_type": "code",
      "execution_count": 2,
      "metadata": {
        "id": "tAoT7bubJGAO"
      },
      "outputs": [],
      "source": [
        "SEED = 1\n",
        "\n",
        "random.seed(SEED)\n",
        "np.random.seed(SEED)\n",
        "torch.manual_seed(SEED)\n",
        "torch.cuda.manual_seed(SEED)\n",
        "torch.backends.cudnn.deterministic = True"
      ]
    },
    {
      "cell_type": "code",
      "execution_count": 3,
      "metadata": {
        "id": "Hqri8gZIWJfv"
      },
      "outputs": [],
      "source": [
        "import os\n",
        "import pandas as pd\n",
        "\n",
        "def load_data_from_path(folder_path):\n",
        "    examples = []\n",
        "    for label in os.listdir(folder_path):\n",
        "        full_path = os.path.join(folder_path, label)\n",
        "        for file_name in os.listdir(full_path):\n",
        "            file_path = os.path.join(full_path, file_name)\n",
        "            with open(file_path, \"r\", encoding=\"utf-8\") as f:\n",
        "                lines = f.readlines()\n",
        "            sentence = \" \".join(lines)\n",
        "            if label == \"neg\":\n",
        "                label = 0\n",
        "            if label == \"pos\":\n",
        "                label = 1\n",
        "            data = {\n",
        "                'sentence': sentence,\n",
        "                'label': label\n",
        "            }\n",
        "            examples.append(data)\n",
        "    return pd.DataFrame(examples)"
      ]
    },
    {
      "cell_type": "code",
      "execution_count": 4,
      "metadata": {
        "id": "qgUOsL2TWLPH"
      },
      "outputs": [],
      "source": [
        "folder_paths = {\n",
        "    'train': 'data/ntc-scv/train',\n",
        "    'valid': 'data/ntc-scv/valid',\n",
        "    'test': 'data/ntc-scv/test'\n",
        "}\n",
        "\n",
        "train_df = load_data_from_path(folder_paths['train'])\n",
        "valid_df = load_data_from_path(folder_paths['valid'])\n",
        "test_df = load_data_from_path(folder_paths['test'])"
      ]
    },
    {
      "cell_type": "markdown",
      "metadata": {
        "id": "UYD88yN6WNmq"
      },
      "source": [
        "###**3.2. Preprocessing**"
      ]
    },
    {
      "cell_type": "code",
      "execution_count": 5,
      "metadata": {
        "id": "xCKYuCjgWVzv"
      },
      "outputs": [],
      "source": [
        "from langid.langid import LanguageIdentifier, model\n",
        "\n",
        "def identify_vn(df):\n",
        "    identifier = LanguageIdentifier.from_modelstring(model, norm_probs=True)\n",
        "    not_vi_idx = set()\n",
        "    THRESHOLD = 0.9\n",
        "    for idx, row in df.iterrows():\n",
        "        score = identifier.classify(row[\"sentence\"])\n",
        "        if score[0] != \"vi\" or (score[0] == \"vi\" and score[1] <= THRESHOLD):\n",
        "            not_vi_idx.add(idx)\n",
        "    vi_df = df[~df.index.isin(not_vi_idx)]\n",
        "    not_vi_df = df[df.index.isin(not_vi_idx)]\n",
        "    return vi_df, not_vi_df"
      ]
    },
    {
      "cell_type": "code",
      "execution_count": 6,
      "metadata": {
        "id": "x7_R7pp7WW8q"
      },
      "outputs": [],
      "source": [
        "train_df_vi, train_df_other = identify_vn(train_df)"
      ]
    },
    {
      "cell_type": "code",
      "execution_count": 7,
      "metadata": {
        "id": "NDp2y91iWZ-P"
      },
      "outputs": [],
      "source": [
        "import re\n",
        "import string\n",
        "\n",
        "def preprocess_text(text):\n",
        "    # remove URLs https://www.\n",
        "    url_pattern = re.compile(r'https?://\\s+\\wwww\\.\\s+')\n",
        "    text = url_pattern.sub(r\" \", text)\n",
        "\n",
        "    # remove HTML Tags: <>\n",
        "    html_pattern = re.compile(r'<[^<>]+>')\n",
        "    text = html_pattern.sub(\" \", text)\n",
        "\n",
        "    # remove puncs and digits\n",
        "    replace_chars = list(string.punctuation + string.digits)\n",
        "    for char in replace_chars:\n",
        "        text = text.replace(char, \" \")\n",
        "\n",
        "    # remove emoji\n",
        "    emoji_pattern = re.compile(\"[\"\n",
        "        u\"\\U0001F600-\\U0001F64F\"  # emoticons\n",
        "        u\"\\U0001F300-\\U0001F5FF\"  # symbols & pictographs\n",
        "        u\"\\U0001F680-\\U0001F6FF\"  # transport & map symbols\n",
        "        u\"\\U0001F1E0-\\U0001F1FF\"  # flags (iOS)\n",
        "        u\"\\U0001F1F2-\\U0001F1F4\"  # Macau flag\n",
        "        u\"\\U0001F1E6-\\U0001F1FF\"  # flags\n",
        "        u\"\\U0001F600-\\U0001F64F\"\n",
        "        u\"\\U00002702-\\U000027B0\"\n",
        "        u\"\\U000024C2-\\U0001F251\"\n",
        "        u\"\\U0001f926-\\U0001f937\"\n",
        "        u\"\\U0001F1F2\"\n",
        "        u\"\\U0001F1F4\"\n",
        "        u\"\\U0001F620\"\n",
        "        u\"\\u200d\"\n",
        "        u\"\\u2640-\\u2642\"\n",
        "        \"]+\", flags=re.UNICODE)\n",
        "    text = emoji_pattern.sub(r\" \", text)\n",
        "\n",
        "    # normalize whitespace\n",
        "    text = \" \".join(text.split())\n",
        "\n",
        "    # lowercasing\n",
        "    text = text.lower()\n",
        "    return text"
      ]
    },
    {
      "cell_type": "code",
      "execution_count": 8,
      "metadata": {
        "colab": {
          "base_uri": "https://localhost:8080/"
        },
        "id": "d4_LoaNXWcKz",
        "outputId": "5a7352bf-232a-4189-a24c-120d6fd35f6c"
      },
      "outputs": [
        {
          "name": "stderr",
          "output_type": "stream",
          "text": [
            "/tmp/ipykernel_173872/1058621333.py:1: SettingWithCopyWarning: \n",
            "A value is trying to be set on a copy of a slice from a DataFrame.\n",
            "Try using .loc[row_indexer,col_indexer] = value instead\n",
            "\n",
            "See the caveats in the documentation: https://pandas.pydata.org/pandas-docs/stable/user_guide/indexing.html#returning-a-view-versus-a-copy\n",
            "  train_df_vi['preprocess_sentence'] = [preprocess_text(row['sentence']) for index, row in train_df_vi.iterrows()]\n"
          ]
        }
      ],
      "source": [
        "train_df_vi['preprocess_sentence'] = [preprocess_text(row['sentence']) for index, row in train_df_vi.iterrows()]\n",
        "valid_df['preprocess_sentence'] = [preprocess_text(row['sentence']) for index, row in valid_df.iterrows()]\n",
        "test_df['preprocess_sentence'] = [preprocess_text(row['sentence']) for index, row in test_df.iterrows()]"
      ]
    },
    {
      "cell_type": "markdown",
      "metadata": {
        "id": "ysfkpVN8WeTA"
      },
      "source": [
        "###**3.3. Representation**"
      ]
    },
    {
      "cell_type": "code",
      "execution_count": null,
      "metadata": {
        "id": "W7C0Wu9OWhtW"
      },
      "outputs": [],
      "source": [
        "# !pip install -q torchtext==0.16.0"
      ]
    },
    {
      "cell_type": "code",
      "execution_count": 11,
      "metadata": {
        "id": "7F2zmrCDWjPR"
      },
      "outputs": [],
      "source": [
        "def yield_tokens(sentences, tokenizer):\n",
        "    for sentence in sentences:\n",
        "        yield tokenizer(sentence)"
      ]
    },
    {
      "cell_type": "code",
      "execution_count": 12,
      "metadata": {
        "id": "jzNbnN9JWjRZ"
      },
      "outputs": [],
      "source": [
        "# word-based tokenizer\n",
        "from torchtext.data.utils import get_tokenizer\n",
        "\n",
        "tokenizer = get_tokenizer(\"basic_english\")"
      ]
    },
    {
      "cell_type": "code",
      "execution_count": 13,
      "metadata": {
        "id": "kIf0sk6kWjTn"
      },
      "outputs": [],
      "source": [
        "# build vocabulary\n",
        "from torchtext.vocab import build_vocab_from_iterator\n",
        "\n",
        "vocab_size = 10000\n",
        "vocabulary = build_vocab_from_iterator(\n",
        "    yield_tokens(train_df_vi['preprocess_sentence'], tokenizer),\n",
        "    max_tokens=vocab_size,\n",
        "    specials=[\"<pad>\", \"<unk>\"]\n",
        ")\n",
        "vocabulary.set_default_index(vocabulary[\"<unk>\"])"
      ]
    },
    {
      "cell_type": "code",
      "execution_count": 14,
      "metadata": {
        "colab": {
          "base_uri": "https://localhost:8080/"
        },
        "id": "neiHfHavY_6r",
        "outputId": "40b2a622-249a-437f-d375-a34f4e38f2ea"
      },
      "outputs": [
        {
          "data": {
            "text/plain": [
              "0"
            ]
          },
          "execution_count": 14,
          "metadata": {},
          "output_type": "execute_result"
        }
      ],
      "source": [
        "vocabulary[\"<pad>\"]"
      ]
    },
    {
      "cell_type": "code",
      "execution_count": 15,
      "metadata": {
        "id": "i4_bVad3WjVp"
      },
      "outputs": [],
      "source": [
        "from torchtext.data.functional import to_map_style_dataset\n",
        "\n",
        "def prepare_dataset(df):\n",
        "    # create iterator for dataset: (sentence, label)\n",
        "    for index, row in df.iterrows():\n",
        "        sentence = row['preprocess_sentence']\n",
        "        encoded_sentence = vocabulary(tokenizer(sentence))\n",
        "        label = row['label']\n",
        "        yield encoded_sentence, label\n",
        "\n",
        "train_dataset = prepare_dataset(train_df_vi)\n",
        "train_dataset = to_map_style_dataset(train_dataset)\n",
        "\n",
        "valid_dataset = prepare_dataset(valid_df)\n",
        "valid_dataset = to_map_style_dataset(valid_dataset)"
      ]
    },
    {
      "cell_type": "markdown",
      "metadata": {
        "id": "dhiWKeY0YRXy"
      },
      "source": [
        "###**3.4. Dataloader**"
      ]
    },
    {
      "cell_type": "code",
      "execution_count": 16,
      "metadata": {
        "id": "-mbVV_E6YXmM"
      },
      "outputs": [],
      "source": [
        "import torch\n",
        "from torch.nn.utils.rnn import pad_sequence\n",
        "\n",
        "device = torch.device(\"cuda\" if torch.cuda.is_available() else \"cpu\")\n",
        "\n",
        "def collate_batch(batch):\n",
        "    # create inputs, offsets, labels for batch\n",
        "    encoded_sentences, labels = [], []\n",
        "    for encoded_sentence, label in batch:\n",
        "        labels.append(label)\n",
        "        encoded_sentence = torch.tensor(encoded_sentence, dtype=torch.int64)\n",
        "        encoded_sentences.append(encoded_sentence)\n",
        "\n",
        "    labels = torch.tensor(labels, dtype=torch.int64)\n",
        "    encoded_sentences = pad_sequence(\n",
        "        encoded_sentences,\n",
        "        padding_value=vocabulary[\"<pad>\"]\n",
        "    )\n",
        "\n",
        "    return encoded_sentences, labels"
      ]
    },
    {
      "cell_type": "code",
      "execution_count": 17,
      "metadata": {
        "id": "UlGlSjvtZJfY"
      },
      "outputs": [],
      "source": [
        "from torch.utils.data import DataLoader\n",
        "\n",
        "batch_size = 128\n",
        "train_dataloader = DataLoader(\n",
        "    train_dataset,\n",
        "    batch_size=batch_size,\n",
        "    shuffle=True,\n",
        "    collate_fn=collate_batch\n",
        ")\n",
        "valid_dataloader = DataLoader(\n",
        "    valid_dataset,\n",
        "    batch_size=batch_size,\n",
        "    shuffle=False,\n",
        "    collate_fn=collate_batch\n",
        ")"
      ]
    },
    {
      "cell_type": "code",
      "execution_count": 18,
      "metadata": {
        "colab": {
          "base_uri": "https://localhost:8080/"
        },
        "id": "jHqk8A1dZLOI",
        "outputId": "c4c7c35c-b922-4ddd-d216-613afb7ffff5"
      },
      "outputs": [
        {
          "data": {
            "text/plain": [
              "(tensor([[209,  10,   7,  ...,   7, 119,  41],\n",
              "         [ 34, 209, 262,  ...,  13,  86, 731],\n",
              "         [497,  34, 478,  ..., 262,  66, 245],\n",
              "         ...,\n",
              "         [  0,   0,   0,  ...,   0,   0,   0],\n",
              "         [  0,   0,   0,  ...,   0,   0,   0],\n",
              "         [  0,   0,   0,  ...,   0,   0,   0]]),\n",
              " tensor([1, 0, 0, 0, 0, 1, 0, 0, 0, 0, 0, 1, 0, 1, 1, 1, 0, 1, 0, 1, 0, 1, 0, 1,\n",
              "         0, 0, 0, 1, 1, 0, 1, 0, 1, 1, 0, 1, 1, 0, 1, 0, 1, 1, 0, 1, 1, 1, 1, 0,\n",
              "         1, 1, 1, 0, 0, 0, 0, 1, 0, 0, 1, 0, 1, 1, 0, 0, 1, 1, 0, 0, 0, 0, 0, 1,\n",
              "         0, 0, 0, 0, 0, 1, 0, 0, 0, 0, 1, 1, 1, 1, 0, 1, 1, 0, 0, 1, 0, 0, 1, 0,\n",
              "         1, 1, 1, 1, 1, 0, 1, 1, 1, 1, 1, 0, 1, 0, 0, 1, 1, 0, 1, 1, 0, 1, 1, 0,\n",
              "         0, 1, 1, 0, 0, 1, 0, 0]))"
            ]
          },
          "execution_count": 18,
          "metadata": {},
          "output_type": "execute_result"
        }
      ],
      "source": [
        "next(iter(train_dataloader))"
      ]
    },
    {
      "cell_type": "code",
      "execution_count": 19,
      "metadata": {
        "id": "QiMlYIuAZNPY"
      },
      "outputs": [],
      "source": [
        "encoded_sentences, labels = next(iter(train_dataloader))"
      ]
    },
    {
      "cell_type": "code",
      "execution_count": 20,
      "metadata": {
        "colab": {
          "base_uri": "https://localhost:8080/"
        },
        "id": "BvgIPLMJZO57",
        "outputId": "cfa58c86-42f9-48d8-a79c-87060cf1068a"
      },
      "outputs": [
        {
          "data": {
            "text/plain": [
              "torch.Size([399, 128])"
            ]
          },
          "execution_count": 20,
          "metadata": {},
          "output_type": "execute_result"
        }
      ],
      "source": [
        "encoded_sentences.shape"
      ]
    },
    {
      "cell_type": "markdown",
      "metadata": {
        "id": "UeDzx-BoZX9A"
      },
      "source": [
        "###**3.5. Model**"
      ]
    },
    {
      "cell_type": "code",
      "execution_count": 21,
      "metadata": {
        "id": "0-8gNDBvZaKd"
      },
      "outputs": [],
      "source": [
        "class TextCNN(nn.Module):\n",
        "    def __init__(\n",
        "        self,\n",
        "        vocab_size, embedding_dim, kernel_sizes, num_filters, num_classes):\n",
        "        super(TextCNN, self).__init__()\n",
        "\n",
        "        self.vocab_size = vocab_size\n",
        "        self.embedding_dim = embedding_dim\n",
        "        self.kernel_sizes = kernel_sizes\n",
        "        self.num_filters = num_filters\n",
        "        self.num_classes = num_classes\n",
        "        self.embedding = nn.Embedding(vocab_size, embedding_dim, padding_idx=0)\n",
        "        self.conv = nn.ModuleList([\n",
        "            nn.Conv1d(\n",
        "                in_channels=embedding_dim,\n",
        "                out_channels=num_filters,\n",
        "                kernel_size=k,\n",
        "                stride=1\n",
        "            ) for k in kernel_sizes])\n",
        "        self.fc = nn.Linear(len(kernel_sizes) * num_filters, num_classes)\n",
        "\n",
        "    def forward(self, x):\n",
        "        batch_size, sequence_length = x.shape\n",
        "        x = self.embedding(x.T).transpose(1, 2)\n",
        "        x = [F.relu(conv(x)) for conv in self.conv]\n",
        "        x = [F.max_pool1d(c, c.size(-1)).squeeze(dim=-1) for c in x]\n",
        "        x = torch.cat(x, dim=1)\n",
        "        x = self.fc(x)\n",
        "        return x"
      ]
    },
    {
      "cell_type": "code",
      "execution_count": 22,
      "metadata": {
        "id": "qcV1qvGqZqoI"
      },
      "outputs": [],
      "source": [
        "vocab_size = len(vocabulary)\n",
        "embedding_dim = 100\n",
        "\n",
        "model = TextCNN(\n",
        "    vocab_size=vocab_size,\n",
        "    embedding_dim=embedding_dim,\n",
        "    kernel_sizes=[3, 4, 5],\n",
        "    num_filters=100,\n",
        "    num_classes=2\n",
        ")"
      ]
    },
    {
      "cell_type": "code",
      "execution_count": 23,
      "metadata": {
        "colab": {
          "base_uri": "https://localhost:8080/"
        },
        "id": "_uvT6i-RaRgc",
        "outputId": "e6a2a588-fe54-40e1-d7d4-0fb483bb9c26"
      },
      "outputs": [
        {
          "data": {
            "text/plain": [
              "tensor([[-0.9558,  0.2404],\n",
              "        [-0.6491,  0.4609],\n",
              "        [-0.8975,  0.1509],\n",
              "        [-1.0778,  0.8463],\n",
              "        [-0.9660,  0.4268],\n",
              "        [-0.7661,  0.7864],\n",
              "        [-0.9024,  0.2696],\n",
              "        [-1.1252,  0.5218],\n",
              "        [-0.9165,  0.5944],\n",
              "        [-0.7444,  0.4267],\n",
              "        [-0.9482,  0.4261],\n",
              "        [-1.1346,  0.4302],\n",
              "        [-0.6270,  0.5787],\n",
              "        [-0.7985,  0.5566],\n",
              "        [-0.5515,  0.5902],\n",
              "        [-0.8523,  0.3407],\n",
              "        [-1.0009,  0.4602],\n",
              "        [-1.1012,  0.3578],\n",
              "        [-0.8831,  0.5375],\n",
              "        [-0.9301,  0.1624],\n",
              "        [-0.8552,  0.5962],\n",
              "        [-0.8755,  0.5098],\n",
              "        [-1.1154,  0.5014],\n",
              "        [-0.9888,  0.5551],\n",
              "        [-1.2498,  0.5833],\n",
              "        [-0.7697,  0.2794],\n",
              "        [-0.8545,  0.4615],\n",
              "        [-0.5927,  0.0543],\n",
              "        [-1.0012,  0.4249],\n",
              "        [-1.0256,  0.6674],\n",
              "        [-0.8630,  0.7276],\n",
              "        [-0.8011,  0.3163],\n",
              "        [-0.5890,  0.1149],\n",
              "        [-0.7620,  0.5355],\n",
              "        [-0.7642,  0.7245],\n",
              "        [-1.1035,  0.6474],\n",
              "        [-0.6844,  0.5762],\n",
              "        [-0.8044,  0.6747],\n",
              "        [-0.5973,  0.6887],\n",
              "        [-1.0129,  0.4767],\n",
              "        [-0.8273,  0.5241],\n",
              "        [-0.8529,  0.5439],\n",
              "        [-0.9005,  0.2706],\n",
              "        [-1.0137,  0.4307],\n",
              "        [-0.3979,  0.2406],\n",
              "        [-0.6216,  0.6074],\n",
              "        [-0.9435,  0.3661],\n",
              "        [-0.4668,  0.4686],\n",
              "        [-0.7309,  0.4592],\n",
              "        [-0.7781,  0.6812],\n",
              "        [-0.5922,  0.4114],\n",
              "        [-0.8486,  0.4813],\n",
              "        [-0.8523,  0.3461],\n",
              "        [-0.9062,  0.7363],\n",
              "        [-0.6290,  0.3822],\n",
              "        [-1.0133,  0.6161],\n",
              "        [-0.5214,  0.2853],\n",
              "        [-0.9911,  0.4341],\n",
              "        [-1.1741,  0.5271],\n",
              "        [-1.0869,  0.6929],\n",
              "        [-0.8004,  0.5130],\n",
              "        [-0.8952,  0.6109],\n",
              "        [-1.0293,  0.3097],\n",
              "        [-0.7540,  0.4831],\n",
              "        [-1.2010,  0.3927],\n",
              "        [-0.7404,  0.2620],\n",
              "        [-0.7662,  0.7625],\n",
              "        [-1.0402,  0.8108],\n",
              "        [-0.5167,  0.3972],\n",
              "        [-0.7591,  0.3912],\n",
              "        [-0.8491,  0.7449],\n",
              "        [-1.0335,  0.4187],\n",
              "        [-1.0782,  0.2438],\n",
              "        [-0.8291,  0.5234],\n",
              "        [-0.9250,  0.7022],\n",
              "        [-0.8208,  0.5013],\n",
              "        [-1.0133,  0.4846],\n",
              "        [-1.0530,  0.5837],\n",
              "        [-0.7602,  0.5484],\n",
              "        [-0.9031,  0.6873],\n",
              "        [-0.9167,  0.7067],\n",
              "        [-0.7645,  0.5217],\n",
              "        [-1.1037,  0.5659],\n",
              "        [-1.0473,  0.5033],\n",
              "        [-0.9017,  0.6611],\n",
              "        [-0.7561,  0.4565],\n",
              "        [-1.1801,  0.7238],\n",
              "        [-0.3501,  0.3139],\n",
              "        [-0.9413,  0.5776],\n",
              "        [-0.6800,  0.6374],\n",
              "        [-0.8160,  0.4685],\n",
              "        [-0.8564,  0.4055],\n",
              "        [-0.4886,  0.5690],\n",
              "        [-0.3890,  0.6809],\n",
              "        [-1.1511,  0.5984],\n",
              "        [-0.7020,  0.4506],\n",
              "        [-0.7018,  0.5739],\n",
              "        [-0.7343,  0.4299],\n",
              "        [-0.8305,  0.5408],\n",
              "        [-0.7010,  0.3756],\n",
              "        [-0.8205,  0.3097],\n",
              "        [-0.6764,  0.3446],\n",
              "        [-0.8403,  0.3012],\n",
              "        [-1.0309,  0.3368],\n",
              "        [-0.8097,  0.5445],\n",
              "        [-1.0436,  0.3033],\n",
              "        [-1.0225,  0.5599],\n",
              "        [-1.0918,  0.4527],\n",
              "        [-0.7409,  0.5716],\n",
              "        [-0.9097,  0.7928],\n",
              "        [-0.5906,  0.3771],\n",
              "        [-0.9225,  0.5504],\n",
              "        [-0.6082,  0.6935],\n",
              "        [-0.7214,  0.4071],\n",
              "        [-1.1888,  0.4592],\n",
              "        [-0.9109,  0.5403],\n",
              "        [-0.9470,  0.3575],\n",
              "        [-1.1948,  0.5157],\n",
              "        [-0.5512,  0.4891],\n",
              "        [-0.7752,  0.5188],\n",
              "        [-0.8948,  0.3794],\n",
              "        [-0.5884,  0.4799],\n",
              "        [-1.1738,  0.6139],\n",
              "        [-1.0600,  0.4854],\n",
              "        [-0.9220,  0.5100],\n",
              "        [-0.8457,  0.7822],\n",
              "        [-1.0331,  0.5558],\n",
              "        [-1.1545,  0.3668]], grad_fn=<AddmmBackward0>)"
            ]
          },
          "execution_count": 23,
          "metadata": {},
          "output_type": "execute_result"
        }
      ],
      "source": [
        "predictions = model(encoded_sentences)\n",
        "predictions"
      ]
    },
    {
      "cell_type": "markdown",
      "metadata": {
        "id": "kNqGgjXJac0v"
      },
      "source": [
        "###**3.6. Loss & Optimizer**"
      ]
    },
    {
      "cell_type": "code",
      "execution_count": 24,
      "metadata": {
        "id": "pAuJ2UbAabLl"
      },
      "outputs": [],
      "source": [
        "criterion = torch.nn.CrossEntropyLoss()\n",
        "optimizer = torch.optim.Adam(model.parameters())"
      ]
    },
    {
      "cell_type": "code",
      "execution_count": 25,
      "metadata": {
        "colab": {
          "base_uri": "https://localhost:8080/"
        },
        "id": "eQa3-oiAamgn",
        "outputId": "6867f611-b2ea-445b-8934-ae9dbbca552d"
      },
      "outputs": [
        {
          "data": {
            "text/plain": [
              "tensor(0.9303, grad_fn=<NllLossBackward0>)"
            ]
          },
          "execution_count": 25,
          "metadata": {},
          "output_type": "execute_result"
        }
      ],
      "source": [
        "loss = criterion(predictions, labels)\n",
        "loss"
      ]
    },
    {
      "cell_type": "markdown",
      "metadata": {
        "id": "CR-LASFrayrj"
      },
      "source": [
        "###**3.7. Trainer**"
      ]
    },
    {
      "cell_type": "code",
      "execution_count": 26,
      "metadata": {
        "id": "4fl6GnoUa1-m"
      },
      "outputs": [],
      "source": [
        "import time\n",
        "\n",
        "def train(model, optimizer, criterion, train_dataloader, device, epoch=0, log_interval=50):\n",
        "    model.train()\n",
        "    total_acc, total_count = 0, 0\n",
        "    losses = []\n",
        "    start_time = time.time()\n",
        "\n",
        "    for idx, (inputs, labels) in enumerate(train_dataloader):\n",
        "        inputs = inputs.to(device)\n",
        "        labels = labels.to(device)\n",
        "\n",
        "        # zero grad\n",
        "        optimizer.zero_grad()\n",
        "\n",
        "        # predictions\n",
        "        predictions = model(inputs)\n",
        "\n",
        "        # compute loss\n",
        "        loss = criterion(predictions, labels)\n",
        "        losses.append(loss.item())\n",
        "\n",
        "        # backward\n",
        "        loss.backward()\n",
        "        optimizer.step()\n",
        "        total_acc += (predictions.argmax(1) == labels).sum().item()\n",
        "        total_count += labels.size(0)\n",
        "        if idx % log_interval == 0 and idx > 0:\n",
        "            elapsed = time.time() - start_time\n",
        "            print(\n",
        "                \"| epoch {:3d} | {:5d}/{:5d} batches \"\n",
        "                \"| accuracy {:8.3f}\".format(\n",
        "                    epoch, idx, len(train_dataloader), total_acc / total_count\n",
        "                )\n",
        "            )\n",
        "            total_acc, total_count = 0, 0\n",
        "            start_time = time.time()\n",
        "\n",
        "    epoch_acc = total_acc / total_count\n",
        "    epoch_loss = sum(losses) / len(losses)\n",
        "    return epoch_acc, epoch_loss"
      ]
    },
    {
      "cell_type": "code",
      "execution_count": 27,
      "metadata": {
        "colab": {
          "base_uri": "https://localhost:8080/"
        },
        "id": "smPG2rQtbGME",
        "outputId": "4c6f042e-fa8f-4f58-a458-6062d4f62075"
      },
      "outputs": [
        {
          "data": {
            "text/plain": [
              "TextCNN(\n",
              "  (embedding): Embedding(10000, 100, padding_idx=0)\n",
              "  (conv): ModuleList(\n",
              "    (0): Conv1d(100, 100, kernel_size=(3,), stride=(1,))\n",
              "    (1): Conv1d(100, 100, kernel_size=(4,), stride=(1,))\n",
              "    (2): Conv1d(100, 100, kernel_size=(5,), stride=(1,))\n",
              "  )\n",
              "  (fc): Linear(in_features=300, out_features=2, bias=True)\n",
              ")"
            ]
          },
          "execution_count": 27,
          "metadata": {},
          "output_type": "execute_result"
        }
      ],
      "source": [
        "model.to(device)"
      ]
    },
    {
      "cell_type": "code",
      "execution_count": 28,
      "metadata": {
        "colab": {
          "base_uri": "https://localhost:8080/"
        },
        "id": "jIfPB_YHbKK0",
        "outputId": "52e4f039-7afe-4acf-8c95-0a8ea48d5ec7"
      },
      "outputs": [
        {
          "name": "stdout",
          "output_type": "stream",
          "text": [
            "| epoch   0 |    50/  233 batches | accuracy    0.726\n",
            "| epoch   0 |   100/  233 batches | accuracy    0.833\n",
            "| epoch   0 |   150/  233 batches | accuracy    0.861\n",
            "| epoch   0 |   200/  233 batches | accuracy    0.880\n"
          ]
        }
      ],
      "source": [
        "epoch_acc, epoch_loss = train(model, optimizer, criterion, train_dataloader, device)"
      ]
    },
    {
      "cell_type": "code",
      "execution_count": 29,
      "metadata": {
        "colab": {
          "base_uri": "https://localhost:8080/"
        },
        "id": "2zR4a7JWbM6m",
        "outputId": "50cd04ec-3acd-47c1-b066-943b944508ff"
      },
      "outputs": [
        {
          "data": {
            "text/plain": [
              "(0.8779940119760479, 0.3863192297230463)"
            ]
          },
          "execution_count": 29,
          "metadata": {},
          "output_type": "execute_result"
        }
      ],
      "source": [
        "epoch_acc, epoch_loss"
      ]
    },
    {
      "cell_type": "code",
      "execution_count": 30,
      "metadata": {
        "id": "_CHw-xiobQnG"
      },
      "outputs": [],
      "source": [
        "def evaluate(model, criterion, valid_dataloader):\n",
        "    model.eval()\n",
        "    total_acc, total_count = 0, 0\n",
        "    losses = []\n",
        "\n",
        "    with torch.no_grad():\n",
        "        for idx, (inputs, labels) in enumerate(valid_dataloader):\n",
        "            inputs = inputs.to(device)\n",
        "            labels = labels.to(device)\n",
        "            # predictions\n",
        "            predictions = model(inputs)\n",
        "\n",
        "            # compute loss\n",
        "            loss = criterion(predictions, labels)\n",
        "            losses.append(loss.item())\n",
        "\n",
        "            total_acc += (predictions.argmax(1) == labels).sum().item()\n",
        "            total_count += labels.size(0)\n",
        "\n",
        "    epoch_acc = total_acc / total_count\n",
        "    epoch_loss = sum(losses) / len(losses)\n",
        "    return epoch_acc, epoch_loss"
      ]
    },
    {
      "cell_type": "code",
      "execution_count": 31,
      "metadata": {
        "id": "n_Jt2UZJbZRE"
      },
      "outputs": [],
      "source": [
        "eval_acc, eval_loss = evaluate(model, criterion, valid_dataloader)"
      ]
    },
    {
      "cell_type": "code",
      "execution_count": 33,
      "metadata": {
        "colab": {
          "base_uri": "https://localhost:8080/"
        },
        "id": "vaNLSsBJba8h",
        "outputId": "a1e5d4af-6814-4b2e-e1b5-6437da93e56e"
      },
      "outputs": [
        {
          "data": {
            "text/plain": [
              "(0.8643, 0.31928715751140935)"
            ]
          },
          "execution_count": 33,
          "metadata": {},
          "output_type": "execute_result"
        }
      ],
      "source": [
        "eval_acc, eval_loss"
      ]
    },
    {
      "cell_type": "markdown",
      "metadata": {
        "id": "IQjxsnBFbjEr"
      },
      "source": [
        "###**3.8. Training**"
      ]
    },
    {
      "cell_type": "code",
      "execution_count": 34,
      "metadata": {
        "colab": {
          "base_uri": "https://localhost:8080/"
        },
        "id": "FLpPpGPFbdUB",
        "outputId": "c8369bc0-f29f-4a3e-b68e-66528e76e9d3"
      },
      "outputs": [
        {
          "name": "stdout",
          "output_type": "stream",
          "text": [
            "| epoch   1 |    50/  233 batches | accuracy    0.746\n",
            "| epoch   1 |   100/  233 batches | accuracy    0.843\n",
            "| epoch   1 |   150/  233 batches | accuracy    0.865\n",
            "| epoch   1 |   200/  233 batches | accuracy    0.872\n",
            "-----------------------------------------------------------\n",
            "| End of epoch   1 | Time: 23.60s | Train Accuracy    0.879 | Train Loss    0.378 | Valid Accuracy    0.858 | Valid Loss    0.330 \n",
            "-----------------------------------------------------------\n",
            "| epoch   2 |    50/  233 batches | accuracy    0.917\n",
            "| epoch   2 |   100/  233 batches | accuracy    0.920\n",
            "| epoch   2 |   150/  233 batches | accuracy    0.921\n",
            "| epoch   2 |   200/  233 batches | accuracy    0.913\n",
            "-----------------------------------------------------------\n",
            "| End of epoch   2 | Time: 23.71s | Train Accuracy    0.920 | Train Loss    0.225 | Valid Accuracy    0.881 | Valid Loss    0.286 \n",
            "-----------------------------------------------------------\n",
            "| epoch   3 |    50/  233 batches | accuracy    0.960\n",
            "| epoch   3 |   100/  233 batches | accuracy    0.953\n",
            "| epoch   3 |   150/  233 batches | accuracy    0.957\n",
            "| epoch   3 |   200/  233 batches | accuracy    0.954\n",
            "-----------------------------------------------------------\n",
            "| End of epoch   3 | Time: 23.92s | Train Accuracy    0.957 | Train Loss    0.142 | Valid Accuracy    0.877 | Valid Loss    0.299 \n",
            "-----------------------------------------------------------\n",
            "| epoch   4 |    50/  233 batches | accuracy    0.987\n",
            "| epoch   4 |   100/  233 batches | accuracy    0.985\n",
            "| epoch   4 |   150/  233 batches | accuracy    0.986\n",
            "| epoch   4 |   200/  233 batches | accuracy    0.980\n",
            "-----------------------------------------------------------\n",
            "| End of epoch   4 | Time: 24.03s | Train Accuracy    0.984 | Train Loss    0.074 | Valid Accuracy    0.883 | Valid Loss    0.314 \n",
            "-----------------------------------------------------------\n",
            "| epoch   5 |    50/  233 batches | accuracy    0.998\n",
            "| epoch   5 |   100/  233 batches | accuracy    0.999\n",
            "| epoch   5 |   150/  233 batches | accuracy    0.998\n",
            "| epoch   5 |   200/  233 batches | accuracy    0.998\n",
            "-----------------------------------------------------------\n",
            "| End of epoch   5 | Time: 23.87s | Train Accuracy    0.998 | Train Loss    0.031 | Valid Accuracy    0.882 | Valid Loss    0.329 \n",
            "-----------------------------------------------------------\n",
            "| epoch   6 |    50/  233 batches | accuracy    1.000\n",
            "| epoch   6 |   100/  233 batches | accuracy    1.000\n",
            "| epoch   6 |   150/  233 batches | accuracy    1.000\n",
            "| epoch   6 |   200/  233 batches | accuracy    1.000\n",
            "-----------------------------------------------------------\n",
            "| End of epoch   6 | Time: 23.73s | Train Accuracy    1.000 | Train Loss    0.014 | Valid Accuracy    0.883 | Valid Loss    0.355 \n",
            "-----------------------------------------------------------\n",
            "| epoch   7 |    50/  233 batches | accuracy    1.000\n",
            "| epoch   7 |   100/  233 batches | accuracy    1.000\n",
            "| epoch   7 |   150/  233 batches | accuracy    1.000\n",
            "| epoch   7 |   200/  233 batches | accuracy    1.000\n",
            "-----------------------------------------------------------\n",
            "| End of epoch   7 | Time: 24.08s | Train Accuracy    1.000 | Train Loss    0.007 | Valid Accuracy    0.881 | Valid Loss    0.377 \n",
            "-----------------------------------------------------------\n",
            "| epoch   8 |    50/  233 batches | accuracy    1.000\n",
            "| epoch   8 |   100/  233 batches | accuracy    1.000\n",
            "| epoch   8 |   150/  233 batches | accuracy    1.000\n",
            "| epoch   8 |   200/  233 batches | accuracy    1.000\n",
            "-----------------------------------------------------------\n",
            "| End of epoch   8 | Time: 24.27s | Train Accuracy    1.000 | Train Loss    0.005 | Valid Accuracy    0.884 | Valid Loss    0.391 \n",
            "-----------------------------------------------------------\n",
            "| epoch   9 |    50/  233 batches | accuracy    1.000\n",
            "| epoch   9 |   100/  233 batches | accuracy    1.000\n",
            "| epoch   9 |   150/  233 batches | accuracy    1.000\n",
            "| epoch   9 |   200/  233 batches | accuracy    1.000\n",
            "-----------------------------------------------------------\n",
            "| End of epoch   9 | Time: 23.91s | Train Accuracy    1.000 | Train Loss    0.003 | Valid Accuracy    0.884 | Valid Loss    0.407 \n",
            "-----------------------------------------------------------\n",
            "| epoch  10 |    50/  233 batches | accuracy    1.000\n",
            "| epoch  10 |   100/  233 batches | accuracy    1.000\n",
            "| epoch  10 |   150/  233 batches | accuracy    1.000\n",
            "| epoch  10 |   200/  233 batches | accuracy    1.000\n",
            "-----------------------------------------------------------\n",
            "| End of epoch  10 | Time: 23.89s | Train Accuracy    1.000 | Train Loss    0.002 | Valid Accuracy    0.884 | Valid Loss    0.419 \n",
            "-----------------------------------------------------------\n"
          ]
        }
      ],
      "source": [
        "num_class = 2\n",
        "vocab_size = len(vocabulary)\n",
        "embedding_dim = 100\n",
        "device = torch.device(\"cuda\" if torch.cuda.is_available() else \"cpu\")\n",
        "\n",
        "model = TextCNN(\n",
        "    vocab_size=vocab_size,\n",
        "    embedding_dim=embedding_dim,\n",
        "    kernel_sizes=[3, 4, 5],\n",
        "    num_filters=100,\n",
        "    num_classes=2\n",
        ")\n",
        "model.to(device)\n",
        "\n",
        "criterion = torch.nn.CrossEntropyLoss()\n",
        "optimizer = torch.optim.Adam(model.parameters())\n",
        "\n",
        "num_epochs = 10\n",
        "save_model = './model'\n",
        "\n",
        "train_accs, train_losses = [], []\n",
        "eval_accs, eval_losses = [], []\n",
        "best_loss_eval = 100\n",
        "\n",
        "for epoch in range(1, num_epochs+1):\n",
        "    epoch_start_time = time.time()\n",
        "    # Training\n",
        "    train_acc, train_loss = train(model, optimizer, criterion, train_dataloader, device, epoch)\n",
        "    train_accs.append(train_acc)\n",
        "    train_losses.append(train_loss)\n",
        "\n",
        "    # Evaluation\n",
        "    eval_acc, eval_loss = evaluate(model, criterion, valid_dataloader)\n",
        "    eval_accs.append(eval_acc)\n",
        "    eval_losses.append(eval_loss)\n",
        "\n",
        "    # Save best model\n",
        "    if eval_loss < best_loss_eval:\n",
        "        torch.save(model.state_dict(), save_model + '/text_cnn_model.pt')\n",
        "\n",
        "    # Print loss, acc end epoch\n",
        "    print(\"-\" * 59)\n",
        "    print(\n",
        "        \"| End of epoch {:3d} | Time: {:5.2f}s | Train Accuracy {:8.3f} | Train Loss {:8.3f} \"\n",
        "        \"| Valid Accuracy {:8.3f} | Valid Loss {:8.3f} \".format(\n",
        "            epoch, time.time() - epoch_start_time, train_acc, train_loss, eval_acc, eval_loss\n",
        "        )\n",
        "    )\n",
        "    print(\"-\" * 59)\n",
        "\n",
        "    # Load best model\n",
        "    model.load_state_dict(torch.load(save_model + '/text_cnn_model.pt'))\n",
        "    model.eval()"
      ]
    },
    {
      "cell_type": "code",
      "execution_count": 35,
      "metadata": {
        "colab": {
          "base_uri": "https://localhost:8080/",
          "height": 542
        },
        "id": "LriFfSAFcqeO",
        "outputId": "1156c1c4-c824-4c42-d258-b69b096a2481"
      },
      "outputs": [
        {
          "data": {
            "image/png": "[encoded data removed]",
            "text/plain": [
              "<Figure size 1200x600 with 2 Axes>"
            ]
          },
          "metadata": {},
          "output_type": "display_data"
        }
      ],
      "source": [
        "def plot_result(num_epochs, train_accs, eval_accs, train_losses, eval_losses):\n",
        "    epochs = list(range(num_epochs))\n",
        "    fig, axs = plt.subplots(nrows = 1, ncols =2 , figsize = (12,6))\n",
        "    axs[0].plot(epochs, train_accs, label = \"Training\")\n",
        "    axs[0].plot(epochs, eval_accs, label = \"Evaluation\")\n",
        "    axs[1].plot(epochs, train_losses, label = \"Training\")\n",
        "    axs[1].plot(epochs, eval_losses, label = \"Evaluation\")\n",
        "    axs[0].set_xlabel(\"Epochs\")\n",
        "    axs[1].set_xlabel(\"Epochs\")\n",
        "    axs[0].set_ylabel(\"Accuracy\")\n",
        "    axs[1].set_ylabel(\"Loss\")\n",
        "    plt.legend()\n",
        "\n",
        "plot_result(num_epochs, train_accs, eval_accs, train_losses, eval_losses)"
      ]
    },
    {
      "cell_type": "markdown",
      "metadata": {
        "id": "xIuqLpSOc2VM"
      },
      "source": [
        "###**3.9. Evaluation & Prediction**"
      ]
    },
    {
      "cell_type": "code",
      "execution_count": 36,
      "metadata": {
        "id": "bvizpBBlc166"
      },
      "outputs": [],
      "source": [
        "test_dataset = prepare_dataset(test_df)\n",
        "test_dataset = to_map_style_dataset(test_dataset)"
      ]
    },
    {
      "cell_type": "code",
      "execution_count": 37,
      "metadata": {
        "id": "gChIFVAQc-5R"
      },
      "outputs": [],
      "source": [
        "test_dataloader = DataLoader(\n",
        "    test_dataset,\n",
        "    batch_size=batch_size,\n",
        "    shuffle=False,\n",
        "    collate_fn=collate_batch\n",
        ")"
      ]
    },
    {
      "cell_type": "code",
      "execution_count": 38,
      "metadata": {
        "colab": {
          "base_uri": "https://localhost:8080/"
        },
        "id": "2Tw96VDYdIX-",
        "outputId": "0d28dd39-10f0-44ea-849b-e6b1729ece15"
      },
      "outputs": [
        {
          "data": {
            "text/plain": [
              "(0.8844, 0.4193266212374349)"
            ]
          },
          "execution_count": 38,
          "metadata": {},
          "output_type": "execute_result"
        }
      ],
      "source": [
        "test_acc, test_loss = evaluate(model, criterion, valid_dataloader)\n",
        "test_acc, test_loss"
      ]
    }
  ],
  "metadata": {
    "colab": {
      "provenance": [],
      "toc_visible": true
    },
    "kernelspec": {
      "display_name": "Python 3",
      "name": "python3"
    },
    "language_info": {
      "codemirror_mode": {
        "name": "ipython",
        "version": 3
      },
      "file_extension": ".py",
      "mimetype": "text/x-python",
      "name": "python",
      "nbconvert_exporter": "python",
      "pygments_lexer": "ipython3",
      "version": "3.9.18"
    }
  },
  "nbformat": 4,
  "nbformat_minor": 0
}
