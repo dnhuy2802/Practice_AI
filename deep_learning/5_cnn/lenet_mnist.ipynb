{
  "cells": [
    {
      "cell_type": "code",
      "execution_count": 1,
      "metadata": {
        "id": "jJmaFmQJILIG"
      },
      "outputs": [
        {
          "data": {
            "text/plain": [
              "device(type='cuda', index=0)"
            ]
          },
          "execution_count": 1,
          "metadata": {},
          "output_type": "execute_result"
        }
      ],
      "source": [
        "import os\n",
        "import random\n",
        "import numpy as np\n",
        "\n",
        "import torch\n",
        "import torch.nn as nn\n",
        "import torch.optim as optim\n",
        "import torch.nn.functional as F\n",
        "import torch.utils.data as data\n",
        "\n",
        "import torchvision.transforms as transforms\n",
        "import torchvision.datasets as datasets\n",
        "\n",
        "from torchsummary import summary\n",
        "\n",
        "import matplotlib.pyplot as plt\n",
        "from PIL import Image\n",
        "\n",
        "device = torch.device(\"cuda:0\" if torch.cuda.is_available() else \"cpu\")\n",
        "device"
      ]
    },
    {
      "cell_type": "code",
      "execution_count": 2,
      "metadata": {
        "id": "tAoT7bubJGAO"
      },
      "outputs": [],
      "source": [
        "SEED = 1\n",
        "\n",
        "random.seed(SEED)\n",
        "np.random.seed(SEED)\n",
        "torch.manual_seed(SEED)\n",
        "torch.cuda.manual_seed(SEED)\n",
        "torch.backends.cudnn.deterministic = True"
      ]
    },
    {
      "cell_type": "markdown",
      "metadata": {
        "id": "8tWPP-JtKPnQ"
      },
      "source": [
        "###**2.1. MNIST Dataset**"
      ]
    },
    {
      "cell_type": "markdown",
      "metadata": {
        "id": "yfr1w-srKVUo"
      },
      "source": [
        "####**2.1.1. Load Dataset**"
      ]
    },
    {
      "cell_type": "code",
      "execution_count": 3,
      "metadata": {
        "id": "xWOIFp7SJQmk"
      },
      "outputs": [],
      "source": [
        "ROOT = 'data'\n",
        "\n",
        "train_data = datasets.MNIST(\n",
        "    root=ROOT,\n",
        "    train=True,\n",
        "    download=True\n",
        ")\n",
        "\n",
        "test_data = datasets.MNIST(\n",
        "    root=ROOT,\n",
        "    train=False,\n",
        "    download=True\n",
        "    )"
      ]
    },
    {
      "cell_type": "code",
      "execution_count": 4,
      "metadata": {
        "colab": {
          "base_uri": "https://localhost:8080/"
        },
        "id": "3kEX91UaK0Dl",
        "outputId": "09e12343-cc2c-45e3-dcd9-793573552931"
      },
      "outputs": [
        {
          "data": {
            "text/plain": [
              "tensor([[[0, 0, 0,  ..., 0, 0, 0],\n",
              "         [0, 0, 0,  ..., 0, 0, 0],\n",
              "         [0, 0, 0,  ..., 0, 0, 0],\n",
              "         ...,\n",
              "         [0, 0, 0,  ..., 0, 0, 0],\n",
              "         [0, 0, 0,  ..., 0, 0, 0],\n",
              "         [0, 0, 0,  ..., 0, 0, 0]],\n",
              "\n",
              "        [[0, 0, 0,  ..., 0, 0, 0],\n",
              "         [0, 0, 0,  ..., 0, 0, 0],\n",
              "         [0, 0, 0,  ..., 0, 0, 0],\n",
              "         ...,\n",
              "         [0, 0, 0,  ..., 0, 0, 0],\n",
              "         [0, 0, 0,  ..., 0, 0, 0],\n",
              "         [0, 0, 0,  ..., 0, 0, 0]],\n",
              "\n",
              "        [[0, 0, 0,  ..., 0, 0, 0],\n",
              "         [0, 0, 0,  ..., 0, 0, 0],\n",
              "         [0, 0, 0,  ..., 0, 0, 0],\n",
              "         ...,\n",
              "         [0, 0, 0,  ..., 0, 0, 0],\n",
              "         [0, 0, 0,  ..., 0, 0, 0],\n",
              "         [0, 0, 0,  ..., 0, 0, 0]],\n",
              "\n",
              "        ...,\n",
              "\n",
              "        [[0, 0, 0,  ..., 0, 0, 0],\n",
              "         [0, 0, 0,  ..., 0, 0, 0],\n",
              "         [0, 0, 0,  ..., 0, 0, 0],\n",
              "         ...,\n",
              "         [0, 0, 0,  ..., 0, 0, 0],\n",
              "         [0, 0, 0,  ..., 0, 0, 0],\n",
              "         [0, 0, 0,  ..., 0, 0, 0]],\n",
              "\n",
              "        [[0, 0, 0,  ..., 0, 0, 0],\n",
              "         [0, 0, 0,  ..., 0, 0, 0],\n",
              "         [0, 0, 0,  ..., 0, 0, 0],\n",
              "         ...,\n",
              "         [0, 0, 0,  ..., 0, 0, 0],\n",
              "         [0, 0, 0,  ..., 0, 0, 0],\n",
              "         [0, 0, 0,  ..., 0, 0, 0]],\n",
              "\n",
              "        [[0, 0, 0,  ..., 0, 0, 0],\n",
              "         [0, 0, 0,  ..., 0, 0, 0],\n",
              "         [0, 0, 0,  ..., 0, 0, 0],\n",
              "         ...,\n",
              "         [0, 0, 0,  ..., 0, 0, 0],\n",
              "         [0, 0, 0,  ..., 0, 0, 0],\n",
              "         [0, 0, 0,  ..., 0, 0, 0]]], dtype=torch.uint8)"
            ]
          },
          "execution_count": 4,
          "metadata": {},
          "output_type": "execute_result"
        }
      ],
      "source": [
        "train_data.data"
      ]
    },
    {
      "cell_type": "code",
      "execution_count": 5,
      "metadata": {
        "colab": {
          "base_uri": "https://localhost:8080/"
        },
        "id": "D0ER4JE-Kv2k",
        "outputId": "5f8bd167-a96b-45ff-8631-e8eaec651a6f"
      },
      "outputs": [
        {
          "data": {
            "text/plain": [
              "torch.Size([60000, 28, 28])"
            ]
          },
          "execution_count": 5,
          "metadata": {},
          "output_type": "execute_result"
        }
      ],
      "source": [
        "train_data.data.shape"
      ]
    },
    {
      "cell_type": "code",
      "execution_count": 6,
      "metadata": {
        "colab": {
          "base_uri": "https://localhost:8080/"
        },
        "id": "07s7IYzMJbO4",
        "outputId": "c8fce755-8179-4e1c-ecca-5af9f4bf7237"
      },
      "outputs": [
        {
          "data": {
            "text/plain": [
              "['0 - zero',\n",
              " '1 - one',\n",
              " '2 - two',\n",
              " '3 - three',\n",
              " '4 - four',\n",
              " '5 - five',\n",
              " '6 - six',\n",
              " '7 - seven',\n",
              " '8 - eight',\n",
              " '9 - nine']"
            ]
          },
          "execution_count": 6,
          "metadata": {},
          "output_type": "execute_result"
        }
      ],
      "source": [
        "train_data.classes"
      ]
    },
    {
      "cell_type": "code",
      "execution_count": 7,
      "metadata": {
        "colab": {
          "base_uri": "https://localhost:8080/"
        },
        "id": "TV9RgPGyK1m5",
        "outputId": "56aa1b22-d74b-4ce8-8f15-2af90928e062"
      },
      "outputs": [
        {
          "data": {
            "text/plain": [
              "tensor([5, 0, 4,  ..., 5, 6, 8])"
            ]
          },
          "execution_count": 7,
          "metadata": {},
          "output_type": "execute_result"
        }
      ],
      "source": [
        "train_data.targets"
      ]
    },
    {
      "cell_type": "code",
      "execution_count": 8,
      "metadata": {
        "colab": {
          "base_uri": "https://localhost:8080/"
        },
        "id": "8ahIkNplPPRt",
        "outputId": "3a90e4e5-4421-45e1-98b6-b67e5b44d8cf"
      },
      "outputs": [
        {
          "data": {
            "text/plain": [
              "torch.Size([60000])"
            ]
          },
          "execution_count": 8,
          "metadata": {},
          "output_type": "execute_result"
        }
      ],
      "source": [
        "train_data.targets.shape"
      ]
    },
    {
      "cell_type": "code",
      "execution_count": 9,
      "metadata": {
        "colab": {
          "base_uri": "https://localhost:8080/"
        },
        "id": "27KjQATRPUpp",
        "outputId": "c961be75-c878-4845-a7c9-eacdbae5cd41"
      },
      "outputs": [
        {
          "data": {
            "text/plain": [
              "tensor([[[0, 0, 0,  ..., 0, 0, 0],\n",
              "         [0, 0, 0,  ..., 0, 0, 0],\n",
              "         [0, 0, 0,  ..., 0, 0, 0],\n",
              "         ...,\n",
              "         [0, 0, 0,  ..., 0, 0, 0],\n",
              "         [0, 0, 0,  ..., 0, 0, 0],\n",
              "         [0, 0, 0,  ..., 0, 0, 0]],\n",
              "\n",
              "        [[0, 0, 0,  ..., 0, 0, 0],\n",
              "         [0, 0, 0,  ..., 0, 0, 0],\n",
              "         [0, 0, 0,  ..., 0, 0, 0],\n",
              "         ...,\n",
              "         [0, 0, 0,  ..., 0, 0, 0],\n",
              "         [0, 0, 0,  ..., 0, 0, 0],\n",
              "         [0, 0, 0,  ..., 0, 0, 0]],\n",
              "\n",
              "        [[0, 0, 0,  ..., 0, 0, 0],\n",
              "         [0, 0, 0,  ..., 0, 0, 0],\n",
              "         [0, 0, 0,  ..., 0, 0, 0],\n",
              "         ...,\n",
              "         [0, 0, 0,  ..., 0, 0, 0],\n",
              "         [0, 0, 0,  ..., 0, 0, 0],\n",
              "         [0, 0, 0,  ..., 0, 0, 0]],\n",
              "\n",
              "        ...,\n",
              "\n",
              "        [[0, 0, 0,  ..., 0, 0, 0],\n",
              "         [0, 0, 0,  ..., 0, 0, 0],\n",
              "         [0, 0, 0,  ..., 0, 0, 0],\n",
              "         ...,\n",
              "         [0, 0, 0,  ..., 0, 0, 0],\n",
              "         [0, 0, 0,  ..., 0, 0, 0],\n",
              "         [0, 0, 0,  ..., 0, 0, 0]],\n",
              "\n",
              "        [[0, 0, 0,  ..., 0, 0, 0],\n",
              "         [0, 0, 0,  ..., 0, 0, 0],\n",
              "         [0, 0, 0,  ..., 0, 0, 0],\n",
              "         ...,\n",
              "         [0, 0, 0,  ..., 0, 0, 0],\n",
              "         [0, 0, 0,  ..., 0, 0, 0],\n",
              "         [0, 0, 0,  ..., 0, 0, 0]],\n",
              "\n",
              "        [[0, 0, 0,  ..., 0, 0, 0],\n",
              "         [0, 0, 0,  ..., 0, 0, 0],\n",
              "         [0, 0, 0,  ..., 0, 0, 0],\n",
              "         ...,\n",
              "         [0, 0, 0,  ..., 0, 0, 0],\n",
              "         [0, 0, 0,  ..., 0, 0, 0],\n",
              "         [0, 0, 0,  ..., 0, 0, 0]]], dtype=torch.uint8)"
            ]
          },
          "execution_count": 9,
          "metadata": {},
          "output_type": "execute_result"
        }
      ],
      "source": [
        "test_data.data"
      ]
    },
    {
      "cell_type": "code",
      "execution_count": 10,
      "metadata": {
        "colab": {
          "base_uri": "https://localhost:8080/"
        },
        "id": "gRlxW_4BPYrt",
        "outputId": "65e60e8d-bd72-46bd-f279-f0fdb57b9b9f"
      },
      "outputs": [
        {
          "data": {
            "text/plain": [
              "torch.Size([10000, 28, 28])"
            ]
          },
          "execution_count": 10,
          "metadata": {},
          "output_type": "execute_result"
        }
      ],
      "source": [
        "test_data.data.shape"
      ]
    },
    {
      "cell_type": "code",
      "execution_count": 11,
      "metadata": {
        "id": "3KLtyGwDLtLz"
      },
      "outputs": [],
      "source": [
        "# plot images\n",
        "def plot_images(images):\n",
        "\n",
        "    n_images = len(images)\n",
        "\n",
        "    rows = int(np.sqrt(n_images))\n",
        "    cols = int(np.sqrt(n_images))\n",
        "\n",
        "    fig = plt.figure()\n",
        "    for i in range(rows*cols):\n",
        "        ax = fig.add_subplot(rows, cols, i+1)\n",
        "        ax.imshow(images[i], cmap='bone')\n",
        "        ax.axis('off')"
      ]
    },
    {
      "cell_type": "code",
      "execution_count": 12,
      "metadata": {
        "colab": {
          "base_uri": "https://localhost:8080/",
          "height": 406
        },
        "id": "5IVki9nPLveR",
        "outputId": "7c3397bc-4e4f-4771-8adc-a57cfdb5b4b1"
      },
      "outputs": [
        {
          "data": {
            "image/png": "[encoded data removed]",
            "text/plain": [
              "<Figure size 640x480 with 25 Axes>"
            ]
          },
          "metadata": {},
          "output_type": "display_data"
        }
      ],
      "source": [
        "N_IMAGES = 25\n",
        "\n",
        "images = [image for image, label in [train_data[i] for i in range(N_IMAGES)]]\n",
        "\n",
        "plot_images(images)"
      ]
    },
    {
      "cell_type": "markdown",
      "metadata": {
        "id": "dP1mUVihPf8r"
      },
      "source": [
        "####**2.1.2. Preprocessing**"
      ]
    },
    {
      "cell_type": "markdown",
      "metadata": {
        "id": "cwbCd6jTPzve"
      },
      "source": [
        "**Train: Valid = 0.9 : 0.1**"
      ]
    },
    {
      "cell_type": "code",
      "execution_count": 13,
      "metadata": {
        "id": "ij4gc7imPklD"
      },
      "outputs": [],
      "source": [
        "VALID_RATIO = 0.9\n",
        "\n",
        "n_train_examples = int(len(train_data) * VALID_RATIO)\n",
        "n_valid_examples = len(train_data) - n_train_examples"
      ]
    },
    {
      "cell_type": "code",
      "execution_count": 14,
      "metadata": {
        "id": "FMGvhhTfP6dS"
      },
      "outputs": [],
      "source": [
        "train_data, valid_data = data.random_split(\n",
        "    train_data,\n",
        "    [n_train_examples, n_valid_examples]\n",
        ")"
      ]
    },
    {
      "cell_type": "code",
      "execution_count": 15,
      "metadata": {
        "colab": {
          "base_uri": "https://localhost:8080/"
        },
        "id": "dWt2EIyqQBE0",
        "outputId": "4074be2a-e4f2-44cc-817b-c2c143cd51fd"
      },
      "outputs": [
        {
          "data": {
            "text/plain": [
              "54000"
            ]
          },
          "execution_count": 15,
          "metadata": {},
          "output_type": "execute_result"
        }
      ],
      "source": [
        "len(train_data)"
      ]
    },
    {
      "cell_type": "code",
      "execution_count": 16,
      "metadata": {
        "colab": {
          "base_uri": "https://localhost:8080/"
        },
        "id": "hB2oZd4QQCz8",
        "outputId": "a977b087-6206-4083-fcb5-0db2d0b005ba"
      },
      "outputs": [
        {
          "data": {
            "text/plain": [
              "6000"
            ]
          },
          "execution_count": 16,
          "metadata": {},
          "output_type": "execute_result"
        }
      ],
      "source": [
        "len(valid_data)"
      ]
    },
    {
      "cell_type": "markdown",
      "metadata": {
        "id": "H_lOs2vvQNM1"
      },
      "source": [
        "**Preprocessing with `transforms`**\n",
        "\n",
        "- Normalization (mean, sdt)\n",
        "- Convert to tensor"
      ]
    },
    {
      "cell_type": "code",
      "execution_count": 17,
      "metadata": {
        "colab": {
          "base_uri": "https://localhost:8080/"
        },
        "id": "r2Gx_B58QtgB",
        "outputId": "8ed769c1-067d-497d-8603-ec2dee9843f8"
      },
      "outputs": [
        {
          "data": {
            "text/plain": [
              "(tensor(0.1307), tensor(0.3081))"
            ]
          },
          "execution_count": 17,
          "metadata": {},
          "output_type": "execute_result"
        }
      ],
      "source": [
        "# compute mean and std\n",
        "mean = train_data.dataset.data.float().mean() / 255\n",
        "std = train_data.dataset.data.float().std() / 255\n",
        "mean, std"
      ]
    },
    {
      "cell_type": "code",
      "execution_count": 18,
      "metadata": {
        "id": "QKkYT_zYQgGx"
      },
      "outputs": [],
      "source": [
        "train_transforms = transforms.Compose([\n",
        "    transforms.ToTensor(),\n",
        "    transforms.Normalize(mean=[mean], std=[std])\n",
        "])\n",
        "\n",
        "test_transforms = transforms.Compose([\n",
        "    transforms.ToTensor(),\n",
        "    transforms.Normalize(mean=[mean], std=[std])\n",
        "])"
      ]
    },
    {
      "cell_type": "code",
      "execution_count": 19,
      "metadata": {
        "id": "YOEghhuXROXq"
      },
      "outputs": [],
      "source": [
        "train_data.dataset.transform = train_transforms\n",
        "valid_data.dataset.transform = test_transforms"
      ]
    },
    {
      "cell_type": "markdown",
      "metadata": {
        "id": "JI8v7eNNRsWQ"
      },
      "source": [
        "####**2.1.3. Dataloader**"
      ]
    },
    {
      "cell_type": "code",
      "execution_count": 20,
      "metadata": {
        "id": "Tb0TYIR2R5D3"
      },
      "outputs": [],
      "source": [
        "BATCH_SIZE = 256\n",
        "\n",
        "train_dataloader = data.DataLoader(\n",
        "    train_data,\n",
        "    shuffle=True,\n",
        "    batch_size=BATCH_SIZE\n",
        ")\n",
        "\n",
        "valid_dataloader = data.DataLoader(\n",
        "    valid_data,\n",
        "    batch_size=BATCH_SIZE\n",
        ")"
      ]
    },
    {
      "cell_type": "code",
      "execution_count": 21,
      "metadata": {
        "colab": {
          "base_uri": "https://localhost:8080/"
        },
        "id": "-7TULECESDIq",
        "outputId": "05fa1449-a954-491e-f643-59da4728c0a5"
      },
      "outputs": [
        {
          "data": {
            "text/plain": [
              "211"
            ]
          },
          "execution_count": 21,
          "metadata": {},
          "output_type": "execute_result"
        }
      ],
      "source": [
        "len(train_dataloader)"
      ]
    },
    {
      "cell_type": "code",
      "execution_count": 22,
      "metadata": {
        "colab": {
          "base_uri": "https://localhost:8080/"
        },
        "id": "n70sWymASESK",
        "outputId": "108c4888-c108-476b-e2bd-a54049d62d67"
      },
      "outputs": [
        {
          "data": {
            "text/plain": [
              "torch.Size([256, 1, 28, 28])"
            ]
          },
          "execution_count": 22,
          "metadata": {},
          "output_type": "execute_result"
        }
      ],
      "source": [
        "next(iter(train_dataloader))[0].shape"
      ]
    },
    {
      "cell_type": "code",
      "execution_count": 32,
      "metadata": {
        "id": "uLkjDOO3V5cM"
      },
      "outputs": [],
      "source": [
        "inputs, labels = next(iter(train_dataloader))\n",
        "\n",
        "# input and lable to device\n",
        "inputs = inputs.to(device)\n",
        "labels = labels.to(device)"
      ]
    },
    {
      "cell_type": "markdown",
      "metadata": {
        "id": "DPnLdr2USOmj"
      },
      "source": [
        "####**2.1.4. Model**"
      ]
    },
    {
      "cell_type": "code",
      "execution_count": 24,
      "metadata": {
        "id": "GALD0LY_SReo"
      },
      "outputs": [],
      "source": [
        "class LeNetClassifier(nn.Module):\n",
        "    def __init__(self, num_classes):\n",
        "        super().__init__()\n",
        "        self.conv1 = nn.Conv2d(in_channels=1, out_channels=6, kernel_size=5, padding='same')\n",
        "        self.avgpool1 = nn.AvgPool2d(kernel_size=2)\n",
        "        self.conv2 = nn.Conv2d(in_channels=6, out_channels=16, kernel_size=5)\n",
        "        self.avgpool2 = nn.AvgPool2d(kernel_size=2)\n",
        "        self.flatten = nn.Flatten()\n",
        "        self.fc_1 = nn.Linear(16 * 5 * 5, 120)\n",
        "        self.fc_2 = nn.Linear(120, 84)\n",
        "        self.fc_3 = nn.Linear(84, num_classes)\n",
        "\n",
        "    def forward(self, inputs):\n",
        "        outputs = self.conv1(inputs)\n",
        "        outputs = self.avgpool1(outputs)\n",
        "        outputs = F.relu(outputs)\n",
        "\n",
        "        outputs = self.conv2(outputs)\n",
        "        outputs = self.avgpool2(outputs)\n",
        "        outputs = F.relu(outputs)\n",
        "        \n",
        "        outputs = self.flatten(outputs)\n",
        "        outputs = self.fc_1(outputs)\n",
        "        outputs = self.fc_2(outputs)\n",
        "        outputs = self.fc_3(outputs)\n",
        "        return outputs"
      ]
    },
    {
      "cell_type": "code",
      "execution_count": 25,
      "metadata": {
        "colab": {
          "base_uri": "https://localhost:8080/"
        },
        "id": "WdDm2-qqVi3X",
        "outputId": "ccfff492-8e95-4811-a333-63751876d5af"
      },
      "outputs": [
        {
          "data": {
            "text/plain": [
              "10"
            ]
          },
          "execution_count": 25,
          "metadata": {},
          "output_type": "execute_result"
        }
      ],
      "source": [
        "num_classes = len(train_data.dataset.classes)\n",
        "num_classes"
      ]
    },
    {
      "cell_type": "code",
      "execution_count": 26,
      "metadata": {
        "id": "ym64TchxVtWb"
      },
      "outputs": [],
      "source": [
        "lenet_model = LeNetClassifier(num_classes)"
      ]
    },
    {
      "cell_type": "code",
      "execution_count": 27,
      "metadata": {
        "colab": {
          "base_uri": "https://localhost:8080/"
        },
        "id": "G6yDX6u-VzY5",
        "outputId": "65196dc1-43be-4fc2-afe1-93efe2527b84"
      },
      "outputs": [
        {
          "data": {
            "text/plain": [
              "LeNetClassifier(\n",
              "  (conv1): Conv2d(1, 6, kernel_size=(5, 5), stride=(1, 1), padding=same)\n",
              "  (avgpool1): AvgPool2d(kernel_size=2, stride=2, padding=0)\n",
              "  (conv2): Conv2d(6, 16, kernel_size=(5, 5), stride=(1, 1))\n",
              "  (avgpool2): AvgPool2d(kernel_size=2, stride=2, padding=0)\n",
              "  (flatten): Flatten(start_dim=1, end_dim=-1)\n",
              "  (fc_1): Linear(in_features=400, out_features=120, bias=True)\n",
              "  (fc_2): Linear(in_features=120, out_features=84, bias=True)\n",
              "  (fc_3): Linear(in_features=84, out_features=10, bias=True)\n",
              ")"
            ]
          },
          "execution_count": 27,
          "metadata": {},
          "output_type": "execute_result"
        }
      ],
      "source": [
        "# move model to GPU\n",
        "lenet_model.to(device)"
      ]
    },
    {
      "cell_type": "code",
      "execution_count": 28,
      "metadata": {
        "colab": {
          "base_uri": "https://localhost:8080/"
        },
        "id": "A-xYoFLnWS9K",
        "outputId": "933c2fe9-ec1b-4ed7-83b0-4be12727f80f"
      },
      "outputs": [
        {
          "name": "stdout",
          "output_type": "stream",
          "text": [
            "----------------------------------------------------------------\n",
            "        Layer (type)               Output Shape         Param #\n",
            "================================================================\n",
            "            Conv2d-1            [-1, 6, 28, 28]             156\n",
            "         AvgPool2d-2            [-1, 6, 14, 14]               0\n",
            "            Conv2d-3           [-1, 16, 10, 10]           2,416\n",
            "         AvgPool2d-4             [-1, 16, 5, 5]               0\n",
            "           Flatten-5                  [-1, 400]               0\n",
            "            Linear-6                  [-1, 120]          48,120\n",
            "            Linear-7                   [-1, 84]          10,164\n",
            "            Linear-8                   [-1, 10]             850\n",
            "================================================================\n",
            "Total params: 61,706\n",
            "Trainable params: 61,706\n",
            "Non-trainable params: 0\n",
            "----------------------------------------------------------------\n",
            "Input size (MB): 0.00\n",
            "Forward/backward pass size (MB): 0.06\n",
            "Params size (MB): 0.24\n",
            "Estimated Total Size (MB): 0.30\n",
            "----------------------------------------------------------------\n"
          ]
        }
      ],
      "source": [
        "summary(lenet_model, (1, 28, 28))"
      ]
    },
    {
      "cell_type": "code",
      "execution_count": 33,
      "metadata": {
        "colab": {
          "base_uri": "https://localhost:8080/"
        },
        "id": "a8EOsrtRV9nW",
        "outputId": "86fcf702-ff0a-43da-89e0-3a9320305128"
      },
      "outputs": [],
      "source": [
        "predictions = lenet_model(inputs)"
      ]
    },
    {
      "cell_type": "code",
      "execution_count": 34,
      "metadata": {
        "colab": {
          "base_uri": "https://localhost:8080/"
        },
        "id": "S27wlmHmWGTJ",
        "outputId": "3e211e83-833e-4023-cc4b-144e1ce4f74d"
      },
      "outputs": [
        {
          "data": {
            "text/plain": [
              "torch.Size([256, 10])"
            ]
          },
          "execution_count": 34,
          "metadata": {},
          "output_type": "execute_result"
        }
      ],
      "source": [
        "predictions.shape"
      ]
    },
    {
      "cell_type": "markdown",
      "metadata": {
        "id": "o4jdoykKWr0O"
      },
      "source": [
        "####**2.1.5. Loss & Optimizer**"
      ]
    },
    {
      "cell_type": "code",
      "execution_count": 35,
      "metadata": {
        "id": "8Qkz5PtuXCC9"
      },
      "outputs": [],
      "source": [
        "optimizer = optim.Adam(lenet_model.parameters())"
      ]
    },
    {
      "cell_type": "code",
      "execution_count": 36,
      "metadata": {
        "id": "wm9th4AOXGzP"
      },
      "outputs": [],
      "source": [
        "criterion = nn.CrossEntropyLoss()"
      ]
    },
    {
      "cell_type": "code",
      "execution_count": 37,
      "metadata": {
        "colab": {
          "base_uri": "https://localhost:8080/"
        },
        "id": "q2pQ6h41XHlB",
        "outputId": "ee0e756c-5411-4dac-d7d0-01401cf050e9"
      },
      "outputs": [
        {
          "data": {
            "text/plain": [
              "tensor(2.3068, device='cuda:0', grad_fn=<NllLossBackward0>)"
            ]
          },
          "execution_count": 37,
          "metadata": {},
          "output_type": "execute_result"
        }
      ],
      "source": [
        "loss = criterion(predictions, labels)\n",
        "loss"
      ]
    },
    {
      "cell_type": "code",
      "execution_count": 38,
      "metadata": {
        "id": "YjBQ4NkeYJTh"
      },
      "outputs": [],
      "source": [
        "device = torch.device('cuda' if torch.cuda.is_available() else 'cpu')"
      ]
    },
    {
      "cell_type": "code",
      "execution_count": 39,
      "metadata": {
        "colab": {
          "base_uri": "https://localhost:8080/"
        },
        "id": "yDbPj7htYK59",
        "outputId": "2a52ed3d-cb08-45b7-bcbf-1dfab9802952"
      },
      "outputs": [
        {
          "data": {
            "text/plain": [
              "LeNetClassifier(\n",
              "  (conv1): Conv2d(1, 6, kernel_size=(5, 5), stride=(1, 1), padding=same)\n",
              "  (avgpool1): AvgPool2d(kernel_size=2, stride=2, padding=0)\n",
              "  (conv2): Conv2d(6, 16, kernel_size=(5, 5), stride=(1, 1))\n",
              "  (avgpool2): AvgPool2d(kernel_size=2, stride=2, padding=0)\n",
              "  (flatten): Flatten(start_dim=1, end_dim=-1)\n",
              "  (fc_1): Linear(in_features=400, out_features=120, bias=True)\n",
              "  (fc_2): Linear(in_features=120, out_features=84, bias=True)\n",
              "  (fc_3): Linear(in_features=84, out_features=10, bias=True)\n",
              ")"
            ]
          },
          "execution_count": 39,
          "metadata": {},
          "output_type": "execute_result"
        }
      ],
      "source": [
        "lenet_model.to(device)"
      ]
    },
    {
      "cell_type": "markdown",
      "metadata": {
        "id": "Y0IMn0gmXVJm"
      },
      "source": [
        "####**2.1.6. Trainer**"
      ]
    },
    {
      "cell_type": "code",
      "execution_count": 43,
      "metadata": {
        "id": "aflP4CKEXYph"
      },
      "outputs": [],
      "source": [
        "import time\n",
        "\n",
        "def train(model, optimizer, criterion, train_dataloader, device, epoch=0, log_interval=50):\n",
        "    model.train()\n",
        "    total_acc, total_count = 0, 0\n",
        "    losses = []\n",
        "    start_time = time.time()\n",
        "\n",
        "    for idx, (inputs, labels) in enumerate(train_dataloader):\n",
        "        inputs = inputs.to(device)\n",
        "        labels = labels.to(device)\n",
        "\n",
        "        optimizer.zero_grad()\n",
        "\n",
        "        predictions = model(inputs)\n",
        "\n",
        "        # compute loss\n",
        "        loss = criterion(predictions, labels)\n",
        "        losses.append(loss.item())\n",
        "\n",
        "        # backward\n",
        "        loss.backward()\n",
        "        torch.nn.utils.clip_grad_norm_(model.parameters(), 0.1)\n",
        "        optimizer.step()\n",
        "        total_acc += (predictions.argmax(1) == labels).sum().item()\n",
        "        total_count += labels.size(0)\n",
        "        if idx % log_interval == 0 and idx > 0:\n",
        "            elapsed = time.time() - start_time\n",
        "            print(\n",
        "                \"| epoch {:3d} | {:5d}/{:5d} batches \"\n",
        "                \"| accuracy {:8.3f}\".format(\n",
        "                    epoch, idx, len(train_dataloader), total_acc / total_count\n",
        "                )\n",
        "            )\n",
        "            total_acc, total_count = 0, 0\n",
        "            start_time = time.time()\n",
        "\n",
        "    epoch_acc = total_acc / total_count\n",
        "    epoch_loss = sum(losses) / len(losses)\n",
        "    return epoch_acc, epoch_loss"
      ]
    },
    {
      "cell_type": "code",
      "execution_count": 44,
      "metadata": {
        "colab": {
          "base_uri": "https://localhost:8080/"
        },
        "id": "9bywmOobYSAD",
        "outputId": "73bee8c6-d043-410f-ff72-5f7d3f6f154e"
      },
      "outputs": [
        {
          "name": "stdout",
          "output_type": "stream",
          "text": [
            "| epoch  10 |    50/  211 batches | accuracy    0.958\n",
            "| epoch  10 |   100/  211 batches | accuracy    0.961\n",
            "| epoch  10 |   150/  211 batches | accuracy    0.970\n",
            "| epoch  10 |   200/  211 batches | accuracy    0.968\n"
          ]
        }
      ],
      "source": [
        "train_acc, train_loss = train(lenet_model, optimizer, criterion, train_dataloader, device)"
      ]
    },
    {
      "cell_type": "code",
      "execution_count": 42,
      "metadata": {
        "colab": {
          "base_uri": "https://localhost:8080/"
        },
        "id": "dmxCnOpnYZFz",
        "outputId": "49735496-04c3-4762-bb87-aaec42bd9c0f"
      },
      "outputs": [
        {
          "data": {
            "text/plain": [
              "(0.9433962264150944, 0.47449824076269476)"
            ]
          },
          "execution_count": 42,
          "metadata": {},
          "output_type": "execute_result"
        }
      ],
      "source": [
        "train_acc, train_loss"
      ]
    },
    {
      "cell_type": "code",
      "execution_count": 45,
      "metadata": {
        "id": "jNBDeYPGYrEA"
      },
      "outputs": [],
      "source": [
        "def evaluate(model, criterion, valid_dataloader):\n",
        "    model.eval()\n",
        "    total_acc, total_count = 0, 0\n",
        "    losses = []\n",
        "\n",
        "    with torch.no_grad():\n",
        "        for idx, (inputs, labels) in enumerate(valid_dataloader):\n",
        "            inputs = inputs.to(device)\n",
        "            labels = labels.to(device)\n",
        "\n",
        "            predictions = model(inputs)\n",
        "\n",
        "            loss = criterion(predictions, labels)\n",
        "            losses.append(loss.item())\n",
        "\n",
        "            total_acc += (predictions.argmax(1) == labels).sum().item()\n",
        "            total_count += labels.size(0)\n",
        "\n",
        "    epoch_acc = total_acc / total_count\n",
        "    epoch_loss = sum(losses) / len(losses)\n",
        "    return epoch_acc, epoch_loss"
      ]
    },
    {
      "cell_type": "code",
      "execution_count": 46,
      "metadata": {
        "id": "6mXbz7MfY5QN"
      },
      "outputs": [],
      "source": [
        "eval_acc, eval_loss = evaluate(lenet_model, criterion, valid_dataloader)"
      ]
    },
    {
      "cell_type": "code",
      "execution_count": 47,
      "metadata": {
        "colab": {
          "base_uri": "https://localhost:8080/"
        },
        "id": "bu_E6dFzY8GW",
        "outputId": "f5fa00a9-9637-4c10-9f91-26b761c9b501"
      },
      "outputs": [
        {
          "data": {
            "text/plain": [
              "(0.9711666666666666, 0.08626679191365838)"
            ]
          },
          "execution_count": 47,
          "metadata": {},
          "output_type": "execute_result"
        }
      ],
      "source": [
        "eval_acc, eval_loss"
      ]
    },
    {
      "cell_type": "markdown",
      "metadata": {
        "id": "i6cWoLNQY-jJ"
      },
      "source": [
        "####**2.1.7. Training**"
      ]
    },
    {
      "cell_type": "code",
      "execution_count": 49,
      "metadata": {
        "colab": {
          "base_uri": "https://localhost:8080/"
        },
        "id": "wB3UxPW1ZCHS",
        "outputId": "30e2163b-a641-4118-8548-af7d39743a78"
      },
      "outputs": [
        {
          "name": "stdout",
          "output_type": "stream",
          "text": [
            "| epoch   1 |    50/  211 batches | accuracy    0.711\n",
            "| epoch   1 |   100/  211 batches | accuracy    0.892\n",
            "| epoch   1 |   150/  211 batches | accuracy    0.928\n",
            "| epoch   1 |   200/  211 batches | accuracy    0.945\n",
            "-----------------------------------------------------------\n",
            "| End of epoch   1 | Time:  8.35s | Train Accuracy    0.955 | Train Loss    0.441 | Valid Accuracy    0.956 | Valid Loss    0.142 \n",
            "-----------------------------------------------------------\n",
            "| epoch   2 |    50/  211 batches | accuracy    0.962\n",
            "| epoch   2 |   100/  211 batches | accuracy    0.965\n",
            "| epoch   2 |   150/  211 batches | accuracy    0.969\n",
            "| epoch   2 |   200/  211 batches | accuracy    0.969\n",
            "-----------------------------------------------------------\n",
            "| End of epoch   2 | Time:  8.29s | Train Accuracy    0.972 | Train Loss    0.111 | Valid Accuracy    0.968 | Valid Loss    0.099 \n",
            "-----------------------------------------------------------\n",
            "| epoch   3 |    50/  211 batches | accuracy    0.974\n",
            "| epoch   3 |   100/  211 batches | accuracy    0.975\n",
            "| epoch   3 |   150/  211 batches | accuracy    0.977\n",
            "| epoch   3 |   200/  211 batches | accuracy    0.977\n",
            "-----------------------------------------------------------\n",
            "| End of epoch   3 | Time:  8.29s | Train Accuracy    0.981 | Train Loss    0.081 | Valid Accuracy    0.977 | Valid Loss    0.073 \n",
            "-----------------------------------------------------------\n",
            "| epoch   4 |    50/  211 batches | accuracy    0.979\n",
            "| epoch   4 |   100/  211 batches | accuracy    0.979\n",
            "| epoch   4 |   150/  211 batches | accuracy    0.979\n",
            "| epoch   4 |   200/  211 batches | accuracy    0.979\n",
            "-----------------------------------------------------------\n",
            "| End of epoch   4 | Time:  8.33s | Train Accuracy    0.981 | Train Loss    0.068 | Valid Accuracy    0.975 | Valid Loss    0.075 \n",
            "-----------------------------------------------------------\n",
            "| epoch   5 |    50/  211 batches | accuracy    0.983\n",
            "| epoch   5 |   100/  211 batches | accuracy    0.983\n",
            "| epoch   5 |   150/  211 batches | accuracy    0.983\n",
            "| epoch   5 |   200/  211 batches | accuracy    0.981\n",
            "-----------------------------------------------------------\n",
            "| End of epoch   5 | Time:  8.29s | Train Accuracy    0.982 | Train Loss    0.058 | Valid Accuracy    0.979 | Valid Loss    0.068 \n",
            "-----------------------------------------------------------\n",
            "| epoch   6 |    50/  211 batches | accuracy    0.984\n",
            "| epoch   6 |   100/  211 batches | accuracy    0.982\n",
            "| epoch   6 |   150/  211 batches | accuracy    0.983\n",
            "| epoch   6 |   200/  211 batches | accuracy    0.986\n",
            "-----------------------------------------------------------\n",
            "| End of epoch   6 | Time:  8.24s | Train Accuracy    0.983 | Train Loss    0.052 | Valid Accuracy    0.982 | Valid Loss    0.057 \n",
            "-----------------------------------------------------------\n",
            "| epoch   7 |    50/  211 batches | accuracy    0.986\n",
            "| epoch   7 |   100/  211 batches | accuracy    0.984\n",
            "| epoch   7 |   150/  211 batches | accuracy    0.985\n",
            "| epoch   7 |   200/  211 batches | accuracy    0.985\n",
            "-----------------------------------------------------------\n",
            "| End of epoch   7 | Time:  8.26s | Train Accuracy    0.987 | Train Loss    0.048 | Valid Accuracy    0.981 | Valid Loss    0.057 \n",
            "-----------------------------------------------------------\n",
            "| epoch   8 |    50/  211 batches | accuracy    0.988\n",
            "| epoch   8 |   100/  211 batches | accuracy    0.989\n",
            "| epoch   8 |   150/  211 batches | accuracy    0.986\n",
            "| epoch   8 |   200/  211 batches | accuracy    0.985\n",
            "-----------------------------------------------------------\n",
            "| End of epoch   8 | Time:  8.51s | Train Accuracy    0.986 | Train Loss    0.044 | Valid Accuracy    0.986 | Valid Loss    0.047 \n",
            "-----------------------------------------------------------\n",
            "| epoch   9 |    50/  211 batches | accuracy    0.989\n",
            "| epoch   9 |   100/  211 batches | accuracy    0.989\n",
            "| epoch   9 |   150/  211 batches | accuracy    0.987\n",
            "| epoch   9 |   200/  211 batches | accuracy    0.987\n",
            "-----------------------------------------------------------\n",
            "| End of epoch   9 | Time:  8.38s | Train Accuracy    0.988 | Train Loss    0.039 | Valid Accuracy    0.981 | Valid Loss    0.063 \n",
            "-----------------------------------------------------------\n",
            "| epoch  10 |    50/  211 batches | accuracy    0.989\n",
            "| epoch  10 |   100/  211 batches | accuracy    0.989\n",
            "| epoch  10 |   150/  211 batches | accuracy    0.989\n",
            "| epoch  10 |   200/  211 batches | accuracy    0.988\n",
            "-----------------------------------------------------------\n",
            "| End of epoch  10 | Time:  8.67s | Train Accuracy    0.989 | Train Loss    0.037 | Valid Accuracy    0.984 | Valid Loss    0.055 \n",
            "-----------------------------------------------------------\n"
          ]
        }
      ],
      "source": [
        "num_classes = len(train_data.dataset.classes)\n",
        "\n",
        "device = torch.device('cuda' if torch.cuda.is_available() else 'cpu')\n",
        "\n",
        "lenet_model = LeNetClassifier(num_classes)\n",
        "lenet_model.to(device)\n",
        "\n",
        "criterion = torch.nn.CrossEntropyLoss()\n",
        "optimizer = optim.Adam(lenet_model.parameters())\n",
        "\n",
        "num_epochs = 10\n",
        "save_model = 'model'\n",
        "\n",
        "train_accs, train_losses = [], []\n",
        "eval_accs, eval_losses = [], []\n",
        "best_loss_eval = 100\n",
        "\n",
        "for epoch in range(1, num_epochs+1):\n",
        "    epoch_start_time = time.time()\n",
        "    # Training\n",
        "    train_acc, train_loss = train(lenet_model, optimizer, criterion, train_dataloader, device, epoch)\n",
        "    train_accs.append(train_acc)\n",
        "    train_losses.append(train_loss)\n",
        "\n",
        "    # Evaluation\n",
        "    eval_acc, eval_loss = evaluate(lenet_model, criterion, valid_dataloader)\n",
        "    eval_accs.append(eval_acc)\n",
        "    eval_losses.append(eval_loss)\n",
        "\n",
        "    # Save best model\n",
        "    if eval_loss < best_loss_eval:\n",
        "        torch.save(lenet_model.state_dict(), save_model + '/lenet_model.pt')\n",
        "\n",
        "    # Print loss, acc end epoch\n",
        "    print(\"-\" * 59)\n",
        "    print(\n",
        "        \"| End of epoch {:3d} | Time: {:5.2f}s | Train Accuracy {:8.3f} | Train Loss {:8.3f} \"\n",
        "        \"| Valid Accuracy {:8.3f} | Valid Loss {:8.3f} \".format(\n",
        "            epoch, time.time() - epoch_start_time, train_acc, train_loss, eval_acc, eval_loss\n",
        "        )\n",
        "    )\n",
        "    print(\"-\" * 59)\n",
        "\n",
        "    # Load best model\n",
        "    lenet_model.load_state_dict(torch.load(save_model + '/lenet_model.pt'))\n",
        "    lenet_model.eval()"
      ]
    },
    {
      "cell_type": "code",
      "execution_count": 50,
      "metadata": {
        "colab": {
          "base_uri": "https://localhost:8080/"
        },
        "id": "C9TE2wOlbco7",
        "outputId": "ab4af4c6-4d81-4db2-e5ae-012a3ff09d93"
      },
      "outputs": [
        {
          "data": {
            "text/plain": [
              "(0.9835, 0.05543358035113973)"
            ]
          },
          "execution_count": 50,
          "metadata": {},
          "output_type": "execute_result"
        }
      ],
      "source": [
        "eval_acc, eval_loss = evaluate(lenet_model, criterion, valid_dataloader)\n",
        "eval_acc, eval_loss"
      ]
    },
    {
      "cell_type": "code",
      "execution_count": 51,
      "metadata": {
        "colab": {
          "base_uri": "https://localhost:8080/",
          "height": 542
        },
        "id": "BvT_N3UmfMnY",
        "outputId": "b8cd0f9a-420d-47b7-df61-060cef6b6712"
      },
      "outputs": [
        {
          "data": {
            "image/png": "[encoded data removed]",
            "text/plain": [
              "<Figure size 1200x600 with 2 Axes>"
            ]
          },
          "metadata": {},
          "output_type": "display_data"
        }
      ],
      "source": [
        "def plot_result(num_epochs, train_accs, eval_accs, train_losses, eval_losses):\n",
        "    epochs = list(range(num_epochs))\n",
        "    fig, axs = plt.subplots(nrows = 1, ncols =2 , figsize = (12,6))\n",
        "    axs[0].plot(epochs, train_accs, label = \"Training\")\n",
        "    axs[0].plot(epochs, eval_accs, label = \"Evaluation\")\n",
        "    axs[1].plot(epochs, train_losses, label = \"Training\")\n",
        "    axs[1].plot(epochs, eval_losses, label = \"Evaluation\")\n",
        "    axs[0].set_xlabel(\"Epochs\")\n",
        "    axs[1].set_xlabel(\"Epochs\")\n",
        "    axs[0].set_ylabel(\"Accuracy\")\n",
        "    axs[1].set_ylabel(\"Loss\")\n",
        "    plt.legend()\n",
        "\n",
        "plot_result(num_epochs, train_accs, eval_accs, train_losses, eval_losses)"
      ]
    },
    {
      "cell_type": "markdown",
      "metadata": {
        "id": "YA5eDIK3b7Im"
      },
      "source": [
        "####**2.1.8. Evaluation & Prediction**"
      ]
    },
    {
      "cell_type": "code",
      "execution_count": 52,
      "metadata": {
        "id": "NlwRGj2xdJKY"
      },
      "outputs": [],
      "source": [
        "test_data.transform = test_transforms"
      ]
    },
    {
      "cell_type": "code",
      "execution_count": 53,
      "metadata": {
        "id": "5ggnyhWxb-so"
      },
      "outputs": [],
      "source": [
        "test_dataloader = data.DataLoader(\n",
        "    test_data,\n",
        "    batch_size=BATCH_SIZE\n",
        ")"
      ]
    },
    {
      "cell_type": "code",
      "execution_count": 54,
      "metadata": {
        "colab": {
          "base_uri": "https://localhost:8080/"
        },
        "id": "6vyS2hLzdPld",
        "outputId": "b75bae7a-1259-4bf3-fe56-4e610fa66ed9"
      },
      "outputs": [
        {
          "data": {
            "text/plain": [
              "(0.987, 0.04000763788280892)"
            ]
          },
          "execution_count": 54,
          "metadata": {},
          "output_type": "execute_result"
        }
      ],
      "source": [
        "test_acc, test_loss = evaluate(lenet_model, criterion, test_dataloader)\n",
        "test_acc, test_loss"
      ]
    },
    {
      "cell_type": "code",
      "execution_count": 55,
      "metadata": {
        "id": "lt8yjb2NehOM"
      },
      "outputs": [],
      "source": [
        "def plot_filtered_images(images, filters):\n",
        "\n",
        "    images = torch.cat([i.unsqueeze(0) for i in images], dim=0).cpu()\n",
        "    filters = filters.cpu()\n",
        "\n",
        "    n_images = images.shape[0]\n",
        "    n_filters = filters.shape[0]\n",
        "\n",
        "    filtered_images = F.conv2d(images, filters)\n",
        "\n",
        "    fig = plt.figure(figsize=(20, 10))\n",
        "\n",
        "    for i in range(n_images):\n",
        "\n",
        "        ax = fig.add_subplot(n_images, n_filters+1, i+1+(i*n_filters))\n",
        "        ax.imshow(images[i].squeeze(0), cmap='bone')\n",
        "        ax.set_title('Original')\n",
        "        ax.axis('off')\n",
        "\n",
        "        for j in range(n_filters):\n",
        "            image = filtered_images[i][j]\n",
        "            ax = fig.add_subplot(n_images, n_filters+1, i+1+(i*n_filters)+j+1)\n",
        "            ax.imshow(image.numpy(), cmap='bone')\n",
        "            ax.set_title(f'Filter {j+1}')\n",
        "            ax.axis('off')"
      ]
    },
    {
      "cell_type": "code",
      "execution_count": 56,
      "metadata": {
        "colab": {
          "base_uri": "https://localhost:8080/",
          "height": 584
        },
        "id": "ps0IJpfzelFj",
        "outputId": "a3ab5b98-a5a3-4a64-d4fc-980140562c07"
      },
      "outputs": [
        {
          "data": {
            "image/png": "[encoded data removed]",
            "text/plain": [
              "<Figure size 2000x1000 with 35 Axes>"
            ]
          },
          "metadata": {},
          "output_type": "display_data"
        }
      ],
      "source": [
        "N_IMAGES = 5\n",
        "\n",
        "images = [image for image, label in [test_data[i] for i in range(N_IMAGES)]]\n",
        "filters = lenet_model.conv1.weight.data\n",
        "\n",
        "plot_filtered_images(images, filters)"
      ]
    }
  ],
  "metadata": {
    "colab": {
      "provenance": [],
      "toc_visible": true
    },
    "kernelspec": {
      "display_name": "Python 3",
      "name": "python3"
    },
    "language_info": {
      "codemirror_mode": {
        "name": "ipython",
        "version": 3
      },
      "file_extension": ".py",
      "mimetype": "text/x-python",
      "name": "python",
      "nbconvert_exporter": "python",
      "pygments_lexer": "ipython3",
      "version": "3.11.5"
    }
  },
  "nbformat": 4,
  "nbformat_minor": 0
}
