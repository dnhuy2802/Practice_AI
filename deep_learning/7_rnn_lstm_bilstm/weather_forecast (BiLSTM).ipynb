{
 "cells": [
  {
   "cell_type": "markdown",
   "id": "138a5a26",
   "metadata": {},
   "source": [
    "## 1. Import libraries"
   ]
  },
  {
   "cell_type": "code",
   "execution_count": 2,
   "id": "5eefab75",
   "metadata": {},
   "outputs": [],
   "source": [
    "import torch\n",
    "import torch.nn as nn\n",
    "\n",
    "seed = 1\n",
    "torch.manual_seed(seed)\n",
    "    \n",
    "import numpy as np\n",
    "import pandas as pd\n",
    "import matplotlib.pyplot as plt\n",
    "\n",
    "from torch.utils.data import Dataset, DataLoader"
   ]
  },
  {
   "cell_type": "markdown",
   "id": "2c44e3cb",
   "metadata": {},
   "source": [
    "## 2. Read dataset"
   ]
  },
  {
   "cell_type": "code",
   "execution_count": 3,
   "id": "0d4f054a",
   "metadata": {
    "scrolled": false
   },
   "outputs": [],
   "source": [
    "dataset_filepath = 'data/weather_forecast/weatherHistory.csv'\n",
    "df = pd.read_csv(dataset_filepath)"
   ]
  },
  {
   "cell_type": "code",
   "execution_count": 4,
   "id": "e37d8b11",
   "metadata": {},
   "outputs": [
    {
     "data": {
      "text/html": [
       "<div>\n",
       "<style scoped>\n",
       "    .dataframe tbody tr th:only-of-type {\n",
       "        vertical-align: middle;\n",
       "    }\n",
       "\n",
       "    .dataframe tbody tr th {\n",
       "        vertical-align: top;\n",
       "    }\n",
       "\n",
       "    .dataframe thead th {\n",
       "        text-align: right;\n",
       "    }\n",
       "</style>\n",
       "<table border=\"1\" class=\"dataframe\">\n",
       "  <thead>\n",
       "    <tr style=\"text-align: right;\">\n",
       "      <th></th>\n",
       "      <th>Formatted Date</th>\n",
       "      <th>Summary</th>\n",
       "      <th>Precip Type</th>\n",
       "      <th>Temperature (C)</th>\n",
       "      <th>Apparent Temperature (C)</th>\n",
       "      <th>Humidity</th>\n",
       "      <th>Wind Speed (km/h)</th>\n",
       "      <th>Wind Bearing (degrees)</th>\n",
       "      <th>Visibility (km)</th>\n",
       "      <th>Loud Cover</th>\n",
       "      <th>Pressure (millibars)</th>\n",
       "      <th>Daily Summary</th>\n",
       "    </tr>\n",
       "  </thead>\n",
       "  <tbody>\n",
       "    <tr>\n",
       "      <th>0</th>\n",
       "      <td>2006-04-01 00:00:00.000 +0200</td>\n",
       "      <td>Partly Cloudy</td>\n",
       "      <td>rain</td>\n",
       "      <td>9.472222</td>\n",
       "      <td>7.388889</td>\n",
       "      <td>0.89</td>\n",
       "      <td>14.1197</td>\n",
       "      <td>251.0</td>\n",
       "      <td>15.8263</td>\n",
       "      <td>0.0</td>\n",
       "      <td>1015.13</td>\n",
       "      <td>Partly cloudy throughout the day.</td>\n",
       "    </tr>\n",
       "    <tr>\n",
       "      <th>1</th>\n",
       "      <td>2006-04-01 01:00:00.000 +0200</td>\n",
       "      <td>Partly Cloudy</td>\n",
       "      <td>rain</td>\n",
       "      <td>9.355556</td>\n",
       "      <td>7.227778</td>\n",
       "      <td>0.86</td>\n",
       "      <td>14.2646</td>\n",
       "      <td>259.0</td>\n",
       "      <td>15.8263</td>\n",
       "      <td>0.0</td>\n",
       "      <td>1015.63</td>\n",
       "      <td>Partly cloudy throughout the day.</td>\n",
       "    </tr>\n",
       "    <tr>\n",
       "      <th>2</th>\n",
       "      <td>2006-04-01 02:00:00.000 +0200</td>\n",
       "      <td>Mostly Cloudy</td>\n",
       "      <td>rain</td>\n",
       "      <td>9.377778</td>\n",
       "      <td>9.377778</td>\n",
       "      <td>0.89</td>\n",
       "      <td>3.9284</td>\n",
       "      <td>204.0</td>\n",
       "      <td>14.9569</td>\n",
       "      <td>0.0</td>\n",
       "      <td>1015.94</td>\n",
       "      <td>Partly cloudy throughout the day.</td>\n",
       "    </tr>\n",
       "    <tr>\n",
       "      <th>3</th>\n",
       "      <td>2006-04-01 03:00:00.000 +0200</td>\n",
       "      <td>Partly Cloudy</td>\n",
       "      <td>rain</td>\n",
       "      <td>8.288889</td>\n",
       "      <td>5.944444</td>\n",
       "      <td>0.83</td>\n",
       "      <td>14.1036</td>\n",
       "      <td>269.0</td>\n",
       "      <td>15.8263</td>\n",
       "      <td>0.0</td>\n",
       "      <td>1016.41</td>\n",
       "      <td>Partly cloudy throughout the day.</td>\n",
       "    </tr>\n",
       "    <tr>\n",
       "      <th>4</th>\n",
       "      <td>2006-04-01 04:00:00.000 +0200</td>\n",
       "      <td>Mostly Cloudy</td>\n",
       "      <td>rain</td>\n",
       "      <td>8.755556</td>\n",
       "      <td>6.977778</td>\n",
       "      <td>0.83</td>\n",
       "      <td>11.0446</td>\n",
       "      <td>259.0</td>\n",
       "      <td>15.8263</td>\n",
       "      <td>0.0</td>\n",
       "      <td>1016.51</td>\n",
       "      <td>Partly cloudy throughout the day.</td>\n",
       "    </tr>\n",
       "  </tbody>\n",
       "</table>\n",
       "</div>"
      ],
      "text/plain": [
       "                  Formatted Date        Summary Precip Type  Temperature (C)  \\\n",
       "0  2006-04-01 00:00:00.000 +0200  Partly Cloudy        rain         9.472222   \n",
       "1  2006-04-01 01:00:00.000 +0200  Partly Cloudy        rain         9.355556   \n",
       "2  2006-04-01 02:00:00.000 +0200  Mostly Cloudy        rain         9.377778   \n",
       "3  2006-04-01 03:00:00.000 +0200  Partly Cloudy        rain         8.288889   \n",
       "4  2006-04-01 04:00:00.000 +0200  Mostly Cloudy        rain         8.755556   \n",
       "\n",
       "   Apparent Temperature (C)  Humidity  Wind Speed (km/h)  \\\n",
       "0                  7.388889      0.89            14.1197   \n",
       "1                  7.227778      0.86            14.2646   \n",
       "2                  9.377778      0.89             3.9284   \n",
       "3                  5.944444      0.83            14.1036   \n",
       "4                  6.977778      0.83            11.0446   \n",
       "\n",
       "   Wind Bearing (degrees)  Visibility (km)  Loud Cover  Pressure (millibars)  \\\n",
       "0                   251.0          15.8263         0.0               1015.13   \n",
       "1                   259.0          15.8263         0.0               1015.63   \n",
       "2                   204.0          14.9569         0.0               1015.94   \n",
       "3                   269.0          15.8263         0.0               1016.41   \n",
       "4                   259.0          15.8263         0.0               1016.51   \n",
       "\n",
       "                       Daily Summary  \n",
       "0  Partly cloudy throughout the day.  \n",
       "1  Partly cloudy throughout the day.  \n",
       "2  Partly cloudy throughout the day.  \n",
       "3  Partly cloudy throughout the day.  \n",
       "4  Partly cloudy throughout the day.  "
      ]
     },
     "execution_count": 4,
     "metadata": {},
     "output_type": "execute_result"
    }
   ],
   "source": [
    "df.head()"
   ]
  },
  {
   "cell_type": "code",
   "execution_count": 5,
   "id": "7722ed65",
   "metadata": {
    "scrolled": false
   },
   "outputs": [],
   "source": [
    "univariate_df = df['Temperature (C)']\n",
    "univariate_df.index = df['Formatted Date']"
   ]
  },
  {
   "cell_type": "code",
   "execution_count": 6,
   "id": "51fbb257",
   "metadata": {},
   "outputs": [
    {
     "data": {
      "text/plain": [
       "Formatted Date\n",
       "2006-04-01 00:00:00.000 +0200     9.472222\n",
       "2006-04-01 01:00:00.000 +0200     9.355556\n",
       "2006-04-01 02:00:00.000 +0200     9.377778\n",
       "2006-04-01 03:00:00.000 +0200     8.288889\n",
       "2006-04-01 04:00:00.000 +0200     8.755556\n",
       "                                   ...    \n",
       "2016-09-09 19:00:00.000 +0200    26.016667\n",
       "2016-09-09 20:00:00.000 +0200    24.583333\n",
       "2016-09-09 21:00:00.000 +0200    22.038889\n",
       "2016-09-09 22:00:00.000 +0200    21.522222\n",
       "2016-09-09 23:00:00.000 +0200    20.438889\n",
       "Name: Temperature (C), Length: 96453, dtype: float64"
      ]
     },
     "execution_count": 6,
     "metadata": {},
     "output_type": "execute_result"
    }
   ],
   "source": [
    "univariate_df"
   ]
  },
  {
   "cell_type": "markdown",
   "id": "a94cee77",
   "metadata": {},
   "source": [
    "## 3. Data preprocessing"
   ]
  },
  {
   "cell_type": "code",
   "execution_count": 7,
   "id": "c2b2e79d",
   "metadata": {},
   "outputs": [],
   "source": [
    "input_size = 6 \n",
    "label_size = 1 \n",
    "offset = 1 \n",
    "\n",
    "def slicing_window(df, df_start_idx, df_end_idx, input_size, label_size, offset):\n",
    "    features = []\n",
    "    labels = []\n",
    "\n",
    "    window_size = input_size + offset\n",
    "\n",
    "    if df_end_idx == None:\n",
    "        df_end_idx = len(df) - window_size\n",
    "        \n",
    "    for idx in range(df_start_idx, df_end_idx):\n",
    "        feature_end_idx = idx + input_size\n",
    "        label_start_idx = idx + window_size - label_size\n",
    "\n",
    "        feature = df[idx:feature_end_idx]\n",
    "        label = df[label_start_idx:(idx+window_size)]\n",
    "\n",
    "        features.append(feature)\n",
    "        labels.append(label)\n",
    "        \n",
    "    features = np.expand_dims(np.array(features), -1)\n",
    "    labels = np.array(labels)\n",
    "\n",
    "    return features, labels"
   ]
  },
  {
   "cell_type": "markdown",
   "id": "a443009e",
   "metadata": {},
   "source": [
    "## 4. Train, val, test split"
   ]
  },
  {
   "cell_type": "code",
   "execution_count": 10,
   "id": "08f3446b",
   "metadata": {},
   "outputs": [],
   "source": [
    "dataset_length = len(univariate_df)\n",
    "train_size = 0.7\n",
    "val_size = 0.2\n",
    "train_end_idx = int(train_size * dataset_length)\n",
    "val_end_idx = int(val_size * dataset_length) + train_end_idx\n",
    "\n",
    "X_train, y_train = slicing_window(\n",
    "    univariate_df, \n",
    "    df_start_idx=0,\n",
    "    df_end_idx=train_end_idx,\n",
    "    input_size=input_size,\n",
    "    label_size=label_size,\n",
    "    offset=offset\n",
    ")\n",
    "\n",
    "X_val, y_val = slicing_window(\n",
    "    univariate_df, \n",
    "    df_start_idx=train_end_idx,\n",
    "    df_end_idx=val_end_idx,\n",
    "    input_size=input_size,\n",
    "    label_size=label_size,\n",
    "    offset=offset\n",
    ")\n",
    "\n",
    "X_test, y_test = slicing_window(\n",
    "    univariate_df, \n",
    "    df_start_idx=val_end_idx,\n",
    "    df_end_idx=None,\n",
    "    input_size=input_size,\n",
    "    label_size=label_size,\n",
    "    offset=offset\n",
    ")"
   ]
  },
  {
   "cell_type": "code",
   "execution_count": 12,
   "id": "48a1216d",
   "metadata": {},
   "outputs": [
    {
     "data": {
      "text/plain": [
       "array([[[ 9.47222222],\n",
       "        [ 9.35555556],\n",
       "        [ 9.37777778],\n",
       "        [ 8.28888889],\n",
       "        [ 8.75555556],\n",
       "        [ 9.22222222]],\n",
       "\n",
       "       [[ 9.35555556],\n",
       "        [ 9.37777778],\n",
       "        [ 8.28888889],\n",
       "        [ 8.75555556],\n",
       "        [ 9.22222222],\n",
       "        [ 7.73333333]],\n",
       "\n",
       "       [[ 9.37777778],\n",
       "        [ 8.28888889],\n",
       "        [ 8.75555556],\n",
       "        [ 9.22222222],\n",
       "        [ 7.73333333],\n",
       "        [ 8.77222222]],\n",
       "\n",
       "       ...,\n",
       "\n",
       "       [[17.        ],\n",
       "        [15.35555556],\n",
       "        [14.27222222],\n",
       "        [13.8       ],\n",
       "        [14.93333333],\n",
       "        [16.87222222]],\n",
       "\n",
       "       [[15.35555556],\n",
       "        [14.27222222],\n",
       "        [13.8       ],\n",
       "        [14.93333333],\n",
       "        [16.87222222],\n",
       "        [17.8       ]],\n",
       "\n",
       "       [[14.27222222],\n",
       "        [13.8       ],\n",
       "        [14.93333333],\n",
       "        [16.87222222],\n",
       "        [17.8       ],\n",
       "        [18.93333333]]])"
      ]
     },
     "execution_count": 12,
     "metadata": {},
     "output_type": "execute_result"
    }
   ],
   "source": [
    "X_train"
   ]
  },
  {
   "cell_type": "code",
   "execution_count": 14,
   "id": "3aa5f9a6",
   "metadata": {},
   "outputs": [
    {
     "data": {
      "text/plain": [
       "array([[ 7.73333333],\n",
       "       [ 8.77222222],\n",
       "       [10.82222222],\n",
       "       ...,\n",
       "       [17.8       ],\n",
       "       [18.93333333],\n",
       "       [20.03888889]])"
      ]
     },
     "execution_count": 14,
     "metadata": {},
     "output_type": "execute_result"
    }
   ],
   "source": [
    "y_train"
   ]
  },
  {
   "cell_type": "markdown",
   "id": "e44f15c3",
   "metadata": {},
   "source": [
    "## 5. Implement PyTorch dataset"
   ]
  },
  {
   "cell_type": "code",
   "execution_count": 13,
   "id": "9941afd8",
   "metadata": {},
   "outputs": [],
   "source": [
    "class WeatherForecast(Dataset):\n",
    "    def __init__(\n",
    "        self,\n",
    "        X, y,\n",
    "        transform=None\n",
    "    ):\n",
    "        self.X = X\n",
    "        self.y = y\n",
    "        self.transform = transform\n",
    "        \n",
    "    def __len__(self):\n",
    "        return len(self.X)\n",
    "    \n",
    "    def __getitem__(self, idx):\n",
    "        X = self.X[idx]\n",
    "        y = self.y[idx]\n",
    "        \n",
    "        if self.transform:\n",
    "            X = self.transform(X) \n",
    "            \n",
    "        X = torch.tensor(X, dtype=torch.float32)\n",
    "        y = torch.tensor(y, dtype=torch.float32)\n",
    "        \n",
    "        return X, y"
   ]
  },
  {
   "cell_type": "markdown",
   "id": "35746976",
   "metadata": {},
   "source": [
    "## 6. Create dataloader"
   ]
  },
  {
   "cell_type": "code",
   "execution_count": 15,
   "id": "462de074",
   "metadata": {},
   "outputs": [],
   "source": [
    "train_dataset = WeatherForecast(\n",
    "    X_train, y_train\n",
    ")\n",
    "val_dataset = WeatherForecast(\n",
    "    X_val, y_val\n",
    ")\n",
    "test_dataset = WeatherForecast(\n",
    "    X_test, y_test\n",
    ")"
   ]
  },
  {
   "cell_type": "code",
   "execution_count": 16,
   "id": "8fd30115",
   "metadata": {},
   "outputs": [],
   "source": [
    "train_batch_size = 128\n",
    "test_batch_size = 8\n",
    "\n",
    "train_loader = DataLoader(\n",
    "    train_dataset,\n",
    "    batch_size=train_batch_size,\n",
    "    shuffle=True\n",
    ")\n",
    "val_loader = DataLoader(\n",
    "    val_dataset,\n",
    "    batch_size=test_batch_size,\n",
    "    shuffle=False\n",
    ")\n",
    "test_loader = DataLoader(\n",
    "    test_dataset,\n",
    "    batch_size=test_batch_size,\n",
    "    shuffle=False\n",
    ")"
   ]
  },
  {
   "cell_type": "markdown",
   "id": "c4275555",
   "metadata": {},
   "source": [
    "## 7. Implement model"
   ]
  },
  {
   "cell_type": "code",
   "execution_count": 17,
   "id": "9ce5bfca",
   "metadata": {},
   "outputs": [],
   "source": [
    "class WeatherForecastor(nn.Module):\n",
    "    def __init__(\n",
    "        self, embedding_dim, hidden_size, \n",
    "        n_layers, dropout_prob\n",
    "    ):\n",
    "        super(WeatherForecastor, self).__init__()\n",
    "        self.lstm = nn.LSTM(embedding_dim, hidden_size, n_layers, batch_first=True, bidirectional=True)\n",
    "        self.norm = nn.LayerNorm(hidden_size * 2)\n",
    "        \n",
    "        self.dropout = nn.Dropout(dropout_prob) \n",
    "        self.fc = nn.Linear(hidden_size * 2, 1)\n",
    "    \n",
    "    def forward(self, x):\n",
    "        x, (hn, cn) = self.lstm(x)\n",
    "        x = x[:, -1, :]\n",
    "        x = self.norm(x)\n",
    "        x = self.dropout(x)\n",
    "        x = self.fc(x)\n",
    "        \n",
    "        return x"
   ]
  },
  {
   "cell_type": "code",
   "execution_count": 18,
   "id": "3eb16c39",
   "metadata": {},
   "outputs": [],
   "source": [
    "embedding_dim = 1\n",
    "hidden_size = 8\n",
    "n_layers = 3\n",
    "dropout_prob = 0.2\n",
    "device = 'cuda' if torch.cuda.is_available() else 'cpu'\n",
    "\n",
    "model = WeatherForecastor(\n",
    "    embedding_dim=embedding_dim,\n",
    "    hidden_size=hidden_size,\n",
    "    n_layers=n_layers,\n",
    "    dropout_prob=dropout_prob\n",
    ").to(device)"
   ]
  },
  {
   "cell_type": "code",
   "execution_count": 19,
   "id": "892152b6",
   "metadata": {},
   "outputs": [
    {
     "name": "stdout",
     "output_type": "stream",
     "text": [
      "Output shape: torch.Size([1, 1])\n"
     ]
    }
   ],
   "source": [
    "model.eval()\n",
    "\n",
    "dummy_tensor = torch.randn((1, 6, 1)).to(device)\n",
    "\n",
    "with torch.no_grad():\n",
    "    output = model(dummy_tensor)\n",
    "\n",
    "print('Output shape:', output.shape)"
   ]
  },
  {
   "cell_type": "markdown",
   "id": "f1e9597f",
   "metadata": {},
   "source": [
    "## 8. Training "
   ]
  },
  {
   "cell_type": "code",
   "execution_count": 20,
   "id": "682d2073",
   "metadata": {},
   "outputs": [],
   "source": [
    "def evaluate(model, dataloader, criterion, device):\n",
    "    model.eval()\n",
    "    \n",
    "    losses = []\n",
    "    with torch.no_grad():\n",
    "        for inputs, labels in dataloader:\n",
    "            inputs, labels = inputs.to(device), labels.to(device)\n",
    "            outputs = model(inputs)\n",
    "            loss = criterion(outputs, labels)\n",
    "            losses.append(loss.item())\n",
    "\n",
    "    loss = sum(losses) / len(losses)\n",
    "\n",
    "    return loss"
   ]
  },
  {
   "cell_type": "code",
   "execution_count": 21,
   "id": "81145eec",
   "metadata": {},
   "outputs": [],
   "source": [
    "def fit(\n",
    "    model,\n",
    "    train_loader,\n",
    "    val_loader,\n",
    "    criterion,\n",
    "    optimizer,\n",
    "    device,\n",
    "    epochs\n",
    "):\n",
    "    train_losses = []\n",
    "    val_losses = []\n",
    "\n",
    "    for epoch in range(epochs):\n",
    "        batch_train_losses = []\n",
    "\n",
    "        model.train()\n",
    "        for idx, (inputs, labels) in enumerate(train_loader):\n",
    "            inputs, labels = inputs.to(device), labels.to(device)\n",
    "            \n",
    "            optimizer.zero_grad()\n",
    "            outputs = model(inputs)\n",
    "            loss = criterion(outputs, labels)\n",
    "            loss.backward()\n",
    "            optimizer.step()\n",
    "\n",
    "            batch_train_losses.append(loss.item())\n",
    "\n",
    "        train_loss = sum(batch_train_losses) / len(batch_train_losses)\n",
    "        train_losses.append(train_loss)\n",
    "\n",
    "        val_loss = evaluate(\n",
    "            model, val_loader,\n",
    "            criterion, device\n",
    "        )\n",
    "        val_losses.append(val_loss)\n",
    "\n",
    "        print(f'EPOCH {epoch + 1}:\\tTrain loss: {train_loss:.4f}\\tVal loss: {val_loss:.4f}')\n",
    "\n",
    "    return train_losses, val_losses"
   ]
  },
  {
   "cell_type": "code",
   "execution_count": 22,
   "id": "a80115e1",
   "metadata": {},
   "outputs": [],
   "source": [
    "lr = 1e-3\n",
    "epochs = 50\n",
    "\n",
    "criterion = nn.MSELoss()\n",
    "optimizer = torch.optim.Adam(\n",
    "    model.parameters(),\n",
    "    lr=lr\n",
    ")"
   ]
  },
  {
   "cell_type": "code",
   "execution_count": 23,
   "id": "3558ed3f",
   "metadata": {
    "scrolled": true
   },
   "outputs": [
    {
     "name": "stdout",
     "output_type": "stream",
     "text": [
      "EPOCH 1:\tTrain loss: 94.1817\tVal loss: 14.8521\n",
      "EPOCH 2:\tTrain loss: 12.9897\tVal loss: 3.0199\n",
      "EPOCH 3:\tTrain loss: 7.3284\tVal loss: 1.9334\n",
      "EPOCH 4:\tTrain loss: 6.4036\tVal loss: 1.6917\n",
      "EPOCH 5:\tTrain loss: 6.1376\tVal loss: 1.8340\n",
      "EPOCH 6:\tTrain loss: 5.9171\tVal loss: 1.6685\n",
      "EPOCH 7:\tTrain loss: 5.8361\tVal loss: 1.5237\n",
      "EPOCH 8:\tTrain loss: 5.8043\tVal loss: 1.5533\n",
      "EPOCH 9:\tTrain loss: 5.7246\tVal loss: 1.5113\n",
      "EPOCH 10:\tTrain loss: 5.6178\tVal loss: 1.5683\n",
      "EPOCH 11:\tTrain loss: 5.5680\tVal loss: 1.4598\n",
      "EPOCH 12:\tTrain loss: 5.5328\tVal loss: 1.5510\n",
      "EPOCH 13:\tTrain loss: 5.3702\tVal loss: 1.6066\n",
      "EPOCH 14:\tTrain loss: 5.3459\tVal loss: 1.5363\n",
      "EPOCH 15:\tTrain loss: 5.2750\tVal loss: 1.4841\n",
      "EPOCH 16:\tTrain loss: 5.1805\tVal loss: 1.7621\n",
      "EPOCH 17:\tTrain loss: 5.1071\tVal loss: 1.4602\n",
      "EPOCH 18:\tTrain loss: 5.0396\tVal loss: 1.5004\n",
      "EPOCH 19:\tTrain loss: 4.9516\tVal loss: 1.5855\n",
      "EPOCH 20:\tTrain loss: 4.9108\tVal loss: 1.4483\n",
      "EPOCH 21:\tTrain loss: 4.8490\tVal loss: 1.5214\n",
      "EPOCH 22:\tTrain loss: 4.8111\tVal loss: 1.6326\n",
      "EPOCH 23:\tTrain loss: 4.6841\tVal loss: 1.4600\n",
      "EPOCH 24:\tTrain loss: 4.6539\tVal loss: 1.5169\n",
      "EPOCH 25:\tTrain loss: 4.5730\tVal loss: 1.4582\n",
      "EPOCH 26:\tTrain loss: 4.5555\tVal loss: 1.5195\n",
      "EPOCH 27:\tTrain loss: 4.5008\tVal loss: 1.4519\n",
      "EPOCH 28:\tTrain loss: 4.4391\tVal loss: 1.4558\n",
      "EPOCH 29:\tTrain loss: 4.3786\tVal loss: 1.4761\n",
      "EPOCH 30:\tTrain loss: 4.4197\tVal loss: 1.5700\n",
      "EPOCH 31:\tTrain loss: 4.3539\tVal loss: 1.4442\n",
      "EPOCH 32:\tTrain loss: 4.3005\tVal loss: 1.4298\n",
      "EPOCH 33:\tTrain loss: 4.2970\tVal loss: 1.4506\n",
      "EPOCH 34:\tTrain loss: 4.2226\tVal loss: 1.5192\n",
      "EPOCH 35:\tTrain loss: 4.2127\tVal loss: 1.7071\n",
      "EPOCH 36:\tTrain loss: 4.1514\tVal loss: 1.4665\n",
      "EPOCH 37:\tTrain loss: 4.1571\tVal loss: 1.4864\n",
      "EPOCH 38:\tTrain loss: 4.1083\tVal loss: 1.5174\n",
      "EPOCH 39:\tTrain loss: 4.0992\tVal loss: 1.4764\n",
      "EPOCH 40:\tTrain loss: 4.0591\tVal loss: 1.4491\n",
      "EPOCH 41:\tTrain loss: 4.0413\tVal loss: 1.5485\n",
      "EPOCH 42:\tTrain loss: 4.0778\tVal loss: 1.4800\n",
      "EPOCH 43:\tTrain loss: 4.0178\tVal loss: 1.6011\n",
      "EPOCH 44:\tTrain loss: 3.9348\tVal loss: 1.4466\n",
      "EPOCH 45:\tTrain loss: 3.9379\tVal loss: 1.4689\n",
      "EPOCH 46:\tTrain loss: 3.9100\tVal loss: 1.5390\n",
      "EPOCH 47:\tTrain loss: 3.9548\tVal loss: 1.5271\n",
      "EPOCH 48:\tTrain loss: 3.8726\tVal loss: 1.4402\n",
      "EPOCH 49:\tTrain loss: 3.8943\tVal loss: 1.5434\n",
      "EPOCH 50:\tTrain loss: 3.8413\tVal loss: 1.4976\n"
     ]
    }
   ],
   "source": [
    "train_losses, val_losses = fit(\n",
    "    model,\n",
    "    train_loader,\n",
    "    val_loader,\n",
    "    criterion,\n",
    "    optimizer,\n",
    "    device,\n",
    "    epochs\n",
    ")"
   ]
  },
  {
   "cell_type": "code",
   "execution_count": 24,
   "id": "866ac448",
   "metadata": {
    "scrolled": true
   },
   "outputs": [
    {
     "data": {
      "image/png": "[encoded data removed]",
      "text/plain": [
       "<Figure size 1200x500 with 2 Axes>"
      ]
     },
     "metadata": {},
     "output_type": "display_data"
    }
   ],
   "source": [
    "fig, ax = plt.subplots(1, 2, figsize=(12, 5))\n",
    "ax[0].plot(train_losses)\n",
    "ax[0].set_title('Training Loss')\n",
    "ax[0].set_xlabel('Epoch')\n",
    "ax[0].set_ylabel('Loss')\n",
    "ax[1].plot(val_losses, color='orange')\n",
    "ax[1].set_title('Val Loss')\n",
    "ax[1].set_xlabel('Epoch')\n",
    "ax[1].set_ylabel('Loss')\n",
    "plt.show()"
   ]
  },
  {
   "cell_type": "markdown",
   "id": "5cbf04f6",
   "metadata": {},
   "source": [
    "## 9. Evaluation"
   ]
  },
  {
   "cell_type": "code",
   "execution_count": 25,
   "id": "e0a2d0fe",
   "metadata": {},
   "outputs": [
    {
     "name": "stdout",
     "output_type": "stream",
     "text": [
      "Evaluation on val/test dataset\n",
      "Val loss:  1.497555039806066\n",
      "Test loss:  1.3047333110974042\n"
     ]
    }
   ],
   "source": [
    "val_loss = evaluate(\n",
    "    model,\n",
    "    val_loader,\n",
    "    criterion,\n",
    "    device\n",
    ")\n",
    "test_loss = evaluate(\n",
    "    model,\n",
    "    test_loader,\n",
    "    criterion,\n",
    "    device\n",
    ")\n",
    "\n",
    "print('Evaluation on val/test dataset')\n",
    "print('Val loss: ', val_loss)\n",
    "print('Test loss: ', test_loss)"
   ]
  },
  {
   "cell_type": "code",
   "execution_count": 26,
   "id": "6fb1b51a",
   "metadata": {},
   "outputs": [
    {
     "data": {
      "image/png": "[encoded data removed]",
      "text/plain": [
       "<Figure size 2000x600 with 1 Axes>"
      ]
     },
     "metadata": {},
     "output_type": "display_data"
    }
   ],
   "source": [
    "def plot_difference(y, pred):\n",
    "    plt.figure(figsize=(20, 6))\n",
    "    times = range(len(y))\n",
    "    y_to_plot = y.flatten()\n",
    "    pred_to_plot = pred.flatten()\n",
    "\n",
    "    plt.plot(times, y_to_plot, color='steelblue', marker='o', label='True value')\n",
    "    plt.plot(times, pred_to_plot, color='orangered', marker='X', label='Prediction')\n",
    "\n",
    "    plt.title('Temperature in every hours')\n",
    "    plt.xlabel('Hour')\n",
    "    plt.ylabel('Temperature (C)')\n",
    "    plt.legend()\n",
    "    plt.show()\n",
    "    \n",
    "inputs = torch.tensor(X_test[:100], dtype=torch.float32).to(device)\n",
    "model.eval()\n",
    "with torch.no_grad():\n",
    "    outputs = model(inputs).detach().cpu().numpy()\n",
    "plot_difference(y_test[:100], outputs)"
   ]
  }
 ],
 "metadata": {
  "kernelspec": {
   "display_name": "aie",
   "language": "python",
   "name": "python3"
  },
  "language_info": {
   "codemirror_mode": {
    "name": "ipython",
    "version": 3
   },
   "file_extension": ".py",
   "mimetype": "text/x-python",
   "name": "python",
   "nbconvert_exporter": "python",
   "pygments_lexer": "ipython3",
   "version": "3.11.5"
  }
 },
 "nbformat": 4,
 "nbformat_minor": 5
}
