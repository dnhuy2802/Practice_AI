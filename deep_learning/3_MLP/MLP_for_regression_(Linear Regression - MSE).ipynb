{
 "cells": [
  {
   "cell_type": "code",
   "execution_count": 1,
   "metadata": {
    "colab": {
     "base_uri": "https://localhost:8080/"
    },
    "executionInfo": {
     "elapsed": 1848,
     "status": "ok",
     "timestamp": 1695831599391,
     "user": {
      "displayName": "Khoa Nguyen Tho Anh",
      "userId": "05392028195404260378"
     },
     "user_tz": -420
    },
    "id": "G3bkvnjeX3Qw",
    "outputId": "71d74077-ceba-4212-9f26-d0184ed0d885"
   },
   "outputs": [
    {
     "data": {
      "text/plain": [
       "<torch._C.Generator at 0x7f7cd3d21370>"
      ]
     },
     "execution_count": 1,
     "metadata": {},
     "output_type": "execute_result"
    }
   ],
   "source": [
    "import numpy as np\n",
    "import pandas as pd\n",
    "import matplotlib.pyplot as plt\n",
    "import torch\n",
    "from torch import nn\n",
    "import torch.optim as optim\n",
    "from torch.utils.data import Dataset, DataLoader\n",
    "\n",
    "device = torch.device('cuda:0' if torch.cuda.is_available() else 'cpu')\n",
    "torch.manual_seed(42)"
   ]
  },
  {
   "cell_type": "markdown",
   "metadata": {
    "id": "YZLOVWxF3CA3"
   },
   "source": [
    "## Load Data"
   ]
  },
  {
   "cell_type": "code",
   "execution_count": 2,
   "metadata": {
    "colab": {
     "base_uri": "https://localhost:8080/",
     "height": 206
    },
    "executionInfo": {
     "elapsed": 9,
     "status": "ok",
     "timestamp": 1695831599392,
     "user": {
      "displayName": "Khoa Nguyen Tho Anh",
      "userId": "05392028195404260378"
     },
     "user_tz": -420
    },
    "id": "mD0-N0bRb9c5",
    "outputId": "cc6568c6-a87a-48a0-c646-f50fb86287fa"
   },
   "outputs": [
    {
     "data": {
      "text/html": [
       "<div>\n",
       "<style scoped>\n",
       "    .dataframe tbody tr th:only-of-type {\n",
       "        vertical-align: middle;\n",
       "    }\n",
       "\n",
       "    .dataframe tbody tr th {\n",
       "        vertical-align: top;\n",
       "    }\n",
       "\n",
       "    .dataframe thead th {\n",
       "        text-align: right;\n",
       "    }\n",
       "</style>\n",
       "<table border=\"1\" class=\"dataframe\">\n",
       "  <thead>\n",
       "    <tr style=\"text-align: right;\">\n",
       "      <th></th>\n",
       "      <th>MPG</th>\n",
       "      <th>Cylinders</th>\n",
       "      <th>Displacement</th>\n",
       "      <th>Horsepower</th>\n",
       "      <th>Weight</th>\n",
       "      <th>Acceleration</th>\n",
       "      <th>Model Year</th>\n",
       "      <th>Europe</th>\n",
       "      <th>Japan</th>\n",
       "      <th>USA</th>\n",
       "    </tr>\n",
       "  </thead>\n",
       "  <tbody>\n",
       "    <tr>\n",
       "      <th>0</th>\n",
       "      <td>18.0</td>\n",
       "      <td>8</td>\n",
       "      <td>307.0</td>\n",
       "      <td>130.0</td>\n",
       "      <td>3504.0</td>\n",
       "      <td>12.0</td>\n",
       "      <td>70</td>\n",
       "      <td>0</td>\n",
       "      <td>0</td>\n",
       "      <td>1</td>\n",
       "    </tr>\n",
       "    <tr>\n",
       "      <th>1</th>\n",
       "      <td>15.0</td>\n",
       "      <td>8</td>\n",
       "      <td>350.0</td>\n",
       "      <td>165.0</td>\n",
       "      <td>3693.0</td>\n",
       "      <td>11.5</td>\n",
       "      <td>70</td>\n",
       "      <td>0</td>\n",
       "      <td>0</td>\n",
       "      <td>1</td>\n",
       "    </tr>\n",
       "    <tr>\n",
       "      <th>2</th>\n",
       "      <td>18.0</td>\n",
       "      <td>8</td>\n",
       "      <td>318.0</td>\n",
       "      <td>150.0</td>\n",
       "      <td>3436.0</td>\n",
       "      <td>11.0</td>\n",
       "      <td>70</td>\n",
       "      <td>0</td>\n",
       "      <td>0</td>\n",
       "      <td>1</td>\n",
       "    </tr>\n",
       "    <tr>\n",
       "      <th>3</th>\n",
       "      <td>16.0</td>\n",
       "      <td>8</td>\n",
       "      <td>304.0</td>\n",
       "      <td>150.0</td>\n",
       "      <td>3433.0</td>\n",
       "      <td>12.0</td>\n",
       "      <td>70</td>\n",
       "      <td>0</td>\n",
       "      <td>0</td>\n",
       "      <td>1</td>\n",
       "    </tr>\n",
       "    <tr>\n",
       "      <th>4</th>\n",
       "      <td>17.0</td>\n",
       "      <td>8</td>\n",
       "      <td>302.0</td>\n",
       "      <td>140.0</td>\n",
       "      <td>3449.0</td>\n",
       "      <td>10.5</td>\n",
       "      <td>70</td>\n",
       "      <td>0</td>\n",
       "      <td>0</td>\n",
       "      <td>1</td>\n",
       "    </tr>\n",
       "  </tbody>\n",
       "</table>\n",
       "</div>"
      ],
      "text/plain": [
       "    MPG  Cylinders  Displacement  Horsepower  Weight  Acceleration  \\\n",
       "0  18.0          8         307.0       130.0  3504.0          12.0   \n",
       "1  15.0          8         350.0       165.0  3693.0          11.5   \n",
       "2  18.0          8         318.0       150.0  3436.0          11.0   \n",
       "3  16.0          8         304.0       150.0  3433.0          12.0   \n",
       "4  17.0          8         302.0       140.0  3449.0          10.5   \n",
       "\n",
       "   Model Year  Europe  Japan  USA  \n",
       "0          70       0      0    1  \n",
       "1          70       0      0    1  \n",
       "2          70       0      0    1  \n",
       "3          70       0      0    1  \n",
       "4          70       0      0    1  "
      ]
     },
     "execution_count": 2,
     "metadata": {},
     "output_type": "execute_result"
    }
   ],
   "source": [
    "dataset = pd.read_csv(\"data/Auto_MPG_data.csv\")\n",
    "dataset.head()"
   ]
  },
  {
   "cell_type": "markdown",
   "metadata": {
    "id": "T6eIMDg_8G88"
   },
   "source": [
    "## Preprocessinng data table"
   ]
  },
  {
   "cell_type": "markdown",
   "metadata": {
    "id": "eYQgHFPy3M-G"
   },
   "source": [
    "### Train Test Split"
   ]
  },
  {
   "cell_type": "code",
   "execution_count": 3,
   "metadata": {
    "executionInfo": {
     "elapsed": 713,
     "status": "ok",
     "timestamp": 1695831600097,
     "user": {
      "displayName": "Khoa Nguyen Tho Anh",
      "userId": "05392028195404260378"
     },
     "user_tz": -420
    },
    "id": "3KFNxNctYgTY"
   },
   "outputs": [],
   "source": [
    "train_dataset = dataset.sample(frac=0.8, random_state=0)\n",
    "val_dataset = dataset.drop(train_dataset.index)"
   ]
  },
  {
   "cell_type": "code",
   "execution_count": 4,
   "metadata": {
    "executionInfo": {
     "elapsed": 2,
     "status": "ok",
     "timestamp": 1695831600097,
     "user": {
      "displayName": "Khoa Nguyen Tho Anh",
      "userId": "05392028195404260378"
     },
     "user_tz": -420
    },
    "id": "FHglrf7qYkhs"
   },
   "outputs": [],
   "source": [
    "X_train = train_dataset.copy()\n",
    "X_val = val_dataset.copy()\n",
    "\n",
    "y_train = X_train.pop('MPG')\n",
    "y_val = X_val.pop('MPG')\n",
    "\n",
    "X_train, y_train = torch.tensor(X_train.values, dtype=torch.float32), torch.tensor(y_train.values, dtype=torch.float32)\n",
    "X_val, y_val = torch.tensor(X_val.values, dtype=torch.float32), torch.tensor(y_val.values, dtype=torch.float32)"
   ]
  },
  {
   "cell_type": "markdown",
   "metadata": {
    "id": "fJwFqmUn3ifv"
   },
   "source": [
    "### Data Standardisation"
   ]
  },
  {
   "cell_type": "code",
   "execution_count": 5,
   "metadata": {
    "executionInfo": {
     "elapsed": 2,
     "status": "ok",
     "timestamp": 1695831602093,
     "user": {
      "displayName": "Khoa Nguyen Tho Anh",
      "userId": "05392028195404260378"
     },
     "user_tz": -420
    },
    "id": "u5kpBGfVbVUD"
   },
   "outputs": [],
   "source": [
    "_MEAN = X_train.mean(axis=0)\n",
    "_STD = X_train.std(axis=0)\n",
    "\n",
    "X_train = ( X_train-_MEAN)/_STD\n",
    "X_val = ( X_val-_MEAN)/_STD"
   ]
  },
  {
   "cell_type": "code",
   "execution_count": 6,
   "metadata": {
    "executionInfo": {
     "elapsed": 5,
     "status": "ok",
     "timestamp": 1695831603192,
     "user": {
      "displayName": "Khoa Nguyen Tho Anh",
      "userId": "05392028195404260378"
     },
     "user_tz": -420
    },
    "id": "cvCA7PWMMyFY"
   },
   "outputs": [],
   "source": [
    "class CustomDataset(Dataset):\n",
    "    def __init__(self, X, y):\n",
    "        self.X = X\n",
    "        self.y = y\n",
    "\n",
    "    def __len__(self):\n",
    "        return len(self.y)\n",
    "\n",
    "    def __getitem__(self, idx):\n",
    "        # print(idx)\n",
    "        return self.X[idx], self.y[idx]"
   ]
  },
  {
   "cell_type": "code",
   "execution_count": 7,
   "metadata": {
    "executionInfo": {
     "elapsed": 5,
     "status": "ok",
     "timestamp": 1695831604554,
     "user": {
      "displayName": "Khoa Nguyen Tho Anh",
      "userId": "05392028195404260378"
     },
     "user_tz": -420
    },
    "id": "Nc_cCFO7M-VK"
   },
   "outputs": [],
   "source": [
    "train_dataset = CustomDataset(X_train, y_train)\n",
    "val_dataset = CustomDataset(X_val, y_val)\n",
    "train_loader = DataLoader(train_dataset, batch_size=32, shuffle=True)\n",
    "val_loader = DataLoader(val_dataset, batch_size=32)"
   ]
  },
  {
   "cell_type": "markdown",
   "metadata": {
    "id": "J8C8hvmn4AUc"
   },
   "source": [
    "## Use Pytorch to build, compile and train and evaluate the model"
   ]
  },
  {
   "cell_type": "markdown",
   "metadata": {},
   "source": [
    "The results of training and evaluation are presented graphically using matplotlib"
   ]
  },
  {
   "cell_type": "markdown",
   "metadata": {
    "id": "w10M44MVH6kj"
   },
   "source": [
    "### Linear Regression - MSE"
   ]
  },
  {
   "cell_type": "code",
   "execution_count": 8,
   "metadata": {
    "executionInfo": {
     "elapsed": 464,
     "status": "ok",
     "timestamp": 1695831640092,
     "user": {
      "displayName": "Khoa Nguyen Tho Anh",
      "userId": "05392028195404260378"
     },
     "user_tz": -420
    },
    "id": "lCX1G94u1Sep"
   },
   "outputs": [],
   "source": [
    "######################### YOUR CODE HERE #########################\n",
    "# Buil Linear Regression model: use 1 linear layer input_dims=9, output_dims=1 \n",
    "class LinearRegression(nn.Module):\n",
    "    def __init__(self, input_dims, output_dims):\n",
    "        super(LinearRegression, self).__init__()\n",
    "        self.linear = nn.Linear(input_dims, output_dims)\n",
    "\n",
    "    def forward(self, x):\n",
    "        return self.linear(x)\n",
    "\n",
    "model = LinearRegression(input_dims=9, output_dims=1).to(device)\n",
    "criterion = nn.MSELoss()\n",
    "optimizer = optim.SGD(model.parameters(), lr=0.1)"
   ]
  },
  {
   "cell_type": "code",
   "execution_count": 9,
   "metadata": {
    "executionInfo": {
     "elapsed": 488,
     "status": "ok",
     "timestamp": 1695831645975,
     "user": {
      "displayName": "Khoa Nguyen Tho Anh",
      "userId": "05392028195404260378"
     },
     "user_tz": -420
    },
    "id": "fC9r59PITZMc"
   },
   "outputs": [],
   "source": [
    "def r_squared(y_true, y_pred):\n",
    "    \"\"\"\n",
    "    Compute R^2 score.\n",
    "    \"\"\"\n",
    "    y_true = torch.Tensor(y_true)\n",
    "    y_pred = torch.Tensor(y_pred)\n",
    "    mean_true = torch.mean(y_true)\n",
    "    ss_tot = torch.sum((y_true - mean_true) ** 2)\n",
    "    ss_res = torch.sum((y_true - y_pred) ** 2)\n",
    "    r2 = 1 - (ss_res / ss_tot)\n",
    "    return r2"
   ]
  },
  {
   "cell_type": "code",
   "execution_count": 10,
   "metadata": {
    "colab": {
     "base_uri": "https://localhost:8080/"
    },
    "executionInfo": {
     "elapsed": 1377,
     "status": "ok",
     "timestamp": 1695831650056,
     "user": {
      "displayName": "Khoa Nguyen Tho Anh",
      "userId": "05392028195404260378"
     },
     "user_tz": -420
    },
    "id": "_zKAQSlqR1MZ",
    "outputId": "a8ad88c0-57ae-463c-9a52-516d74e43339"
   },
   "outputs": [
    {
     "name": "stderr",
     "output_type": "stream",
     "text": [
      "/home/huydn/miniconda3/envs/torch/lib/python3.11/site-packages/torch/nn/modules/loss.py:535: UserWarning: Using a target size (torch.Size([32])) that is different to the input size (torch.Size([32, 1])). This will likely lead to incorrect results due to broadcasting. Please ensure they have the same size.\n",
      "  return F.mse_loss(input, target, reduction=self.reduction)\n",
      "/home/huydn/miniconda3/envs/torch/lib/python3.11/site-packages/torch/nn/modules/loss.py:535: UserWarning: Using a target size (torch.Size([26])) that is different to the input size (torch.Size([26, 1])). This will likely lead to incorrect results due to broadcasting. Please ensure they have the same size.\n",
      "  return F.mse_loss(input, target, reduction=self.reduction)\n",
      "/home/huydn/miniconda3/envs/torch/lib/python3.11/site-packages/torch/nn/modules/loss.py:535: UserWarning: Using a target size (torch.Size([14])) that is different to the input size (torch.Size([14, 1])). This will likely lead to incorrect results due to broadcasting. Please ensure they have the same size.\n",
      "  return F.mse_loss(input, target, reduction=self.reduction)\n"
     ]
    },
    {
     "name": "stdout",
     "output_type": "stream",
     "text": [
      "Epoch 1/100, Train_Loss: 228.4833,  Validation Loss: 89.2262\n",
      "Epoch 2/100, Train_Loss: 61.6996,  Validation Loss: 69.2590\n",
      "Epoch 3/100, Train_Loss: 59.4952,  Validation Loss: 69.7167\n",
      "Epoch 4/100, Train_Loss: 59.7133,  Validation Loss: 68.0582\n",
      "Epoch 5/100, Train_Loss: 59.9929,  Validation Loss: 67.1106\n",
      "Epoch 6/100, Train_Loss: 59.9316,  Validation Loss: 67.1830\n",
      "Epoch 7/100, Train_Loss: 59.9631,  Validation Loss: 68.6051\n",
      "Epoch 8/100, Train_Loss: 59.4988,  Validation Loss: 66.7424\n",
      "Epoch 9/100, Train_Loss: 59.6991,  Validation Loss: 64.7512\n",
      "Epoch 10/100, Train_Loss: 59.8547,  Validation Loss: 64.3389\n",
      "Epoch 11/100, Train_Loss: 59.8767,  Validation Loss: 66.9316\n",
      "Epoch 12/100, Train_Loss: 59.7053,  Validation Loss: 66.9891\n",
      "Epoch 13/100, Train_Loss: 59.8610,  Validation Loss: 60.6497\n",
      "Epoch 14/100, Train_Loss: 59.7836,  Validation Loss: 65.8763\n",
      "Epoch 15/100, Train_Loss: 60.1470,  Validation Loss: 68.8886\n",
      "Epoch 16/100, Train_Loss: 59.5033,  Validation Loss: 63.9650\n",
      "Epoch 17/100, Train_Loss: 60.3854,  Validation Loss: 69.0196\n",
      "Epoch 18/100, Train_Loss: 59.9942,  Validation Loss: 69.1687\n",
      "Epoch 19/100, Train_Loss: 60.7049,  Validation Loss: 66.4176\n",
      "Epoch 20/100, Train_Loss: 60.0508,  Validation Loss: 66.7107\n",
      "Epoch 21/100, Train_Loss: 59.6062,  Validation Loss: 67.7685\n",
      "Epoch 22/100, Train_Loss: 59.9272,  Validation Loss: 68.9985\n",
      "Epoch 23/100, Train_Loss: 60.1639,  Validation Loss: 69.8935\n",
      "Epoch 24/100, Train_Loss: 59.3908,  Validation Loss: 66.5549\n",
      "Epoch 25/100, Train_Loss: 59.7569,  Validation Loss: 68.8572\n",
      "Epoch 26/100, Train_Loss: 60.6175,  Validation Loss: 64.1124\n",
      "Epoch 27/100, Train_Loss: 59.3616,  Validation Loss: 68.5480\n",
      "Epoch 28/100, Train_Loss: 60.3843,  Validation Loss: 61.0328\n",
      "Epoch 29/100, Train_Loss: 59.9548,  Validation Loss: 67.3433\n",
      "Epoch 30/100, Train_Loss: 60.2005,  Validation Loss: 67.2431\n",
      "Epoch 31/100, Train_Loss: 59.2680,  Validation Loss: 67.1066\n",
      "Epoch 32/100, Train_Loss: 60.2288,  Validation Loss: 68.3582\n",
      "Epoch 33/100, Train_Loss: 59.6964,  Validation Loss: 66.1247\n",
      "Epoch 34/100, Train_Loss: 60.3362,  Validation Loss: 67.9509\n",
      "Epoch 35/100, Train_Loss: 59.6627,  Validation Loss: 67.2308\n",
      "Epoch 36/100, Train_Loss: 59.5449,  Validation Loss: 69.4777\n",
      "Epoch 37/100, Train_Loss: 60.1551,  Validation Loss: 67.6466\n",
      "Epoch 38/100, Train_Loss: 59.9003,  Validation Loss: 69.0339\n",
      "Epoch 39/100, Train_Loss: 60.0600,  Validation Loss: 69.7563\n",
      "Epoch 40/100, Train_Loss: 59.7159,  Validation Loss: 65.7640\n",
      "Epoch 41/100, Train_Loss: 60.1190,  Validation Loss: 62.3689\n",
      "Epoch 42/100, Train_Loss: 59.8631,  Validation Loss: 69.0876\n",
      "Epoch 43/100, Train_Loss: 59.9187,  Validation Loss: 69.0297\n",
      "Epoch 44/100, Train_Loss: 60.0456,  Validation Loss: 68.7799\n",
      "Epoch 45/100, Train_Loss: 60.0361,  Validation Loss: 64.6330\n",
      "Epoch 46/100, Train_Loss: 59.8673,  Validation Loss: 68.3706\n",
      "Epoch 47/100, Train_Loss: 59.8442,  Validation Loss: 64.2057\n",
      "Epoch 48/100, Train_Loss: 60.2545,  Validation Loss: 67.5922\n",
      "Epoch 49/100, Train_Loss: 60.1789,  Validation Loss: 59.0770\n",
      "Epoch 50/100, Train_Loss: 60.0998,  Validation Loss: 68.5508\n",
      "Epoch 51/100, Train_Loss: 59.4899,  Validation Loss: 67.9786\n",
      "Epoch 52/100, Train_Loss: 59.7489,  Validation Loss: 68.1694\n",
      "Epoch 53/100, Train_Loss: 59.7172,  Validation Loss: 68.0695\n",
      "Epoch 54/100, Train_Loss: 60.2691,  Validation Loss: 67.8202\n",
      "Epoch 55/100, Train_Loss: 60.3970,  Validation Loss: 67.1593\n",
      "Epoch 56/100, Train_Loss: 59.8856,  Validation Loss: 67.4050\n",
      "Epoch 57/100, Train_Loss: 59.9749,  Validation Loss: 66.8416\n",
      "Epoch 58/100, Train_Loss: 59.8999,  Validation Loss: 68.5321\n",
      "Epoch 59/100, Train_Loss: 59.9759,  Validation Loss: 64.8193\n",
      "Epoch 60/100, Train_Loss: 60.0739,  Validation Loss: 65.3280\n",
      "Epoch 61/100, Train_Loss: 59.8237,  Validation Loss: 68.4339\n",
      "Epoch 62/100, Train_Loss: 60.2060,  Validation Loss: 66.7337\n",
      "Epoch 63/100, Train_Loss: 59.6993,  Validation Loss: 66.3031\n",
      "Epoch 64/100, Train_Loss: 60.4671,  Validation Loss: 69.1263\n",
      "Epoch 65/100, Train_Loss: 59.6899,  Validation Loss: 68.0993\n",
      "Epoch 66/100, Train_Loss: 59.8030,  Validation Loss: 67.2212\n",
      "Epoch 67/100, Train_Loss: 60.1679,  Validation Loss: 66.8700\n",
      "Epoch 68/100, Train_Loss: 60.3223,  Validation Loss: 67.2898\n",
      "Epoch 69/100, Train_Loss: 60.4769,  Validation Loss: 60.9293\n",
      "Epoch 70/100, Train_Loss: 60.8316,  Validation Loss: 65.8912\n",
      "Epoch 71/100, Train_Loss: 60.3208,  Validation Loss: 68.3075\n",
      "Epoch 72/100, Train_Loss: 60.6674,  Validation Loss: 66.8589\n",
      "Epoch 73/100, Train_Loss: 60.2123,  Validation Loss: 69.0134\n",
      "Epoch 74/100, Train_Loss: 59.6749,  Validation Loss: 67.6574\n",
      "Epoch 75/100, Train_Loss: 59.9767,  Validation Loss: 69.4516\n",
      "Epoch 76/100, Train_Loss: 59.5783,  Validation Loss: 69.2225\n",
      "Epoch 77/100, Train_Loss: 60.0709,  Validation Loss: 69.5372\n",
      "Epoch 78/100, Train_Loss: 59.6861,  Validation Loss: 69.6136\n",
      "Epoch 79/100, Train_Loss: 59.9209,  Validation Loss: 68.1906\n",
      "Epoch 80/100, Train_Loss: 59.7822,  Validation Loss: 67.1773\n",
      "Epoch 81/100, Train_Loss: 60.0854,  Validation Loss: 68.9179\n",
      "Epoch 82/100, Train_Loss: 60.1996,  Validation Loss: 70.0124\n",
      "Epoch 83/100, Train_Loss: 59.5445,  Validation Loss: 67.3934\n",
      "Epoch 84/100, Train_Loss: 60.0879,  Validation Loss: 59.7907\n",
      "Epoch 85/100, Train_Loss: 59.6463,  Validation Loss: 68.3242\n",
      "Epoch 86/100, Train_Loss: 59.7420,  Validation Loss: 66.1726\n",
      "Epoch 87/100, Train_Loss: 59.4996,  Validation Loss: 69.5111\n",
      "Epoch 88/100, Train_Loss: 60.0931,  Validation Loss: 68.4358\n",
      "Epoch 89/100, Train_Loss: 59.6180,  Validation Loss: 68.8706\n",
      "Epoch 90/100, Train_Loss: 59.8163,  Validation Loss: 67.1571\n",
      "Epoch 91/100, Train_Loss: 60.5913,  Validation Loss: 63.7036\n",
      "Epoch 92/100, Train_Loss: 59.5984,  Validation Loss: 68.0399\n",
      "Epoch 93/100, Train_Loss: 59.4685,  Validation Loss: 67.5401\n",
      "Epoch 94/100, Train_Loss: 59.7210,  Validation Loss: 68.0976\n",
      "Epoch 95/100, Train_Loss: 59.9467,  Validation Loss: 66.8197\n",
      "Epoch 96/100, Train_Loss: 59.9882,  Validation Loss: 69.1428\n",
      "Epoch 97/100, Train_Loss: 60.1791,  Validation Loss: 67.7509\n",
      "Epoch 98/100, Train_Loss: 59.1927,  Validation Loss: 69.6296\n",
      "Epoch 99/100, Train_Loss: 59.4714,  Validation Loss: 70.3100\n",
      "Epoch 100/100, Train_Loss: 60.0101,  Validation Loss: 68.4931\n"
     ]
    }
   ],
   "source": [
    "num_epochs = 100\n",
    "train_losses = []\n",
    "val_losses = []\n",
    "train_r2 = []\n",
    "val_r2 = []\n",
    "\n",
    "for epoch in range(num_epochs):\n",
    "    # Set model to training mode\n",
    "    model.train()\n",
    "    train_loss = 0.0\n",
    "    train_target = []\n",
    "    val_target = []\n",
    "    train_predict = []\n",
    "    val_predict = []\n",
    "\n",
    "    # Training\n",
    "    for X, y in train_loader:\n",
    "        X, y = X.to(device), y.to(device)\n",
    "        optimizer.zero_grad()\n",
    "        outputs = model(X)\n",
    "        train_predict.extend(outputs.tolist())\n",
    "        train_target.extend(y.tolist())\n",
    "        loss = criterion(outputs, y)\n",
    "        loss.backward()\n",
    "        optimizer.step()\n",
    "        train_loss += loss.item()\n",
    "    \n",
    "    train_loss /= len(train_loader)\n",
    "    train_losses.append(train_loss)\n",
    "    train_r2.append(r_squared(train_target, train_predict))\n",
    "    model.eval()\n",
    "    val_loss = 0.0\n",
    "\n",
    "    # Validation\n",
    "    with torch.no_grad():\n",
    "        for X, y in val_loader:\n",
    "            X, y = X.to(device), y.to(device)\n",
    "            outputs = model(X)\n",
    "            val_predict.extend(outputs.tolist())\n",
    "            val_target.extend(y.tolist())\n",
    "            loss = criterion(outputs, y)\n",
    "            val_loss += loss.item()\n",
    "\n",
    "    # Print loss\n",
    "    val_loss /= len(val_loader)\n",
    "    val_losses.append(val_loss)\n",
    "    val_r2.append(r_squared(val_target, val_predict))\n",
    "    print(f\"Epoch {epoch+1}/{num_epochs}, Train_Loss: {train_loss:.4f},  Validation Loss: {val_loss:.4f}\")"
   ]
  },
  {
   "cell_type": "code",
   "execution_count": 11,
   "metadata": {
    "colab": {
     "base_uri": "https://localhost:8080/",
     "height": 449
    },
    "executionInfo": {
     "elapsed": 866,
     "status": "ok",
     "timestamp": 1695831655190,
     "user": {
      "displayName": "Khoa Nguyen Tho Anh",
      "userId": "05392028195404260378"
     },
     "user_tz": -420
    },
    "id": "brcdf1XpU2gw",
    "outputId": "b193e062-378b-4f8f-eb93-8e76e171e95c"
   },
   "outputs": [
    {
     "data": {
      "image/png": "[encoded data removed]",
      "text/plain": [
       "<Figure size 640x480 with 1 Axes>"
      ]
     },
     "metadata": {},
     "output_type": "display_data"
    }
   ],
   "source": [
    "plt.plot(train_losses, label='loss')\n",
    "plt.plot(val_losses, label='val_loss')\n",
    "# plt.ylim([0, 40])\n",
    "plt.xlabel('Epoch')\n",
    "plt.ylabel('Error [MPG]')\n",
    "plt.legend()\n",
    "plt.grid(True)"
   ]
  },
  {
   "cell_type": "code",
   "execution_count": 12,
   "metadata": {
    "colab": {
     "base_uri": "https://localhost:8080/",
     "height": 449
    },
    "executionInfo": {
     "elapsed": 928,
     "status": "ok",
     "timestamp": 1695831659803,
     "user": {
      "displayName": "Khoa Nguyen Tho Anh",
      "userId": "05392028195404260378"
     },
     "user_tz": -420
    },
    "id": "fKYzOBdRb5ps",
    "outputId": "0520ea16-b6fe-499e-a1cd-26172609ab9e"
   },
   "outputs": [
    {
     "data": {
      "image/png": "[encoded data removed]",
      "text/plain": [
       "<Figure size 640x480 with 1 Axes>"
      ]
     },
     "metadata": {},
     "output_type": "display_data"
    }
   ],
   "source": [
    "plt.plot(train_r2, label='r2')\n",
    "plt.plot(val_r2, label='val_r2')\n",
    "# plt.ylim([0, 40])\n",
    "plt.xlabel('Epoch')\n",
    "plt.ylabel('Error [MPG]')\n",
    "plt.legend()\n",
    "plt.grid(True)"
   ]
  }
 ],
 "metadata": {
  "accelerator": "GPU",
  "colab": {
   "provenance": [],
   "toc_visible": true
  },
  "gpuClass": "standard",
  "kernelspec": {
   "display_name": "Python 3 (ipykernel)",
   "language": "python",
   "name": "python3"
  },
  "language_info": {
   "codemirror_mode": {
    "name": "ipython",
    "version": 3
   },
   "file_extension": ".py",
   "mimetype": "text/x-python",
   "name": "python",
   "nbconvert_exporter": "python",
   "pygments_lexer": "ipython3",
   "version": "3.11.5"
  }
 },
 "nbformat": 4,
 "nbformat_minor": 4
}
