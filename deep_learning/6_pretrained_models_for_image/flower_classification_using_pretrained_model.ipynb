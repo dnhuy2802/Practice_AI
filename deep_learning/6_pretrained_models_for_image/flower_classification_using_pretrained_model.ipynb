{
  "cells": [
    {
      "cell_type": "code",
      "execution_count": 1,
      "metadata": {
        "id": "7iz4ivIW4rag"
      },
      "outputs": [],
      "source": [
        "import os\n",
        "import time\n",
        "import random\n",
        "import numpy as np\n",
        "\n",
        "import torch\n",
        "import torch.nn as nn\n",
        "import torch.optim as optim\n",
        "import torch.nn.functional as F\n",
        "import torch.utils.data as data\n",
        "\n",
        "from torchvision import datasets, models, transforms\n",
        "\n",
        "from torchsummary import summary\n",
        "\n",
        "import matplotlib.pyplot as plt\n",
        "from PIL import Image"
      ]
    },
    {
      "cell_type": "code",
      "execution_count": 2,
      "metadata": {
        "id": "7ZR6C5aREz9x"
      },
      "outputs": [],
      "source": [
        "SEED = 1\n",
        "\n",
        "random.seed(SEED)\n",
        "np.random.seed(SEED)\n",
        "torch.manual_seed(SEED)\n",
        "torch.cuda.manual_seed(SEED)\n",
        "torch.backends.cudnn.deterministic = True"
      ]
    },
    {
      "cell_type": "markdown",
      "metadata": {
        "id": "BbXUCx78_8wx"
      },
      "source": [
        "##**1. Load Flower dataset and Preprocessing**"
      ]
    },
    {
      "cell_type": "markdown",
      "metadata": {
        "id": "ZDNl57--Auyv"
      },
      "source": [
        "**Load Dataset from Path**"
      ]
    },
    {
      "cell_type": "code",
      "execution_count": 3,
      "metadata": {
        "id": "DIuxfkko5E4y"
      },
      "outputs": [],
      "source": [
        "data_pạth = \"data/flower_photos\""
      ]
    },
    {
      "cell_type": "code",
      "execution_count": 4,
      "metadata": {
        "id": "ogcAcqEZ6nzR"
      },
      "outputs": [],
      "source": [
        "# load image from path\n",
        "dataset = datasets.ImageFolder(root=data_pạth)"
      ]
    },
    {
      "cell_type": "code",
      "execution_count": 5,
      "metadata": {
        "colab": {
          "base_uri": "https://localhost:8080/"
        },
        "id": "1dORKXFMGRgZ",
        "outputId": "2e67d30d-5339-4a7b-a89b-7ebcfc213ea9"
      },
      "outputs": [
        {
          "data": {
            "text/plain": [
              "Dataset ImageFolder\n",
              "    Number of datapoints: 3670\n",
              "    Root location: data/flower_photos"
            ]
          },
          "execution_count": 5,
          "metadata": {},
          "output_type": "execute_result"
        }
      ],
      "source": [
        "dataset"
      ]
    },
    {
      "cell_type": "code",
      "execution_count": 6,
      "metadata": {
        "colab": {
          "base_uri": "https://localhost:8080/"
        },
        "id": "VOXNzbH1AqQE",
        "outputId": "5ca678fe-988a-4696-f3f4-306b6766d38a"
      },
      "outputs": [
        {
          "data": {
            "text/plain": [
              "3670"
            ]
          },
          "execution_count": 6,
          "metadata": {},
          "output_type": "execute_result"
        }
      ],
      "source": [
        "num_samples = len(dataset)\n",
        "num_samples"
      ]
    },
    {
      "cell_type": "code",
      "execution_count": 7,
      "metadata": {
        "colab": {
          "base_uri": "https://localhost:8080/"
        },
        "id": "HyYTDHMu5RO_",
        "outputId": "35dc8177-b662-4f93-85c7-9022522ab638"
      },
      "outputs": [
        {
          "data": {
            "text/plain": [
              "['daisy', 'dandelion', 'roses', 'sunflowers', 'tulips']"
            ]
          },
          "execution_count": 7,
          "metadata": {},
          "output_type": "execute_result"
        }
      ],
      "source": [
        "dataset.classes"
      ]
    },
    {
      "cell_type": "code",
      "execution_count": 8,
      "metadata": {
        "id": "QLwg4Lz4JdSb"
      },
      "outputs": [],
      "source": [
        "num_classes = len(dataset.classes)"
      ]
    },
    {
      "cell_type": "markdown",
      "metadata": {
        "id": "uk4JU_zJAyu9"
      },
      "source": [
        "**Training : validation : testing = 0.8 : 0.1 : 0.1**"
      ]
    },
    {
      "cell_type": "code",
      "execution_count": 9,
      "metadata": {
        "id": "coCip7FO5qEZ"
      },
      "outputs": [],
      "source": [
        "TRAIN_RATIO, VALID_RATIO = 0.8, 0.1\n",
        "\n",
        "n_train_examples = int(num_samples * TRAIN_RATIO)\n",
        "n_valid_examples = int(num_samples * VALID_RATIO)\n",
        "n_test_examples = num_samples - n_train_examples - n_valid_examples"
      ]
    },
    {
      "cell_type": "code",
      "execution_count": 10,
      "metadata": {
        "colab": {
          "base_uri": "https://localhost:8080/"
        },
        "id": "9xnoMF6b555D",
        "outputId": "456ce1bb-92b0-47fc-ffcb-e543d4a50a37"
      },
      "outputs": [
        {
          "data": {
            "text/plain": [
              "(2936, 367, 367)"
            ]
          },
          "execution_count": 10,
          "metadata": {},
          "output_type": "execute_result"
        }
      ],
      "source": [
        "n_train_examples, n_valid_examples, n_test_examples"
      ]
    },
    {
      "cell_type": "code",
      "execution_count": 11,
      "metadata": {
        "id": "r1CXDmD75-oE"
      },
      "outputs": [],
      "source": [
        "train_dataset, valid_dataset, test_dataset = data.random_split(\n",
        "    dataset,\n",
        "    [n_train_examples, n_valid_examples, n_test_examples]\n",
        ")"
      ]
    },
    {
      "cell_type": "markdown",
      "metadata": {
        "id": "3NxVOeh-Bvqm"
      },
      "source": [
        "**Augmentation**"
      ]
    },
    {
      "cell_type": "code",
      "execution_count": 12,
      "metadata": {
        "id": "iT1NCq8F9yf0"
      },
      "outputs": [],
      "source": [
        "# resize + convert to tensor\n",
        "IMG_SIZE = 224\n",
        "\n",
        "train_transforms = transforms.Compose([\n",
        "    transforms.Resize((IMG_SIZE, IMG_SIZE)),\n",
        "    transforms.RandomHorizontalFlip(),\n",
        "    transforms.RandomRotation(0.2),\n",
        "    transforms.ToTensor(),\n",
        "    transforms.Normalize([0.5, 0.5, 0.5], [0.5, 0.5, 0.5])\n",
        "])\n",
        "\n",
        "test_transforms = transforms.Compose([\n",
        "    transforms.Resize((IMG_SIZE, IMG_SIZE)),\n",
        "    transforms.ToTensor(),\n",
        "    transforms.Normalize([0.5, 0.5, 0.5], [0.5, 0.5, 0.5])\n",
        "])"
      ]
    },
    {
      "cell_type": "code",
      "execution_count": 13,
      "metadata": {
        "id": "fBXUGNG-6DzP"
      },
      "outputs": [],
      "source": [
        "train_dataset.dataset.transform = train_transforms\n",
        "valid_dataset.dataset.transform = test_transforms\n",
        "test_dataset.dataset.transform = test_transforms"
      ]
    },
    {
      "cell_type": "markdown",
      "metadata": {},
      "source": [
        "##**2. Dataloader**"
      ]
    },
    {
      "cell_type": "code",
      "execution_count": 14,
      "metadata": {
        "id": "ic0f7rl56aQB"
      },
      "outputs": [],
      "source": [
        "BATCH_SIZE = 64\n",
        "\n",
        "train_dataloader = data.DataLoader(\n",
        "    train_dataset,\n",
        "    shuffle=True,\n",
        "    batch_size=BATCH_SIZE\n",
        ")\n",
        "\n",
        "valid_dataloader = data.DataLoader(\n",
        "    valid_dataset,\n",
        "    batch_size=BATCH_SIZE\n",
        ")\n",
        "\n",
        "test_dataloader = data.DataLoader(\n",
        "    test_dataset,\n",
        "    batch_size=BATCH_SIZE\n",
        ")"
      ]
    },
    {
      "cell_type": "code",
      "execution_count": 15,
      "metadata": {
        "id": "fYAs-lDO6e1J"
      },
      "outputs": [],
      "source": [
        "inputs, labels = next(iter(train_dataloader))"
      ]
    },
    {
      "cell_type": "code",
      "execution_count": 16,
      "metadata": {
        "colab": {
          "base_uri": "https://localhost:8080/"
        },
        "id": "Opplwv4CHfmg",
        "outputId": "f4fe17e5-bb15-4240-e0cd-76a06296ddff"
      },
      "outputs": [
        {
          "data": {
            "text/plain": [
              "torch.Size([64, 3, 224, 224])"
            ]
          },
          "execution_count": 16,
          "metadata": {},
          "output_type": "execute_result"
        }
      ],
      "source": [
        "inputs.shape"
      ]
    },
    {
      "cell_type": "code",
      "execution_count": 17,
      "metadata": {
        "colab": {
          "base_uri": "https://localhost:8080/"
        },
        "id": "d4bpfz_7LdLs",
        "outputId": "588f5f19-98c1-4186-ae93-efb3bf5859f4"
      },
      "outputs": [
        {
          "data": {
            "text/plain": [
              "46"
            ]
          },
          "execution_count": 17,
          "metadata": {},
          "output_type": "execute_result"
        }
      ],
      "source": [
        "len(train_dataloader)"
      ]
    },
    {
      "cell_type": "markdown",
      "metadata": {
        "id": "_uExLmvJKRS2"
      },
      "source": [
        "##**3. Trainer**"
      ]
    },
    {
      "cell_type": "code",
      "execution_count": 18,
      "metadata": {
        "id": "gsTuucfWKTtE"
      },
      "outputs": [],
      "source": [
        "def train_epoch(model, optimizer, criterion, train_dataloader, device, epoch=0, log_interval=5):\n",
        "    model.train()\n",
        "    accs, losses = [], []\n",
        "    start_time = time.time()\n",
        "\n",
        "    for idx, (inputs, labels) in enumerate(train_dataloader):\n",
        "        inputs = inputs.to(device)\n",
        "        labels = labels.to(device)\n",
        "\n",
        "        optimizer.zero_grad()\n",
        "\n",
        "        predictions = model(inputs)\n",
        "\n",
        "        # compute loss\n",
        "        loss = criterion(predictions, labels)\n",
        "        losses.append(loss.item())\n",
        "\n",
        "        # backward\n",
        "        loss.backward()\n",
        "        optimizer.step()\n",
        "\n",
        "        total_acc = (predictions.argmax(1) == labels).sum().item()\n",
        "        acc = total_acc / labels.size(0)\n",
        "        accs.append(acc)\n",
        "        if idx % log_interval == 0 and idx > 0:\n",
        "            elapsed = time.time() - start_time\n",
        "            print(\n",
        "                \"| epoch {:3d} | {:5d}/{:5d} batches \"\n",
        "                \"| accuracy {:8.3f}\".format(\n",
        "                    epoch, idx, len(train_dataloader), sum(accs) / len(accs)\n",
        "                )\n",
        "            )\n",
        "            start_time = time.time()\n",
        "\n",
        "    epoch_acc = sum(accs) / len(accs)\n",
        "    epoch_loss = sum(losses) / len(losses)\n",
        "    return epoch_acc, epoch_loss"
      ]
    },
    {
      "cell_type": "code",
      "execution_count": 19,
      "metadata": {
        "id": "X7kn_HbVKZyz"
      },
      "outputs": [],
      "source": [
        "def evaluate_epoch(model, criterion, valid_dataloader):\n",
        "    model.eval()\n",
        "    accs, losses = [], []\n",
        "\n",
        "    with torch.no_grad():\n",
        "        for idx, (inputs, labels) in enumerate(valid_dataloader):\n",
        "            inputs = inputs.to(device)\n",
        "            labels = labels.to(device)\n",
        "\n",
        "            predictions = model(inputs)\n",
        "\n",
        "            loss = criterion(predictions, labels)\n",
        "            losses.append(loss.item())\n",
        "\n",
        "            total_acc = (predictions.argmax(1) == labels).sum().item()\n",
        "            acc = total_acc / labels.size(0)\n",
        "            accs.append(acc)\n",
        "\n",
        "    epoch_acc = sum(accs) / len(accs)\n",
        "    epoch_loss = sum(losses) / len(losses)\n",
        "    return epoch_acc, epoch_loss"
      ]
    },
    {
      "cell_type": "code",
      "execution_count": 20,
      "metadata": {
        "id": "yLASx-6kM0Wg"
      },
      "outputs": [],
      "source": [
        "def train(model, model_name, save_model, optimizer, criterion, train_dataloader, valid_dataloader, num_epochs, device):\n",
        "    train_accs, train_losses = [], []\n",
        "    eval_accs, eval_losses = [], []\n",
        "    best_loss_eval = 100\n",
        "    times = []\n",
        "    for epoch in range(1, num_epochs+1):\n",
        "        epoch_start_time = time.time()\n",
        "        # Training\n",
        "        train_acc, train_loss = train_epoch(model, optimizer, criterion, train_dataloader, device, epoch)\n",
        "        train_accs.append(train_acc)\n",
        "        train_losses.append(train_loss)\n",
        "\n",
        "        # Evaluation\n",
        "        eval_acc, eval_loss = evaluate_epoch(model, criterion, valid_dataloader)\n",
        "        eval_accs.append(eval_acc)\n",
        "        eval_losses.append(eval_loss)\n",
        "\n",
        "        # Save best model\n",
        "        if eval_loss < best_loss_eval:\n",
        "            torch.save(model.state_dict(), save_model + f'/{model_name}.pt')\n",
        "\n",
        "        times.append(time.time() - epoch_start_time)\n",
        "        # Print loss, acc end epoch\n",
        "        print(\"-\" * 59)\n",
        "        print(\n",
        "            \"| End of epoch {:3d} | Time: {:5.2f}s | Train Accuracy {:8.3f} | Train Loss {:8.3f} \"\n",
        "            \"| Valid Accuracy {:8.3f} | Valid Loss {:8.3f} \".format(\n",
        "                epoch, time.time() - epoch_start_time, train_acc, train_loss, eval_acc, eval_loss\n",
        "            )\n",
        "        )\n",
        "        print(\"-\" * 59)\n",
        "\n",
        "    # Load best model\n",
        "    model.load_state_dict(torch.load(save_model + f'/{model_name}.pt'))\n",
        "    model.eval()\n",
        "    metrics = {\n",
        "        'train_accuracy': train_accs,\n",
        "        'train_loss': train_losses,\n",
        "        'valid_accuracy': eval_accs,\n",
        "        'valid_loss': eval_losses,\n",
        "        'time': times\n",
        "    }\n",
        "    return model, metrics"
      ]
    },
    {
      "cell_type": "code",
      "execution_count": 21,
      "metadata": {
        "id": "dx2itK1p2kMu"
      },
      "outputs": [],
      "source": [
        "def plot_result(num_epochs, train_accs, eval_accs, train_losses, eval_losses):\n",
        "    epochs = list(range(num_epochs))\n",
        "    fig, axs = plt.subplots(nrows = 1, ncols =2 , figsize = (12,6))\n",
        "    axs[0].plot(epochs, train_accs, label = \"Training\")\n",
        "    axs[0].plot(epochs, eval_accs, label = \"Evaluation\")\n",
        "    axs[1].plot(epochs, train_losses, label = \"Training\")\n",
        "    axs[1].plot(epochs, eval_losses, label = \"Evaluation\")\n",
        "    axs[0].set_xlabel(\"Epochs\")\n",
        "    axs[1].set_xlabel(\"Epochs\")\n",
        "    axs[0].set_ylabel(\"Accuracy\")\n",
        "    axs[1].set_ylabel(\"Loss\")\n",
        "    plt.legend()"
      ]
    },
    {
      "cell_type": "markdown",
      "metadata": {
        "id": "V13mwIfHIDFj"
      },
      "source": [
        "##**4. Model**"
      ]
    },
    {
      "cell_type": "markdown",
      "metadata": {
        "id": "SQ9jpdtYIQQt"
      },
      "source": [
        "###**4.1. From Scratch**"
      ]
    },
    {
      "cell_type": "code",
      "execution_count": 22,
      "metadata": {
        "id": "xCTI-HbEIV22"
      },
      "outputs": [],
      "source": [
        "model = models.resnet18(weights=None)"
      ]
    },
    {
      "cell_type": "code",
      "execution_count": 23,
      "metadata": {
        "id": "cvNkDYxgJOW2"
      },
      "outputs": [],
      "source": [
        "in_features = model.fc.in_features\n",
        "model.fc = nn.Linear(in_features, num_classes)"
      ]
    },
    {
      "cell_type": "code",
      "execution_count": 24,
      "metadata": {
        "colab": {
          "base_uri": "https://localhost:8080/"
        },
        "id": "gxQg-wbOJKAl",
        "outputId": "d31fff58-abf8-4673-ea6e-ad38ea5bb280"
      },
      "outputs": [
        {
          "data": {
            "text/plain": [
              "ResNet(\n",
              "  (conv1): Conv2d(3, 64, kernel_size=(7, 7), stride=(2, 2), padding=(3, 3), bias=False)\n",
              "  (bn1): BatchNorm2d(64, eps=1e-05, momentum=0.1, affine=True, track_running_stats=True)\n",
              "  (relu): ReLU(inplace=True)\n",
              "  (maxpool): MaxPool2d(kernel_size=3, stride=2, padding=1, dilation=1, ceil_mode=False)\n",
              "  (layer1): Sequential(\n",
              "    (0): BasicBlock(\n",
              "      (conv1): Conv2d(64, 64, kernel_size=(3, 3), stride=(1, 1), padding=(1, 1), bias=False)\n",
              "      (bn1): BatchNorm2d(64, eps=1e-05, momentum=0.1, affine=True, track_running_stats=True)\n",
              "      (relu): ReLU(inplace=True)\n",
              "      (conv2): Conv2d(64, 64, kernel_size=(3, 3), stride=(1, 1), padding=(1, 1), bias=False)\n",
              "      (bn2): BatchNorm2d(64, eps=1e-05, momentum=0.1, affine=True, track_running_stats=True)\n",
              "    )\n",
              "    (1): BasicBlock(\n",
              "      (conv1): Conv2d(64, 64, kernel_size=(3, 3), stride=(1, 1), padding=(1, 1), bias=False)\n",
              "      (bn1): BatchNorm2d(64, eps=1e-05, momentum=0.1, affine=True, track_running_stats=True)\n",
              "      (relu): ReLU(inplace=True)\n",
              "      (conv2): Conv2d(64, 64, kernel_size=(3, 3), stride=(1, 1), padding=(1, 1), bias=False)\n",
              "      (bn2): BatchNorm2d(64, eps=1e-05, momentum=0.1, affine=True, track_running_stats=True)\n",
              "    )\n",
              "  )\n",
              "  (layer2): Sequential(\n",
              "    (0): BasicBlock(\n",
              "      (conv1): Conv2d(64, 128, kernel_size=(3, 3), stride=(2, 2), padding=(1, 1), bias=False)\n",
              "      (bn1): BatchNorm2d(128, eps=1e-05, momentum=0.1, affine=True, track_running_stats=True)\n",
              "      (relu): ReLU(inplace=True)\n",
              "      (conv2): Conv2d(128, 128, kernel_size=(3, 3), stride=(1, 1), padding=(1, 1), bias=False)\n",
              "      (bn2): BatchNorm2d(128, eps=1e-05, momentum=0.1, affine=True, track_running_stats=True)\n",
              "      (downsample): Sequential(\n",
              "        (0): Conv2d(64, 128, kernel_size=(1, 1), stride=(2, 2), bias=False)\n",
              "        (1): BatchNorm2d(128, eps=1e-05, momentum=0.1, affine=True, track_running_stats=True)\n",
              "      )\n",
              "    )\n",
              "    (1): BasicBlock(\n",
              "      (conv1): Conv2d(128, 128, kernel_size=(3, 3), stride=(1, 1), padding=(1, 1), bias=False)\n",
              "      (bn1): BatchNorm2d(128, eps=1e-05, momentum=0.1, affine=True, track_running_stats=True)\n",
              "      (relu): ReLU(inplace=True)\n",
              "      (conv2): Conv2d(128, 128, kernel_size=(3, 3), stride=(1, 1), padding=(1, 1), bias=False)\n",
              "      (bn2): BatchNorm2d(128, eps=1e-05, momentum=0.1, affine=True, track_running_stats=True)\n",
              "    )\n",
              "  )\n",
              "  (layer3): Sequential(\n",
              "    (0): BasicBlock(\n",
              "      (conv1): Conv2d(128, 256, kernel_size=(3, 3), stride=(2, 2), padding=(1, 1), bias=False)\n",
              "      (bn1): BatchNorm2d(256, eps=1e-05, momentum=0.1, affine=True, track_running_stats=True)\n",
              "      (relu): ReLU(inplace=True)\n",
              "      (conv2): Conv2d(256, 256, kernel_size=(3, 3), stride=(1, 1), padding=(1, 1), bias=False)\n",
              "      (bn2): BatchNorm2d(256, eps=1e-05, momentum=0.1, affine=True, track_running_stats=True)\n",
              "      (downsample): Sequential(\n",
              "        (0): Conv2d(128, 256, kernel_size=(1, 1), stride=(2, 2), bias=False)\n",
              "        (1): BatchNorm2d(256, eps=1e-05, momentum=0.1, affine=True, track_running_stats=True)\n",
              "      )\n",
              "    )\n",
              "    (1): BasicBlock(\n",
              "      (conv1): Conv2d(256, 256, kernel_size=(3, 3), stride=(1, 1), padding=(1, 1), bias=False)\n",
              "      (bn1): BatchNorm2d(256, eps=1e-05, momentum=0.1, affine=True, track_running_stats=True)\n",
              "      (relu): ReLU(inplace=True)\n",
              "      (conv2): Conv2d(256, 256, kernel_size=(3, 3), stride=(1, 1), padding=(1, 1), bias=False)\n",
              "      (bn2): BatchNorm2d(256, eps=1e-05, momentum=0.1, affine=True, track_running_stats=True)\n",
              "    )\n",
              "  )\n",
              "  (layer4): Sequential(\n",
              "    (0): BasicBlock(\n",
              "      (conv1): Conv2d(256, 512, kernel_size=(3, 3), stride=(2, 2), padding=(1, 1), bias=False)\n",
              "      (bn1): BatchNorm2d(512, eps=1e-05, momentum=0.1, affine=True, track_running_stats=True)\n",
              "      (relu): ReLU(inplace=True)\n",
              "      (conv2): Conv2d(512, 512, kernel_size=(3, 3), stride=(1, 1), padding=(1, 1), bias=False)\n",
              "      (bn2): BatchNorm2d(512, eps=1e-05, momentum=0.1, affine=True, track_running_stats=True)\n",
              "      (downsample): Sequential(\n",
              "        (0): Conv2d(256, 512, kernel_size=(1, 1), stride=(2, 2), bias=False)\n",
              "        (1): BatchNorm2d(512, eps=1e-05, momentum=0.1, affine=True, track_running_stats=True)\n",
              "      )\n",
              "    )\n",
              "    (1): BasicBlock(\n",
              "      (conv1): Conv2d(512, 512, kernel_size=(3, 3), stride=(1, 1), padding=(1, 1), bias=False)\n",
              "      (bn1): BatchNorm2d(512, eps=1e-05, momentum=0.1, affine=True, track_running_stats=True)\n",
              "      (relu): ReLU(inplace=True)\n",
              "      (conv2): Conv2d(512, 512, kernel_size=(3, 3), stride=(1, 1), padding=(1, 1), bias=False)\n",
              "      (bn2): BatchNorm2d(512, eps=1e-05, momentum=0.1, affine=True, track_running_stats=True)\n",
              "    )\n",
              "  )\n",
              "  (avgpool): AdaptiveAvgPool2d(output_size=(1, 1))\n",
              "  (fc): Linear(in_features=512, out_features=5, bias=True)\n",
              ")"
            ]
          },
          "execution_count": 24,
          "metadata": {},
          "output_type": "execute_result"
        }
      ],
      "source": [
        "model"
      ]
    },
    {
      "cell_type": "code",
      "execution_count": 25,
      "metadata": {
        "id": "v7c1hN4XKlOz"
      },
      "outputs": [],
      "source": [
        "device = torch.device('cuda' if torch.cuda.is_available() else 'cpu')"
      ]
    },
    {
      "cell_type": "code",
      "execution_count": 26,
      "metadata": {
        "colab": {
          "base_uri": "https://localhost:8080/"
        },
        "id": "40tNVygtLtUF",
        "outputId": "baa4bb1e-0a65-47c3-b569-ff598e3f1c75"
      },
      "outputs": [
        {
          "data": {
            "text/plain": [
              "ResNet(\n",
              "  (conv1): Conv2d(3, 64, kernel_size=(7, 7), stride=(2, 2), padding=(3, 3), bias=False)\n",
              "  (bn1): BatchNorm2d(64, eps=1e-05, momentum=0.1, affine=True, track_running_stats=True)\n",
              "  (relu): ReLU(inplace=True)\n",
              "  (maxpool): MaxPool2d(kernel_size=3, stride=2, padding=1, dilation=1, ceil_mode=False)\n",
              "  (layer1): Sequential(\n",
              "    (0): BasicBlock(\n",
              "      (conv1): Conv2d(64, 64, kernel_size=(3, 3), stride=(1, 1), padding=(1, 1), bias=False)\n",
              "      (bn1): BatchNorm2d(64, eps=1e-05, momentum=0.1, affine=True, track_running_stats=True)\n",
              "      (relu): ReLU(inplace=True)\n",
              "      (conv2): Conv2d(64, 64, kernel_size=(3, 3), stride=(1, 1), padding=(1, 1), bias=False)\n",
              "      (bn2): BatchNorm2d(64, eps=1e-05, momentum=0.1, affine=True, track_running_stats=True)\n",
              "    )\n",
              "    (1): BasicBlock(\n",
              "      (conv1): Conv2d(64, 64, kernel_size=(3, 3), stride=(1, 1), padding=(1, 1), bias=False)\n",
              "      (bn1): BatchNorm2d(64, eps=1e-05, momentum=0.1, affine=True, track_running_stats=True)\n",
              "      (relu): ReLU(inplace=True)\n",
              "      (conv2): Conv2d(64, 64, kernel_size=(3, 3), stride=(1, 1), padding=(1, 1), bias=False)\n",
              "      (bn2): BatchNorm2d(64, eps=1e-05, momentum=0.1, affine=True, track_running_stats=True)\n",
              "    )\n",
              "  )\n",
              "  (layer2): Sequential(\n",
              "    (0): BasicBlock(\n",
              "      (conv1): Conv2d(64, 128, kernel_size=(3, 3), stride=(2, 2), padding=(1, 1), bias=False)\n",
              "      (bn1): BatchNorm2d(128, eps=1e-05, momentum=0.1, affine=True, track_running_stats=True)\n",
              "      (relu): ReLU(inplace=True)\n",
              "      (conv2): Conv2d(128, 128, kernel_size=(3, 3), stride=(1, 1), padding=(1, 1), bias=False)\n",
              "      (bn2): BatchNorm2d(128, eps=1e-05, momentum=0.1, affine=True, track_running_stats=True)\n",
              "      (downsample): Sequential(\n",
              "        (0): Conv2d(64, 128, kernel_size=(1, 1), stride=(2, 2), bias=False)\n",
              "        (1): BatchNorm2d(128, eps=1e-05, momentum=0.1, affine=True, track_running_stats=True)\n",
              "      )\n",
              "    )\n",
              "    (1): BasicBlock(\n",
              "      (conv1): Conv2d(128, 128, kernel_size=(3, 3), stride=(1, 1), padding=(1, 1), bias=False)\n",
              "      (bn1): BatchNorm2d(128, eps=1e-05, momentum=0.1, affine=True, track_running_stats=True)\n",
              "      (relu): ReLU(inplace=True)\n",
              "      (conv2): Conv2d(128, 128, kernel_size=(3, 3), stride=(1, 1), padding=(1, 1), bias=False)\n",
              "      (bn2): BatchNorm2d(128, eps=1e-05, momentum=0.1, affine=True, track_running_stats=True)\n",
              "    )\n",
              "  )\n",
              "  (layer3): Sequential(\n",
              "    (0): BasicBlock(\n",
              "      (conv1): Conv2d(128, 256, kernel_size=(3, 3), stride=(2, 2), padding=(1, 1), bias=False)\n",
              "      (bn1): BatchNorm2d(256, eps=1e-05, momentum=0.1, affine=True, track_running_stats=True)\n",
              "      (relu): ReLU(inplace=True)\n",
              "      (conv2): Conv2d(256, 256, kernel_size=(3, 3), stride=(1, 1), padding=(1, 1), bias=False)\n",
              "      (bn2): BatchNorm2d(256, eps=1e-05, momentum=0.1, affine=True, track_running_stats=True)\n",
              "      (downsample): Sequential(\n",
              "        (0): Conv2d(128, 256, kernel_size=(1, 1), stride=(2, 2), bias=False)\n",
              "        (1): BatchNorm2d(256, eps=1e-05, momentum=0.1, affine=True, track_running_stats=True)\n",
              "      )\n",
              "    )\n",
              "    (1): BasicBlock(\n",
              "      (conv1): Conv2d(256, 256, kernel_size=(3, 3), stride=(1, 1), padding=(1, 1), bias=False)\n",
              "      (bn1): BatchNorm2d(256, eps=1e-05, momentum=0.1, affine=True, track_running_stats=True)\n",
              "      (relu): ReLU(inplace=True)\n",
              "      (conv2): Conv2d(256, 256, kernel_size=(3, 3), stride=(1, 1), padding=(1, 1), bias=False)\n",
              "      (bn2): BatchNorm2d(256, eps=1e-05, momentum=0.1, affine=True, track_running_stats=True)\n",
              "    )\n",
              "  )\n",
              "  (layer4): Sequential(\n",
              "    (0): BasicBlock(\n",
              "      (conv1): Conv2d(256, 512, kernel_size=(3, 3), stride=(2, 2), padding=(1, 1), bias=False)\n",
              "      (bn1): BatchNorm2d(512, eps=1e-05, momentum=0.1, affine=True, track_running_stats=True)\n",
              "      (relu): ReLU(inplace=True)\n",
              "      (conv2): Conv2d(512, 512, kernel_size=(3, 3), stride=(1, 1), padding=(1, 1), bias=False)\n",
              "      (bn2): BatchNorm2d(512, eps=1e-05, momentum=0.1, affine=True, track_running_stats=True)\n",
              "      (downsample): Sequential(\n",
              "        (0): Conv2d(256, 512, kernel_size=(1, 1), stride=(2, 2), bias=False)\n",
              "        (1): BatchNorm2d(512, eps=1e-05, momentum=0.1, affine=True, track_running_stats=True)\n",
              "      )\n",
              "    )\n",
              "    (1): BasicBlock(\n",
              "      (conv1): Conv2d(512, 512, kernel_size=(3, 3), stride=(1, 1), padding=(1, 1), bias=False)\n",
              "      (bn1): BatchNorm2d(512, eps=1e-05, momentum=0.1, affine=True, track_running_stats=True)\n",
              "      (relu): ReLU(inplace=True)\n",
              "      (conv2): Conv2d(512, 512, kernel_size=(3, 3), stride=(1, 1), padding=(1, 1), bias=False)\n",
              "      (bn2): BatchNorm2d(512, eps=1e-05, momentum=0.1, affine=True, track_running_stats=True)\n",
              "    )\n",
              "  )\n",
              "  (avgpool): AdaptiveAvgPool2d(output_size=(1, 1))\n",
              "  (fc): Linear(in_features=512, out_features=5, bias=True)\n",
              ")"
            ]
          },
          "execution_count": 26,
          "metadata": {},
          "output_type": "execute_result"
        }
      ],
      "source": [
        "model.to(device)"
      ]
    },
    {
      "cell_type": "code",
      "execution_count": 27,
      "metadata": {
        "colab": {
          "base_uri": "https://localhost:8080/"
        },
        "id": "Cg_niEdzJoGq",
        "outputId": "04817d8a-d575-4201-c0fa-37bf840f38ae"
      },
      "outputs": [
        {
          "name": "stdout",
          "output_type": "stream",
          "text": [
            "----------------------------------------------------------------\n",
            "        Layer (type)               Output Shape         Param #\n",
            "================================================================\n",
            "            Conv2d-1         [-1, 64, 112, 112]           9,408\n",
            "       BatchNorm2d-2         [-1, 64, 112, 112]             128\n",
            "              ReLU-3         [-1, 64, 112, 112]               0\n",
            "         MaxPool2d-4           [-1, 64, 56, 56]               0\n",
            "            Conv2d-5           [-1, 64, 56, 56]          36,864\n",
            "       BatchNorm2d-6           [-1, 64, 56, 56]             128\n",
            "              ReLU-7           [-1, 64, 56, 56]               0\n",
            "            Conv2d-8           [-1, 64, 56, 56]          36,864\n",
            "       BatchNorm2d-9           [-1, 64, 56, 56]             128\n",
            "             ReLU-10           [-1, 64, 56, 56]               0\n",
            "       BasicBlock-11           [-1, 64, 56, 56]               0\n",
            "           Conv2d-12           [-1, 64, 56, 56]          36,864\n",
            "      BatchNorm2d-13           [-1, 64, 56, 56]             128\n",
            "             ReLU-14           [-1, 64, 56, 56]               0\n",
            "           Conv2d-15           [-1, 64, 56, 56]          36,864\n",
            "      BatchNorm2d-16           [-1, 64, 56, 56]             128\n",
            "             ReLU-17           [-1, 64, 56, 56]               0\n",
            "       BasicBlock-18           [-1, 64, 56, 56]               0\n",
            "           Conv2d-19          [-1, 128, 28, 28]          73,728\n",
            "      BatchNorm2d-20          [-1, 128, 28, 28]             256\n",
            "             ReLU-21          [-1, 128, 28, 28]               0\n",
            "           Conv2d-22          [-1, 128, 28, 28]         147,456\n",
            "      BatchNorm2d-23          [-1, 128, 28, 28]             256\n",
            "           Conv2d-24          [-1, 128, 28, 28]           8,192\n",
            "      BatchNorm2d-25          [-1, 128, 28, 28]             256\n",
            "             ReLU-26          [-1, 128, 28, 28]               0\n",
            "       BasicBlock-27          [-1, 128, 28, 28]               0\n",
            "           Conv2d-28          [-1, 128, 28, 28]         147,456\n",
            "      BatchNorm2d-29          [-1, 128, 28, 28]             256\n",
            "             ReLU-30          [-1, 128, 28, 28]               0\n",
            "           Conv2d-31          [-1, 128, 28, 28]         147,456\n",
            "      BatchNorm2d-32          [-1, 128, 28, 28]             256\n",
            "             ReLU-33          [-1, 128, 28, 28]               0\n",
            "       BasicBlock-34          [-1, 128, 28, 28]               0\n",
            "           Conv2d-35          [-1, 256, 14, 14]         294,912\n",
            "      BatchNorm2d-36          [-1, 256, 14, 14]             512\n",
            "             ReLU-37          [-1, 256, 14, 14]               0\n",
            "           Conv2d-38          [-1, 256, 14, 14]         589,824\n",
            "      BatchNorm2d-39          [-1, 256, 14, 14]             512\n",
            "           Conv2d-40          [-1, 256, 14, 14]          32,768\n",
            "      BatchNorm2d-41          [-1, 256, 14, 14]             512\n",
            "             ReLU-42          [-1, 256, 14, 14]               0\n",
            "       BasicBlock-43          [-1, 256, 14, 14]               0\n",
            "           Conv2d-44          [-1, 256, 14, 14]         589,824\n",
            "      BatchNorm2d-45          [-1, 256, 14, 14]             512\n",
            "             ReLU-46          [-1, 256, 14, 14]               0\n",
            "           Conv2d-47          [-1, 256, 14, 14]         589,824\n",
            "      BatchNorm2d-48          [-1, 256, 14, 14]             512\n",
            "             ReLU-49          [-1, 256, 14, 14]               0\n",
            "       BasicBlock-50          [-1, 256, 14, 14]               0\n",
            "           Conv2d-51            [-1, 512, 7, 7]       1,179,648\n",
            "      BatchNorm2d-52            [-1, 512, 7, 7]           1,024\n",
            "             ReLU-53            [-1, 512, 7, 7]               0\n",
            "           Conv2d-54            [-1, 512, 7, 7]       2,359,296\n",
            "      BatchNorm2d-55            [-1, 512, 7, 7]           1,024\n",
            "           Conv2d-56            [-1, 512, 7, 7]         131,072\n",
            "      BatchNorm2d-57            [-1, 512, 7, 7]           1,024\n",
            "             ReLU-58            [-1, 512, 7, 7]               0\n",
            "       BasicBlock-59            [-1, 512, 7, 7]               0\n",
            "           Conv2d-60            [-1, 512, 7, 7]       2,359,296\n",
            "      BatchNorm2d-61            [-1, 512, 7, 7]           1,024\n",
            "             ReLU-62            [-1, 512, 7, 7]               0\n",
            "           Conv2d-63            [-1, 512, 7, 7]       2,359,296\n",
            "      BatchNorm2d-64            [-1, 512, 7, 7]           1,024\n",
            "             ReLU-65            [-1, 512, 7, 7]               0\n",
            "       BasicBlock-66            [-1, 512, 7, 7]               0\n",
            "AdaptiveAvgPool2d-67            [-1, 512, 1, 1]               0\n",
            "           Linear-68                    [-1, 5]           2,565\n",
            "================================================================\n",
            "Total params: 11,179,077\n",
            "Trainable params: 11,179,077\n",
            "Non-trainable params: 0\n",
            "----------------------------------------------------------------\n",
            "Input size (MB): 0.57\n",
            "Forward/backward pass size (MB): 62.79\n",
            "Params size (MB): 42.64\n",
            "Estimated Total Size (MB): 106.00\n",
            "----------------------------------------------------------------\n"
          ]
        }
      ],
      "source": [
        "summary(model, (3, 224, 224))"
      ]
    },
    {
      "cell_type": "code",
      "execution_count": 28,
      "metadata": {
        "id": "OWcqI7AqJ3gT"
      },
      "outputs": [],
      "source": [
        "predictions = model(inputs.to(device))"
      ]
    },
    {
      "cell_type": "code",
      "execution_count": 29,
      "metadata": {
        "colab": {
          "base_uri": "https://localhost:8080/"
        },
        "id": "ZEvVLZECJ7DB",
        "outputId": "238f04a5-0053-4a9a-fac2-6d473edebda5"
      },
      "outputs": [
        {
          "data": {
            "text/plain": [
              "torch.Size([64, 5])"
            ]
          },
          "execution_count": 29,
          "metadata": {},
          "output_type": "execute_result"
        }
      ],
      "source": [
        "predictions.shape"
      ]
    },
    {
      "cell_type": "code",
      "execution_count": 30,
      "metadata": {
        "id": "bl_FATGAKfQS"
      },
      "outputs": [],
      "source": [
        "optimizer = optim.Adam(model.parameters())\n",
        "criterion = nn.CrossEntropyLoss()"
      ]
    },
    {
      "cell_type": "code",
      "execution_count": 31,
      "metadata": {
        "colab": {
          "base_uri": "https://localhost:8080/"
        },
        "id": "xZqmiXtfKiKB",
        "outputId": "1a6b40a5-e1e8-455b-d5e5-54818ed97c3a"
      },
      "outputs": [
        {
          "data": {
            "text/plain": [
              "tensor(1.6445, device='cuda:0', grad_fn=<NllLossBackward0>)"
            ]
          },
          "execution_count": 31,
          "metadata": {},
          "output_type": "execute_result"
        }
      ],
      "source": [
        "loss = criterion(predictions, labels.to(device))\n",
        "loss"
      ]
    },
    {
      "cell_type": "code",
      "execution_count": 32,
      "metadata": {
        "colab": {
          "base_uri": "https://localhost:8080/"
        },
        "id": "RdBjCDa9Kn6k",
        "outputId": "098defce-aad7-4a2b-c53c-aeea8f83806f"
      },
      "outputs": [
        {
          "name": "stdout",
          "output_type": "stream",
          "text": [
            "| epoch   0 |     5/   46 batches | accuracy    0.362\n",
            "| epoch   0 |    10/   46 batches | accuracy    0.435\n",
            "| epoch   0 |    15/   46 batches | accuracy    0.465\n",
            "| epoch   0 |    20/   46 batches | accuracy    0.488\n",
            "| epoch   0 |    25/   46 batches | accuracy    0.498\n",
            "| epoch   0 |    30/   46 batches | accuracy    0.504\n",
            "| epoch   0 |    35/   46 batches | accuracy    0.509\n",
            "| epoch   0 |    40/   46 batches | accuracy    0.516\n",
            "| epoch   0 |    45/   46 batches | accuracy    0.522\n"
          ]
        },
        {
          "data": {
            "text/plain": [
              "(0.521884704968944, 1.2461121846800265)"
            ]
          },
          "execution_count": 32,
          "metadata": {},
          "output_type": "execute_result"
        }
      ],
      "source": [
        "train_acc, train_loss = train_epoch(model, optimizer, criterion, train_dataloader, device)\n",
        "train_acc, train_loss"
      ]
    },
    {
      "cell_type": "code",
      "execution_count": 33,
      "metadata": {
        "colab": {
          "base_uri": "https://localhost:8080/"
        },
        "id": "YIk3fO3Knh0q",
        "outputId": "811ffdaf-f977-4d02-d977-e285ef588de0"
      },
      "outputs": [
        {
          "data": {
            "text/plain": [
              "(0.5043772163120567, 1.399165411790212)"
            ]
          },
          "execution_count": 33,
          "metadata": {},
          "output_type": "execute_result"
        }
      ],
      "source": [
        "eval_acc, eval_loss = evaluate_epoch(model, criterion, valid_dataloader)\n",
        "eval_acc, eval_loss"
      ]
    },
    {
      "cell_type": "code",
      "execution_count": 34,
      "metadata": {
        "colab": {
          "base_uri": "https://localhost:8080/"
        },
        "id": "hTOOGmnWipOH",
        "outputId": "1934bb72-2562-486a-f32b-5d728b2c7bda"
      },
      "outputs": [
        {
          "name": "stdout",
          "output_type": "stream",
          "text": [
            "| epoch   1 |     5/   46 batches | accuracy    0.341\n",
            "| epoch   1 |    10/   46 batches | accuracy    0.430\n",
            "| epoch   1 |    15/   46 batches | accuracy    0.449\n",
            "| epoch   1 |    20/   46 batches | accuracy    0.484\n",
            "| epoch   1 |    25/   46 batches | accuracy    0.499\n",
            "| epoch   1 |    30/   46 batches | accuracy    0.519\n",
            "| epoch   1 |    35/   46 batches | accuracy    0.529\n",
            "| epoch   1 |    40/   46 batches | accuracy    0.539\n",
            "| epoch   1 |    45/   46 batches | accuracy    0.547\n",
            "-----------------------------------------------------------\n",
            "| End of epoch   1 | Time: 26.34s | Train Accuracy    0.547 | Train Loss    1.109 | Valid Accuracy    0.559 | Valid Loss    1.155 \n",
            "-----------------------------------------------------------\n",
            "| epoch   2 |     5/   46 batches | accuracy    0.656\n",
            "| epoch   2 |    10/   46 batches | accuracy    0.669\n",
            "| epoch   2 |    15/   46 batches | accuracy    0.685\n",
            "| epoch   2 |    20/   46 batches | accuracy    0.688\n",
            "| epoch   2 |    25/   46 batches | accuracy    0.693\n",
            "| epoch   2 |    30/   46 batches | accuracy    0.695\n",
            "| epoch   2 |    35/   46 batches | accuracy    0.695\n",
            "| epoch   2 |    40/   46 batches | accuracy    0.700\n",
            "| epoch   2 |    45/   46 batches | accuracy    0.702\n",
            "-----------------------------------------------------------\n",
            "| End of epoch   2 | Time: 26.45s | Train Accuracy    0.702 | Train Loss    0.804 | Valid Accuracy    0.590 | Valid Loss    1.200 \n",
            "-----------------------------------------------------------\n",
            "| epoch   3 |     5/   46 batches | accuracy    0.823\n",
            "| epoch   3 |    10/   46 batches | accuracy    0.822\n",
            "| epoch   3 |    15/   46 batches | accuracy    0.806\n",
            "| epoch   3 |    20/   46 batches | accuracy    0.806\n",
            "| epoch   3 |    25/   46 batches | accuracy    0.800\n",
            "| epoch   3 |    30/   46 batches | accuracy    0.797\n",
            "| epoch   3 |    35/   46 batches | accuracy    0.794\n",
            "| epoch   3 |    40/   46 batches | accuracy    0.789\n",
            "| epoch   3 |    45/   46 batches | accuracy    0.789\n",
            "-----------------------------------------------------------\n",
            "| End of epoch   3 | Time: 27.23s | Train Accuracy    0.789 | Train Loss    0.596 | Valid Accuracy    0.327 | Valid Loss    2.587 \n",
            "-----------------------------------------------------------\n",
            "| epoch   4 |     5/   46 batches | accuracy    0.857\n",
            "| epoch   4 |    10/   46 batches | accuracy    0.859\n",
            "| epoch   4 |    15/   46 batches | accuracy    0.854\n",
            "| epoch   4 |    20/   46 batches | accuracy    0.860\n",
            "| epoch   4 |    25/   46 batches | accuracy    0.856\n",
            "| epoch   4 |    30/   46 batches | accuracy    0.861\n",
            "| epoch   4 |    35/   46 batches | accuracy    0.867\n",
            "| epoch   4 |    40/   46 batches | accuracy    0.868\n",
            "| epoch   4 |    45/   46 batches | accuracy    0.864\n",
            "-----------------------------------------------------------\n",
            "| End of epoch   4 | Time: 27.46s | Train Accuracy    0.864 | Train Loss    0.412 | Valid Accuracy    0.518 | Valid Loss    1.387 \n",
            "-----------------------------------------------------------\n",
            "| epoch   5 |     5/   46 batches | accuracy    0.935\n",
            "| epoch   5 |    10/   46 batches | accuracy    0.940\n",
            "| epoch   5 |    15/   46 batches | accuracy    0.950\n",
            "| epoch   5 |    20/   46 batches | accuracy    0.952\n",
            "| epoch   5 |    25/   46 batches | accuracy    0.954\n",
            "| epoch   5 |    30/   46 batches | accuracy    0.956\n",
            "| epoch   5 |    35/   46 batches | accuracy    0.953\n",
            "| epoch   5 |    40/   46 batches | accuracy    0.952\n",
            "| epoch   5 |    45/   46 batches | accuracy    0.951\n",
            "-----------------------------------------------------------\n",
            "| End of epoch   5 | Time: 27.32s | Train Accuracy    0.951 | Train Loss    0.190 | Valid Accuracy    0.592 | Valid Loss    1.397 \n",
            "-----------------------------------------------------------\n",
            "| epoch   6 |     5/   46 batches | accuracy    0.971\n",
            "| epoch   6 |    10/   46 batches | accuracy    0.969\n",
            "| epoch   6 |    15/   46 batches | accuracy    0.973\n",
            "| epoch   6 |    20/   46 batches | accuracy    0.972\n",
            "| epoch   6 |    25/   46 batches | accuracy    0.973\n",
            "| epoch   6 |    30/   46 batches | accuracy    0.973\n",
            "| epoch   6 |    35/   46 batches | accuracy    0.973\n",
            "| epoch   6 |    40/   46 batches | accuracy    0.972\n",
            "| epoch   6 |    45/   46 batches | accuracy    0.974\n",
            "-----------------------------------------------------------\n",
            "| End of epoch   6 | Time: 27.31s | Train Accuracy    0.974 | Train Loss    0.104 | Valid Accuracy    0.543 | Valid Loss    1.571 \n",
            "-----------------------------------------------------------\n",
            "| epoch   7 |     5/   46 batches | accuracy    0.990\n",
            "| epoch   7 |    10/   46 batches | accuracy    0.983\n",
            "| epoch   7 |    15/   46 batches | accuracy    0.987\n",
            "| epoch   7 |    20/   46 batches | accuracy    0.988\n",
            "| epoch   7 |    25/   46 batches | accuracy    0.990\n",
            "| epoch   7 |    30/   46 batches | accuracy    0.990\n",
            "| epoch   7 |    35/   46 batches | accuracy    0.990\n",
            "| epoch   7 |    40/   46 batches | accuracy    0.990\n",
            "| epoch   7 |    45/   46 batches | accuracy    0.990\n",
            "-----------------------------------------------------------\n",
            "| End of epoch   7 | Time: 27.41s | Train Accuracy    0.990 | Train Loss    0.051 | Valid Accuracy    0.702 | Valid Loss    1.060 \n",
            "-----------------------------------------------------------\n",
            "| epoch   8 |     5/   46 batches | accuracy    0.997\n",
            "| epoch   8 |    10/   46 batches | accuracy    0.997\n",
            "| epoch   8 |    15/   46 batches | accuracy    0.998\n",
            "| epoch   8 |    20/   46 batches | accuracy    0.996\n",
            "| epoch   8 |    25/   46 batches | accuracy    0.996\n",
            "| epoch   8 |    30/   46 batches | accuracy    0.995\n",
            "| epoch   8 |    35/   46 batches | accuracy    0.996\n",
            "| epoch   8 |    40/   46 batches | accuracy    0.996\n",
            "| epoch   8 |    45/   46 batches | accuracy    0.996\n",
            "-----------------------------------------------------------\n",
            "| End of epoch   8 | Time: 27.06s | Train Accuracy    0.996 | Train Loss    0.028 | Valid Accuracy    0.680 | Valid Loss    1.133 \n",
            "-----------------------------------------------------------\n",
            "| epoch   9 |     5/   46 batches | accuracy    0.997\n",
            "| epoch   9 |    10/   46 batches | accuracy    0.996\n",
            "| epoch   9 |    15/   46 batches | accuracy    0.996\n",
            "| epoch   9 |    20/   46 batches | accuracy    0.997\n",
            "| epoch   9 |    25/   46 batches | accuracy    0.998\n",
            "| epoch   9 |    30/   46 batches | accuracy    0.997\n",
            "| epoch   9 |    35/   46 batches | accuracy    0.998\n",
            "| epoch   9 |    40/   46 batches | accuracy    0.998\n",
            "| epoch   9 |    45/   46 batches | accuracy    0.998\n",
            "-----------------------------------------------------------\n",
            "| End of epoch   9 | Time: 27.53s | Train Accuracy    0.998 | Train Loss    0.015 | Valid Accuracy    0.704 | Valid Loss    1.001 \n",
            "-----------------------------------------------------------\n",
            "| epoch  10 |     5/   46 batches | accuracy    1.000\n",
            "| epoch  10 |    10/   46 batches | accuracy    1.000\n",
            "| epoch  10 |    15/   46 batches | accuracy    1.000\n",
            "| epoch  10 |    20/   46 batches | accuracy    0.999\n",
            "| epoch  10 |    25/   46 batches | accuracy    0.999\n",
            "| epoch  10 |    30/   46 batches | accuracy    0.999\n",
            "| epoch  10 |    35/   46 batches | accuracy    1.000\n",
            "| epoch  10 |    40/   46 batches | accuracy    0.999\n",
            "| epoch  10 |    45/   46 batches | accuracy    0.998\n",
            "-----------------------------------------------------------\n",
            "| End of epoch  10 | Time: 26.62s | Train Accuracy    0.998 | Train Loss    0.013 | Valid Accuracy    0.676 | Valid Loss    1.077 \n",
            "-----------------------------------------------------------\n",
            "| epoch  11 |     5/   46 batches | accuracy    1.000\n",
            "| epoch  11 |    10/   46 batches | accuracy    0.999\n",
            "| epoch  11 |    15/   46 batches | accuracy    0.998\n",
            "| epoch  11 |    20/   46 batches | accuracy    0.998\n",
            "| epoch  11 |    25/   46 batches | accuracy    0.997\n",
            "| epoch  11 |    30/   46 batches | accuracy    0.997\n",
            "| epoch  11 |    35/   46 batches | accuracy    0.997\n",
            "| epoch  11 |    40/   46 batches | accuracy    0.997\n",
            "| epoch  11 |    45/   46 batches | accuracy    0.997\n",
            "-----------------------------------------------------------\n",
            "| End of epoch  11 | Time: 26.78s | Train Accuracy    0.997 | Train Loss    0.022 | Valid Accuracy    0.671 | Valid Loss    1.261 \n",
            "-----------------------------------------------------------\n",
            "| epoch  12 |     5/   46 batches | accuracy    0.997\n",
            "| epoch  12 |    10/   46 batches | accuracy    0.997\n",
            "| epoch  12 |    15/   46 batches | accuracy    0.998\n",
            "| epoch  12 |    20/   46 batches | accuracy    0.999\n",
            "| epoch  12 |    25/   46 batches | accuracy    0.998\n",
            "| epoch  12 |    30/   46 batches | accuracy    0.998\n",
            "| epoch  12 |    35/   46 batches | accuracy    0.998\n",
            "| epoch  12 |    40/   46 batches | accuracy    0.998\n",
            "| epoch  12 |    45/   46 batches | accuracy    0.998\n",
            "-----------------------------------------------------------\n",
            "| End of epoch  12 | Time: 26.64s | Train Accuracy    0.998 | Train Loss    0.014 | Valid Accuracy    0.631 | Valid Loss    1.357 \n",
            "-----------------------------------------------------------\n",
            "| epoch  13 |     5/   46 batches | accuracy    1.000\n",
            "| epoch  13 |    10/   46 batches | accuracy    0.999\n",
            "| epoch  13 |    15/   46 batches | accuracy    0.999\n",
            "| epoch  13 |    20/   46 batches | accuracy    0.999\n",
            "| epoch  13 |    25/   46 batches | accuracy    0.998\n",
            "| epoch  13 |    30/   46 batches | accuracy    0.998\n",
            "| epoch  13 |    35/   46 batches | accuracy    0.999\n",
            "| epoch  13 |    40/   46 batches | accuracy    0.998\n",
            "| epoch  13 |    45/   46 batches | accuracy    0.998\n",
            "-----------------------------------------------------------\n",
            "| End of epoch  13 | Time: 28.57s | Train Accuracy    0.998 | Train Loss    0.013 | Valid Accuracy    0.697 | Valid Loss    1.096 \n",
            "-----------------------------------------------------------\n",
            "| epoch  14 |     5/   46 batches | accuracy    0.997\n",
            "| epoch  14 |    10/   46 batches | accuracy    0.999\n",
            "| epoch  14 |    15/   46 batches | accuracy    0.997\n",
            "| epoch  14 |    20/   46 batches | accuracy    0.998\n",
            "| epoch  14 |    25/   46 batches | accuracy    0.998\n",
            "| epoch  14 |    30/   46 batches | accuracy    0.998\n",
            "| epoch  14 |    35/   46 batches | accuracy    0.998\n",
            "| epoch  14 |    40/   46 batches | accuracy    0.998\n",
            "| epoch  14 |    45/   46 batches | accuracy    0.998\n",
            "-----------------------------------------------------------\n",
            "| End of epoch  14 | Time: 27.55s | Train Accuracy    0.998 | Train Loss    0.010 | Valid Accuracy    0.623 | Valid Loss    1.421 \n",
            "-----------------------------------------------------------\n",
            "| epoch  15 |     5/   46 batches | accuracy    0.997\n",
            "| epoch  15 |    10/   46 batches | accuracy    0.999\n",
            "| epoch  15 |    15/   46 batches | accuracy    0.999\n",
            "| epoch  15 |    20/   46 batches | accuracy    0.999\n",
            "| epoch  15 |    25/   46 batches | accuracy    0.999\n",
            "| epoch  15 |    30/   46 batches | accuracy    0.999\n",
            "| epoch  15 |    35/   46 batches | accuracy    0.999\n",
            "| epoch  15 |    40/   46 batches | accuracy    0.998\n",
            "| epoch  15 |    45/   46 batches | accuracy    0.998\n",
            "-----------------------------------------------------------\n",
            "| End of epoch  15 | Time: 28.51s | Train Accuracy    0.998 | Train Loss    0.011 | Valid Accuracy    0.636 | Valid Loss    1.537 \n",
            "-----------------------------------------------------------\n",
            "| epoch  16 |     5/   46 batches | accuracy    0.997\n",
            "| epoch  16 |    10/   46 batches | accuracy    0.999\n",
            "| epoch  16 |    15/   46 batches | accuracy    0.998\n",
            "| epoch  16 |    20/   46 batches | accuracy    0.999\n",
            "| epoch  16 |    25/   46 batches | accuracy    0.999\n",
            "| epoch  16 |    30/   46 batches | accuracy    0.999\n",
            "| epoch  16 |    35/   46 batches | accuracy    0.999\n",
            "| epoch  16 |    40/   46 batches | accuracy    0.999\n",
            "| epoch  16 |    45/   46 batches | accuracy    0.999\n",
            "-----------------------------------------------------------\n",
            "| End of epoch  16 | Time: 28.61s | Train Accuracy    0.999 | Train Loss    0.007 | Valid Accuracy    0.717 | Valid Loss    1.087 \n",
            "-----------------------------------------------------------\n",
            "| epoch  17 |     5/   46 batches | accuracy    0.997\n",
            "| epoch  17 |    10/   46 batches | accuracy    0.999\n",
            "| epoch  17 |    15/   46 batches | accuracy    0.999\n",
            "| epoch  17 |    20/   46 batches | accuracy    0.999\n",
            "| epoch  17 |    25/   46 batches | accuracy    0.999\n",
            "| epoch  17 |    30/   46 batches | accuracy    0.999\n",
            "| epoch  17 |    35/   46 batches | accuracy    1.000\n",
            "| epoch  17 |    40/   46 batches | accuracy    1.000\n",
            "| epoch  17 |    45/   46 batches | accuracy    1.000\n",
            "-----------------------------------------------------------\n",
            "| End of epoch  17 | Time: 27.35s | Train Accuracy    1.000 | Train Loss    0.005 | Valid Accuracy    0.670 | Valid Loss    1.203 \n",
            "-----------------------------------------------------------\n",
            "| epoch  18 |     5/   46 batches | accuracy    1.000\n",
            "| epoch  18 |    10/   46 batches | accuracy    0.997\n",
            "| epoch  18 |    15/   46 batches | accuracy    0.997\n",
            "| epoch  18 |    20/   46 batches | accuracy    0.996\n",
            "| epoch  18 |    25/   46 batches | accuracy    0.996\n",
            "| epoch  18 |    30/   46 batches | accuracy    0.996\n",
            "| epoch  18 |    35/   46 batches | accuracy    0.994\n",
            "| epoch  18 |    40/   46 batches | accuracy    0.992\n",
            "| epoch  18 |    45/   46 batches | accuracy    0.990\n",
            "-----------------------------------------------------------\n",
            "| End of epoch  18 | Time: 27.39s | Train Accuracy    0.990 | Train Loss    0.036 | Valid Accuracy    0.631 | Valid Loss    1.995 \n",
            "-----------------------------------------------------------\n",
            "| epoch  19 |     5/   46 batches | accuracy    0.974\n",
            "| epoch  19 |    10/   46 batches | accuracy    0.972\n",
            "| epoch  19 |    15/   46 batches | accuracy    0.969\n",
            "| epoch  19 |    20/   46 batches | accuracy    0.972\n",
            "| epoch  19 |    25/   46 batches | accuracy    0.971\n",
            "| epoch  19 |    30/   46 batches | accuracy    0.973\n",
            "| epoch  19 |    35/   46 batches | accuracy    0.973\n",
            "| epoch  19 |    40/   46 batches | accuracy    0.970\n",
            "| epoch  19 |    45/   46 batches | accuracy    0.970\n",
            "-----------------------------------------------------------\n",
            "| End of epoch  19 | Time: 27.02s | Train Accuracy    0.970 | Train Loss    0.093 | Valid Accuracy    0.603 | Valid Loss    1.893 \n",
            "-----------------------------------------------------------\n",
            "| epoch  20 |     5/   46 batches | accuracy    0.969\n",
            "| epoch  20 |    10/   46 batches | accuracy    0.970\n",
            "| epoch  20 |    15/   46 batches | accuracy    0.967\n",
            "| epoch  20 |    20/   46 batches | accuracy    0.966\n",
            "| epoch  20 |    25/   46 batches | accuracy    0.962\n",
            "| epoch  20 |    30/   46 batches | accuracy    0.963\n",
            "| epoch  20 |    35/   46 batches | accuracy    0.962\n",
            "| epoch  20 |    40/   46 batches | accuracy    0.963\n",
            "| epoch  20 |    45/   46 batches | accuracy    0.960\n",
            "-----------------------------------------------------------\n",
            "| End of epoch  20 | Time: 27.12s | Train Accuracy    0.960 | Train Loss    0.125 | Valid Accuracy    0.400 | Valid Loss    2.966 \n",
            "-----------------------------------------------------------\n",
            "| epoch  21 |     5/   46 batches | accuracy    0.951\n",
            "| epoch  21 |    10/   46 batches | accuracy    0.949\n",
            "| epoch  21 |    15/   46 batches | accuracy    0.961\n",
            "| epoch  21 |    20/   46 batches | accuracy    0.962\n",
            "| epoch  21 |    25/   46 batches | accuracy    0.963\n",
            "| epoch  21 |    30/   46 batches | accuracy    0.963\n",
            "| epoch  21 |    35/   46 batches | accuracy    0.963\n",
            "| epoch  21 |    40/   46 batches | accuracy    0.963\n",
            "| epoch  21 |    45/   46 batches | accuracy    0.964\n",
            "-----------------------------------------------------------\n",
            "| End of epoch  21 | Time: 27.03s | Train Accuracy    0.964 | Train Loss    0.114 | Valid Accuracy    0.568 | Valid Loss    1.815 \n",
            "-----------------------------------------------------------\n",
            "| epoch  22 |     5/   46 batches | accuracy    0.990\n",
            "| epoch  22 |    10/   46 batches | accuracy    0.986\n",
            "| epoch  22 |    15/   46 batches | accuracy    0.986\n",
            "| epoch  22 |    20/   46 batches | accuracy    0.986\n",
            "| epoch  22 |    25/   46 batches | accuracy    0.985\n",
            "| epoch  22 |    30/   46 batches | accuracy    0.984\n",
            "| epoch  22 |    35/   46 batches | accuracy    0.986\n",
            "| epoch  22 |    40/   46 batches | accuracy    0.985\n",
            "| epoch  22 |    45/   46 batches | accuracy    0.986\n",
            "-----------------------------------------------------------\n",
            "| End of epoch  22 | Time: 26.88s | Train Accuracy    0.986 | Train Loss    0.054 | Valid Accuracy    0.593 | Valid Loss    1.704 \n",
            "-----------------------------------------------------------\n",
            "| epoch  23 |     5/   46 batches | accuracy    0.995\n",
            "| epoch  23 |    10/   46 batches | accuracy    0.993\n",
            "| epoch  23 |    15/   46 batches | accuracy    0.991\n",
            "| epoch  23 |    20/   46 batches | accuracy    0.993\n",
            "| epoch  23 |    25/   46 batches | accuracy    0.994\n",
            "| epoch  23 |    30/   46 batches | accuracy    0.995\n",
            "| epoch  23 |    35/   46 batches | accuracy    0.996\n",
            "| epoch  23 |    40/   46 batches | accuracy    0.996\n",
            "| epoch  23 |    45/   46 batches | accuracy    0.996\n",
            "-----------------------------------------------------------\n",
            "| End of epoch  23 | Time: 27.12s | Train Accuracy    0.996 | Train Loss    0.021 | Valid Accuracy    0.663 | Valid Loss    1.274 \n",
            "-----------------------------------------------------------\n",
            "| epoch  24 |     5/   46 batches | accuracy    1.000\n",
            "| epoch  24 |    10/   46 batches | accuracy    0.997\n",
            "| epoch  24 |    15/   46 batches | accuracy    0.997\n",
            "| epoch  24 |    20/   46 batches | accuracy    0.998\n",
            "| epoch  24 |    25/   46 batches | accuracy    0.997\n",
            "| epoch  24 |    30/   46 batches | accuracy    0.997\n",
            "| epoch  24 |    35/   46 batches | accuracy    0.998\n",
            "| epoch  24 |    40/   46 batches | accuracy    0.998\n",
            "| epoch  24 |    45/   46 batches | accuracy    0.997\n",
            "-----------------------------------------------------------\n",
            "| End of epoch  24 | Time: 27.26s | Train Accuracy    0.997 | Train Loss    0.013 | Valid Accuracy    0.669 | Valid Loss    1.272 \n",
            "-----------------------------------------------------------\n",
            "| epoch  25 |     5/   46 batches | accuracy    1.000\n",
            "| epoch  25 |    10/   46 batches | accuracy    1.000\n",
            "| epoch  25 |    15/   46 batches | accuracy    0.997\n",
            "| epoch  25 |    20/   46 batches | accuracy    0.998\n",
            "| epoch  25 |    25/   46 batches | accuracy    0.998\n",
            "| epoch  25 |    30/   46 batches | accuracy    0.997\n",
            "| epoch  25 |    35/   46 batches | accuracy    0.998\n",
            "| epoch  25 |    40/   46 batches | accuracy    0.998\n",
            "| epoch  25 |    45/   46 batches | accuracy    0.998\n",
            "-----------------------------------------------------------\n",
            "| End of epoch  25 | Time: 28.16s | Train Accuracy    0.998 | Train Loss    0.012 | Valid Accuracy    0.666 | Valid Loss    1.433 \n",
            "-----------------------------------------------------------\n",
            "| epoch  26 |     5/   46 batches | accuracy    0.997\n",
            "| epoch  26 |    10/   46 batches | accuracy    0.997\n",
            "| epoch  26 |    15/   46 batches | accuracy    0.998\n",
            "| epoch  26 |    20/   46 batches | accuracy    0.999\n",
            "| epoch  26 |    25/   46 batches | accuracy    0.999\n",
            "| epoch  26 |    30/   46 batches | accuracy    0.999\n",
            "| epoch  26 |    35/   46 batches | accuracy    0.999\n",
            "| epoch  26 |    40/   46 batches | accuracy    0.999\n",
            "| epoch  26 |    45/   46 batches | accuracy    0.999\n",
            "-----------------------------------------------------------\n",
            "| End of epoch  26 | Time: 27.12s | Train Accuracy    0.999 | Train Loss    0.005 | Valid Accuracy    0.667 | Valid Loss    1.248 \n",
            "-----------------------------------------------------------\n",
            "| epoch  27 |     5/   46 batches | accuracy    1.000\n",
            "| epoch  27 |    10/   46 batches | accuracy    1.000\n",
            "| epoch  27 |    15/   46 batches | accuracy    1.000\n",
            "| epoch  27 |    20/   46 batches | accuracy    1.000\n",
            "| epoch  27 |    25/   46 batches | accuracy    1.000\n",
            "| epoch  27 |    30/   46 batches | accuracy    0.999\n",
            "| epoch  27 |    35/   46 batches | accuracy    1.000\n",
            "| epoch  27 |    40/   46 batches | accuracy    1.000\n",
            "| epoch  27 |    45/   46 batches | accuracy    1.000\n",
            "-----------------------------------------------------------\n",
            "| End of epoch  27 | Time: 27.01s | Train Accuracy    1.000 | Train Loss    0.004 | Valid Accuracy    0.685 | Valid Loss    1.183 \n",
            "-----------------------------------------------------------\n",
            "| epoch  28 |     5/   46 batches | accuracy    1.000\n",
            "| epoch  28 |    10/   46 batches | accuracy    1.000\n",
            "| epoch  28 |    15/   46 batches | accuracy    1.000\n",
            "| epoch  28 |    20/   46 batches | accuracy    1.000\n",
            "| epoch  28 |    25/   46 batches | accuracy    1.000\n",
            "| epoch  28 |    30/   46 batches | accuracy    1.000\n",
            "| epoch  28 |    35/   46 batches | accuracy    1.000\n",
            "| epoch  28 |    40/   46 batches | accuracy    1.000\n",
            "| epoch  28 |    45/   46 batches | accuracy    1.000\n",
            "-----------------------------------------------------------\n",
            "| End of epoch  28 | Time: 27.68s | Train Accuracy    1.000 | Train Loss    0.003 | Valid Accuracy    0.688 | Valid Loss    1.196 \n",
            "-----------------------------------------------------------\n",
            "| epoch  29 |     5/   46 batches | accuracy    1.000\n",
            "| epoch  29 |    10/   46 batches | accuracy    1.000\n",
            "| epoch  29 |    15/   46 batches | accuracy    1.000\n",
            "| epoch  29 |    20/   46 batches | accuracy    1.000\n",
            "| epoch  29 |    25/   46 batches | accuracy    1.000\n",
            "| epoch  29 |    30/   46 batches | accuracy    1.000\n",
            "| epoch  29 |    35/   46 batches | accuracy    1.000\n",
            "| epoch  29 |    40/   46 batches | accuracy    1.000\n",
            "| epoch  29 |    45/   46 batches | accuracy    1.000\n",
            "-----------------------------------------------------------\n",
            "| End of epoch  29 | Time: 27.35s | Train Accuracy    1.000 | Train Loss    0.002 | Valid Accuracy    0.682 | Valid Loss    1.211 \n",
            "-----------------------------------------------------------\n",
            "| epoch  30 |     5/   46 batches | accuracy    1.000\n",
            "| epoch  30 |    10/   46 batches | accuracy    1.000\n",
            "| epoch  30 |    15/   46 batches | accuracy    0.999\n",
            "| epoch  30 |    20/   46 batches | accuracy    0.999\n",
            "| epoch  30 |    25/   46 batches | accuracy    0.999\n",
            "| epoch  30 |    30/   46 batches | accuracy    0.999\n",
            "| epoch  30 |    35/   46 batches | accuracy    1.000\n",
            "| epoch  30 |    40/   46 batches | accuracy    1.000\n",
            "| epoch  30 |    45/   46 batches | accuracy    1.000\n",
            "-----------------------------------------------------------\n",
            "| End of epoch  30 | Time: 27.78s | Train Accuracy    1.000 | Train Loss    0.002 | Valid Accuracy    0.687 | Valid Loss    1.189 \n",
            "-----------------------------------------------------------\n",
            "| epoch  31 |     5/   46 batches | accuracy    1.000\n",
            "| epoch  31 |    10/   46 batches | accuracy    1.000\n",
            "| epoch  31 |    15/   46 batches | accuracy    1.000\n",
            "| epoch  31 |    20/   46 batches | accuracy    1.000\n",
            "| epoch  31 |    25/   46 batches | accuracy    1.000\n",
            "| epoch  31 |    30/   46 batches | accuracy    1.000\n",
            "| epoch  31 |    35/   46 batches | accuracy    1.000\n",
            "| epoch  31 |    40/   46 batches | accuracy    1.000\n",
            "| epoch  31 |    45/   46 batches | accuracy    1.000\n",
            "-----------------------------------------------------------\n",
            "| End of epoch  31 | Time: 27.40s | Train Accuracy    1.000 | Train Loss    0.002 | Valid Accuracy    0.697 | Valid Loss    1.197 \n",
            "-----------------------------------------------------------\n",
            "| epoch  32 |     5/   46 batches | accuracy    1.000\n",
            "| epoch  32 |    10/   46 batches | accuracy    0.999\n",
            "| epoch  32 |    15/   46 batches | accuracy    0.999\n",
            "| epoch  32 |    20/   46 batches | accuracy    0.999\n",
            "| epoch  32 |    25/   46 batches | accuracy    0.999\n",
            "| epoch  32 |    30/   46 batches | accuracy    0.999\n",
            "| epoch  32 |    35/   46 batches | accuracy    1.000\n",
            "| epoch  32 |    40/   46 batches | accuracy    0.999\n",
            "| epoch  32 |    45/   46 batches | accuracy    0.999\n",
            "-----------------------------------------------------------\n",
            "| End of epoch  32 | Time: 27.61s | Train Accuracy    0.999 | Train Loss    0.002 | Valid Accuracy    0.703 | Valid Loss    1.191 \n",
            "-----------------------------------------------------------\n",
            "| epoch  33 |     5/   46 batches | accuracy    1.000\n",
            "| epoch  33 |    10/   46 batches | accuracy    1.000\n",
            "| epoch  33 |    15/   46 batches | accuracy    1.000\n",
            "| epoch  33 |    20/   46 batches | accuracy    1.000\n",
            "| epoch  33 |    25/   46 batches | accuracy    1.000\n",
            "| epoch  33 |    30/   46 batches | accuracy    1.000\n",
            "| epoch  33 |    35/   46 batches | accuracy    1.000\n",
            "| epoch  33 |    40/   46 batches | accuracy    1.000\n",
            "| epoch  33 |    45/   46 batches | accuracy    1.000\n",
            "-----------------------------------------------------------\n",
            "| End of epoch  33 | Time: 27.59s | Train Accuracy    1.000 | Train Loss    0.002 | Valid Accuracy    0.694 | Valid Loss    1.183 \n",
            "-----------------------------------------------------------\n",
            "| epoch  34 |     5/   46 batches | accuracy    1.000\n",
            "| epoch  34 |    10/   46 batches | accuracy    1.000\n",
            "| epoch  34 |    15/   46 batches | accuracy    1.000\n",
            "| epoch  34 |    20/   46 batches | accuracy    1.000\n",
            "| epoch  34 |    25/   46 batches | accuracy    1.000\n",
            "| epoch  34 |    30/   46 batches | accuracy    1.000\n",
            "| epoch  34 |    35/   46 batches | accuracy    1.000\n",
            "| epoch  34 |    40/   46 batches | accuracy    1.000\n",
            "| epoch  34 |    45/   46 batches | accuracy    1.000\n",
            "-----------------------------------------------------------\n",
            "| End of epoch  34 | Time: 27.46s | Train Accuracy    1.000 | Train Loss    0.001 | Valid Accuracy    0.690 | Valid Loss    1.184 \n",
            "-----------------------------------------------------------\n",
            "| epoch  35 |     5/   46 batches | accuracy    1.000\n",
            "| epoch  35 |    10/   46 batches | accuracy    1.000\n",
            "| epoch  35 |    15/   46 batches | accuracy    1.000\n",
            "| epoch  35 |    20/   46 batches | accuracy    1.000\n",
            "| epoch  35 |    25/   46 batches | accuracy    1.000\n",
            "| epoch  35 |    30/   46 batches | accuracy    0.999\n",
            "| epoch  35 |    35/   46 batches | accuracy    1.000\n",
            "| epoch  35 |    40/   46 batches | accuracy    1.000\n",
            "| epoch  35 |    45/   46 batches | accuracy    1.000\n",
            "-----------------------------------------------------------\n",
            "| End of epoch  35 | Time: 27.32s | Train Accuracy    1.000 | Train Loss    0.001 | Valid Accuracy    0.694 | Valid Loss    1.186 \n",
            "-----------------------------------------------------------\n",
            "| epoch  36 |     5/   46 batches | accuracy    1.000\n",
            "| epoch  36 |    10/   46 batches | accuracy    0.999\n",
            "| epoch  36 |    15/   46 batches | accuracy    0.998\n",
            "| epoch  36 |    20/   46 batches | accuracy    0.999\n",
            "| epoch  36 |    25/   46 batches | accuracy    0.999\n",
            "| epoch  36 |    30/   46 batches | accuracy    0.999\n",
            "| epoch  36 |    35/   46 batches | accuracy    0.999\n",
            "| epoch  36 |    40/   46 batches | accuracy    0.999\n",
            "| epoch  36 |    45/   46 batches | accuracy    0.999\n",
            "-----------------------------------------------------------\n",
            "| End of epoch  36 | Time: 27.03s | Train Accuracy    0.999 | Train Loss    0.002 | Valid Accuracy    0.690 | Valid Loss    1.191 \n",
            "-----------------------------------------------------------\n",
            "| epoch  37 |     5/   46 batches | accuracy    1.000\n",
            "| epoch  37 |    10/   46 batches | accuracy    1.000\n",
            "| epoch  37 |    15/   46 batches | accuracy    1.000\n",
            "| epoch  37 |    20/   46 batches | accuracy    1.000\n",
            "| epoch  37 |    25/   46 batches | accuracy    0.999\n",
            "| epoch  37 |    30/   46 batches | accuracy    0.999\n",
            "| epoch  37 |    35/   46 batches | accuracy    1.000\n",
            "| epoch  37 |    40/   46 batches | accuracy    1.000\n",
            "| epoch  37 |    45/   46 batches | accuracy    1.000\n",
            "-----------------------------------------------------------\n",
            "| End of epoch  37 | Time: 27.17s | Train Accuracy    1.000 | Train Loss    0.002 | Valid Accuracy    0.691 | Valid Loss    1.202 \n",
            "-----------------------------------------------------------\n",
            "| epoch  38 |     5/   46 batches | accuracy    1.000\n",
            "| epoch  38 |    10/   46 batches | accuracy    1.000\n",
            "| epoch  38 |    15/   46 batches | accuracy    1.000\n",
            "| epoch  38 |    20/   46 batches | accuracy    0.999\n",
            "| epoch  38 |    25/   46 batches | accuracy    0.999\n",
            "| epoch  38 |    30/   46 batches | accuracy    0.999\n",
            "| epoch  38 |    35/   46 batches | accuracy    1.000\n",
            "| epoch  38 |    40/   46 batches | accuracy    1.000\n",
            "| epoch  38 |    45/   46 batches | accuracy    1.000\n",
            "-----------------------------------------------------------\n",
            "| End of epoch  38 | Time: 27.38s | Train Accuracy    1.000 | Train Loss    0.002 | Valid Accuracy    0.703 | Valid Loss    1.178 \n",
            "-----------------------------------------------------------\n",
            "| epoch  39 |     5/   46 batches | accuracy    1.000\n",
            "| epoch  39 |    10/   46 batches | accuracy    1.000\n",
            "| epoch  39 |    15/   46 batches | accuracy    1.000\n",
            "| epoch  39 |    20/   46 batches | accuracy    1.000\n",
            "| epoch  39 |    25/   46 batches | accuracy    1.000\n",
            "| epoch  39 |    30/   46 batches | accuracy    0.999\n",
            "| epoch  39 |    35/   46 batches | accuracy    1.000\n",
            "| epoch  39 |    40/   46 batches | accuracy    1.000\n",
            "| epoch  39 |    45/   46 batches | accuracy    1.000\n",
            "-----------------------------------------------------------\n",
            "| End of epoch  39 | Time: 26.77s | Train Accuracy    1.000 | Train Loss    0.001 | Valid Accuracy    0.700 | Valid Loss    1.194 \n",
            "-----------------------------------------------------------\n",
            "| epoch  40 |     5/   46 batches | accuracy    1.000\n",
            "| epoch  40 |    10/   46 batches | accuracy    1.000\n",
            "| epoch  40 |    15/   46 batches | accuracy    1.000\n",
            "| epoch  40 |    20/   46 batches | accuracy    1.000\n",
            "| epoch  40 |    25/   46 batches | accuracy    1.000\n",
            "| epoch  40 |    30/   46 batches | accuracy    1.000\n",
            "| epoch  40 |    35/   46 batches | accuracy    1.000\n",
            "| epoch  40 |    40/   46 batches | accuracy    1.000\n",
            "| epoch  40 |    45/   46 batches | accuracy    1.000\n",
            "-----------------------------------------------------------\n",
            "| End of epoch  40 | Time: 27.04s | Train Accuracy    1.000 | Train Loss    0.001 | Valid Accuracy    0.705 | Valid Loss    1.198 \n",
            "-----------------------------------------------------------\n",
            "| epoch  41 |     5/   46 batches | accuracy    1.000\n",
            "| epoch  41 |    10/   46 batches | accuracy    1.000\n",
            "| epoch  41 |    15/   46 batches | accuracy    1.000\n",
            "| epoch  41 |    20/   46 batches | accuracy    1.000\n",
            "| epoch  41 |    25/   46 batches | accuracy    0.999\n",
            "| epoch  41 |    30/   46 batches | accuracy    0.999\n",
            "| epoch  41 |    35/   46 batches | accuracy    1.000\n",
            "| epoch  41 |    40/   46 batches | accuracy    1.000\n",
            "| epoch  41 |    45/   46 batches | accuracy    1.000\n",
            "-----------------------------------------------------------\n",
            "| End of epoch  41 | Time: 26.67s | Train Accuracy    1.000 | Train Loss    0.001 | Valid Accuracy    0.706 | Valid Loss    1.193 \n",
            "-----------------------------------------------------------\n",
            "| epoch  42 |     5/   46 batches | accuracy    1.000\n",
            "| epoch  42 |    10/   46 batches | accuracy    1.000\n",
            "| epoch  42 |    15/   46 batches | accuracy    0.999\n",
            "| epoch  42 |    20/   46 batches | accuracy    0.999\n",
            "| epoch  42 |    25/   46 batches | accuracy    0.999\n",
            "| epoch  42 |    30/   46 batches | accuracy    0.999\n",
            "| epoch  42 |    35/   46 batches | accuracy    0.999\n",
            "| epoch  42 |    40/   46 batches | accuracy    0.999\n",
            "| epoch  42 |    45/   46 batches | accuracy    0.999\n",
            "-----------------------------------------------------------\n",
            "| End of epoch  42 | Time: 26.98s | Train Accuracy    0.999 | Train Loss    0.002 | Valid Accuracy    0.700 | Valid Loss    1.199 \n",
            "-----------------------------------------------------------\n",
            "| epoch  43 |     5/   46 batches | accuracy    1.000\n",
            "| epoch  43 |    10/   46 batches | accuracy    1.000\n",
            "| epoch  43 |    15/   46 batches | accuracy    1.000\n",
            "| epoch  43 |    20/   46 batches | accuracy    0.999\n",
            "| epoch  43 |    25/   46 batches | accuracy    0.999\n",
            "| epoch  43 |    30/   46 batches | accuracy    0.999\n",
            "| epoch  43 |    35/   46 batches | accuracy    1.000\n",
            "| epoch  43 |    40/   46 batches | accuracy    1.000\n",
            "| epoch  43 |    45/   46 batches | accuracy    1.000\n",
            "-----------------------------------------------------------\n",
            "| End of epoch  43 | Time: 27.66s | Train Accuracy    1.000 | Train Loss    0.001 | Valid Accuracy    0.697 | Valid Loss    1.203 \n",
            "-----------------------------------------------------------\n",
            "| epoch  44 |     5/   46 batches | accuracy    0.997\n",
            "| epoch  44 |    10/   46 batches | accuracy    0.999\n",
            "| epoch  44 |    15/   46 batches | accuracy    0.999\n",
            "| epoch  44 |    20/   46 batches | accuracy    0.999\n",
            "| epoch  44 |    25/   46 batches | accuracy    0.999\n",
            "| epoch  44 |    30/   46 batches | accuracy    0.999\n",
            "| epoch  44 |    35/   46 batches | accuracy    0.999\n",
            "| epoch  44 |    40/   46 batches | accuracy    0.999\n",
            "| epoch  44 |    45/   46 batches | accuracy    0.999\n",
            "-----------------------------------------------------------\n",
            "| End of epoch  44 | Time: 26.92s | Train Accuracy    0.999 | Train Loss    0.001 | Valid Accuracy    0.707 | Valid Loss    1.183 \n",
            "-----------------------------------------------------------\n",
            "| epoch  45 |     5/   46 batches | accuracy    1.000\n",
            "| epoch  45 |    10/   46 batches | accuracy    1.000\n",
            "| epoch  45 |    15/   46 batches | accuracy    1.000\n",
            "| epoch  45 |    20/   46 batches | accuracy    1.000\n",
            "| epoch  45 |    25/   46 batches | accuracy    1.000\n",
            "| epoch  45 |    30/   46 batches | accuracy    1.000\n",
            "| epoch  45 |    35/   46 batches | accuracy    1.000\n",
            "| epoch  45 |    40/   46 batches | accuracy    1.000\n",
            "| epoch  45 |    45/   46 batches | accuracy    1.000\n",
            "-----------------------------------------------------------\n",
            "| End of epoch  45 | Time: 126.34s | Train Accuracy    1.000 | Train Loss    0.001 | Valid Accuracy    0.698 | Valid Loss    1.205 \n",
            "-----------------------------------------------------------\n",
            "| epoch  46 |     5/   46 batches | accuracy    0.997\n",
            "| epoch  46 |    10/   46 batches | accuracy    0.999\n",
            "| epoch  46 |    15/   46 batches | accuracy    0.998\n",
            "| epoch  46 |    20/   46 batches | accuracy    0.999\n",
            "| epoch  46 |    25/   46 batches | accuracy    0.999\n",
            "| epoch  46 |    30/   46 batches | accuracy    0.999\n",
            "| epoch  46 |    35/   46 batches | accuracy    0.999\n",
            "| epoch  46 |    40/   46 batches | accuracy    0.999\n",
            "| epoch  46 |    45/   46 batches | accuracy    0.999\n",
            "-----------------------------------------------------------\n",
            "| End of epoch  46 | Time: 232.17s | Train Accuracy    0.999 | Train Loss    0.001 | Valid Accuracy    0.708 | Valid Loss    1.198 \n",
            "-----------------------------------------------------------\n",
            "| epoch  47 |     5/   46 batches | accuracy    1.000\n",
            "| epoch  47 |    10/   46 batches | accuracy    1.000\n",
            "| epoch  47 |    15/   46 batches | accuracy    1.000\n",
            "| epoch  47 |    20/   46 batches | accuracy    1.000\n",
            "| epoch  47 |    25/   46 batches | accuracy    1.000\n",
            "| epoch  47 |    30/   46 batches | accuracy    0.999\n",
            "| epoch  47 |    35/   46 batches | accuracy    1.000\n",
            "| epoch  47 |    40/   46 batches | accuracy    1.000\n",
            "| epoch  47 |    45/   46 batches | accuracy    1.000\n",
            "-----------------------------------------------------------\n",
            "| End of epoch  47 | Time: 231.73s | Train Accuracy    1.000 | Train Loss    0.001 | Valid Accuracy    0.697 | Valid Loss    1.191 \n",
            "-----------------------------------------------------------\n",
            "| epoch  48 |     5/   46 batches | accuracy    1.000\n",
            "| epoch  48 |    10/   46 batches | accuracy    0.999\n",
            "| epoch  48 |    15/   46 batches | accuracy    0.999\n",
            "| epoch  48 |    20/   46 batches | accuracy    0.999\n",
            "| epoch  48 |    25/   46 batches | accuracy    0.999\n",
            "| epoch  48 |    30/   46 batches | accuracy    0.999\n",
            "| epoch  48 |    35/   46 batches | accuracy    1.000\n",
            "| epoch  48 |    40/   46 batches | accuracy    1.000\n",
            "| epoch  48 |    45/   46 batches | accuracy    1.000\n",
            "-----------------------------------------------------------\n",
            "| End of epoch  48 | Time: 232.07s | Train Accuracy    1.000 | Train Loss    0.001 | Valid Accuracy    0.699 | Valid Loss    1.214 \n",
            "-----------------------------------------------------------\n",
            "| epoch  49 |     5/   46 batches | accuracy    1.000\n",
            "| epoch  49 |    10/   46 batches | accuracy    1.000\n",
            "| epoch  49 |    15/   46 batches | accuracy    1.000\n",
            "| epoch  49 |    20/   46 batches | accuracy    1.000\n",
            "| epoch  49 |    25/   46 batches | accuracy    1.000\n",
            "| epoch  49 |    30/   46 batches | accuracy    1.000\n",
            "| epoch  49 |    35/   46 batches | accuracy    1.000\n",
            "| epoch  49 |    40/   46 batches | accuracy    1.000\n",
            "| epoch  49 |    45/   46 batches | accuracy    1.000\n",
            "-----------------------------------------------------------\n",
            "| End of epoch  49 | Time: 231.48s | Train Accuracy    1.000 | Train Loss    0.001 | Valid Accuracy    0.703 | Valid Loss    1.204 \n",
            "-----------------------------------------------------------\n",
            "| epoch  50 |     5/   46 batches | accuracy    1.000\n",
            "| epoch  50 |    10/   46 batches | accuracy    1.000\n",
            "| epoch  50 |    15/   46 batches | accuracy    1.000\n",
            "| epoch  50 |    20/   46 batches | accuracy    1.000\n",
            "| epoch  50 |    25/   46 batches | accuracy    1.000\n",
            "| epoch  50 |    30/   46 batches | accuracy    1.000\n",
            "| epoch  50 |    35/   46 batches | accuracy    1.000\n",
            "| epoch  50 |    40/   46 batches | accuracy    1.000\n",
            "| epoch  50 |    45/   46 batches | accuracy    1.000\n",
            "-----------------------------------------------------------\n",
            "| End of epoch  50 | Time: 232.97s | Train Accuracy    1.000 | Train Loss    0.001 | Valid Accuracy    0.705 | Valid Loss    1.201 \n",
            "-----------------------------------------------------------\n"
          ]
        }
      ],
      "source": [
        "base_model = models.resnet18(weights=None)\n",
        "in_features = base_model.fc.in_features\n",
        "base_model.fc = nn.Linear(in_features, num_classes)\n",
        "\n",
        "device = torch.device('cuda' if torch.cuda.is_available() else 'cpu')\n",
        "base_model.to(device)\n",
        "\n",
        "criterion = torch.nn.CrossEntropyLoss()\n",
        "optimizer = optim.Adam(base_model.parameters(), lr=0.0001)\n",
        "\n",
        "num_epochs = 50\n",
        "save_model = 'model'\n",
        "os.makedirs(save_model, exist_ok = True)\n",
        "model_name = 'base_model'\n",
        "\n",
        "base_model, base_metrics = train(\n",
        "    base_model, model_name, save_model, optimizer, criterion, train_dataloader, valid_dataloader, num_epochs, device\n",
        ")"
      ]
    },
    {
      "cell_type": "code",
      "execution_count": 35,
      "metadata": {
        "colab": {
          "base_uri": "https://localhost:8080/"
        },
        "id": "Vv_PC15esm56",
        "outputId": "d18f1c49-4fcc-4d3a-f41b-694d34b351bd"
      },
      "outputs": [
        {
          "data": {
            "text/plain": [
              "(0.7585882092198583, 1.0438550511995952)"
            ]
          },
          "execution_count": 35,
          "metadata": {},
          "output_type": "execute_result"
        }
      ],
      "source": [
        "test_acc, test_loss = evaluate_epoch(base_model, criterion, test_dataloader)\n",
        "test_acc, test_loss"
      ]
    },
    {
      "cell_type": "code",
      "execution_count": 36,
      "metadata": {
        "colab": {
          "base_uri": "https://localhost:8080/",
          "height": 542
        },
        "id": "icYRUvp22gV3",
        "outputId": "5f12479c-d507-4160-9973-d3515b08649f"
      },
      "outputs": [
        {
          "data": {
            "image/png": "[encoded data removed]",
            "text/plain": [
              "<Figure size 1200x600 with 2 Axes>"
            ]
          },
          "metadata": {},
          "output_type": "display_data"
        }
      ],
      "source": [
        "plot_result(\n",
        "    num_epochs,\n",
        "    base_metrics[\"train_accuracy\"],\n",
        "    base_metrics[\"valid_accuracy\"],\n",
        "    base_metrics[\"train_loss\"],\n",
        "    base_metrics[\"valid_loss\"]\n",
        ")"
      ]
    },
    {
      "cell_type": "markdown",
      "metadata": {
        "id": "9v0AnriF2shS"
      },
      "source": [
        "###**4.2.Transfer Learning**"
      ]
    },
    {
      "cell_type": "code",
      "execution_count": 37,
      "metadata": {
        "colab": {
          "base_uri": "https://localhost:8080/"
        },
        "id": "k0R2Q9qZ2wcL",
        "outputId": "a3db1caf-f574-43c1-e954-6b6b8b3169e7"
      },
      "outputs": [
        {
          "name": "stderr",
          "output_type": "stream",
          "text": [
            "Downloading: \"https://download.pytorch.org/models/resnet18-f37072fd.pth\" to /home/huydn/.cache/torch/hub/checkpoints/resnet18-f37072fd.pth\n",
            "100%|██████████| 44.7M/44.7M [00:12<00:00, 3.66MB/s]\n"
          ]
        }
      ],
      "source": [
        "model = models.resnet18(\n",
        "    weights=models.ResNet18_Weights.IMAGENET1K_V1\n",
        ")"
      ]
    },
    {
      "cell_type": "code",
      "execution_count": 38,
      "metadata": {
        "colab": {
          "base_uri": "https://localhost:8080/"
        },
        "id": "HdywOdZ73Mkk",
        "outputId": "1286b3e0-0954-4fbd-afc4-4636d4ca247f"
      },
      "outputs": [
        {
          "data": {
            "text/plain": [
              "ResNet(\n",
              "  (conv1): Conv2d(3, 64, kernel_size=(7, 7), stride=(2, 2), padding=(3, 3), bias=False)\n",
              "  (bn1): BatchNorm2d(64, eps=1e-05, momentum=0.1, affine=True, track_running_stats=True)\n",
              "  (relu): ReLU(inplace=True)\n",
              "  (maxpool): MaxPool2d(kernel_size=3, stride=2, padding=1, dilation=1, ceil_mode=False)\n",
              "  (layer1): Sequential(\n",
              "    (0): BasicBlock(\n",
              "      (conv1): Conv2d(64, 64, kernel_size=(3, 3), stride=(1, 1), padding=(1, 1), bias=False)\n",
              "      (bn1): BatchNorm2d(64, eps=1e-05, momentum=0.1, affine=True, track_running_stats=True)\n",
              "      (relu): ReLU(inplace=True)\n",
              "      (conv2): Conv2d(64, 64, kernel_size=(3, 3), stride=(1, 1), padding=(1, 1), bias=False)\n",
              "      (bn2): BatchNorm2d(64, eps=1e-05, momentum=0.1, affine=True, track_running_stats=True)\n",
              "    )\n",
              "    (1): BasicBlock(\n",
              "      (conv1): Conv2d(64, 64, kernel_size=(3, 3), stride=(1, 1), padding=(1, 1), bias=False)\n",
              "      (bn1): BatchNorm2d(64, eps=1e-05, momentum=0.1, affine=True, track_running_stats=True)\n",
              "      (relu): ReLU(inplace=True)\n",
              "      (conv2): Conv2d(64, 64, kernel_size=(3, 3), stride=(1, 1), padding=(1, 1), bias=False)\n",
              "      (bn2): BatchNorm2d(64, eps=1e-05, momentum=0.1, affine=True, track_running_stats=True)\n",
              "    )\n",
              "  )\n",
              "  (layer2): Sequential(\n",
              "    (0): BasicBlock(\n",
              "      (conv1): Conv2d(64, 128, kernel_size=(3, 3), stride=(2, 2), padding=(1, 1), bias=False)\n",
              "      (bn1): BatchNorm2d(128, eps=1e-05, momentum=0.1, affine=True, track_running_stats=True)\n",
              "      (relu): ReLU(inplace=True)\n",
              "      (conv2): Conv2d(128, 128, kernel_size=(3, 3), stride=(1, 1), padding=(1, 1), bias=False)\n",
              "      (bn2): BatchNorm2d(128, eps=1e-05, momentum=0.1, affine=True, track_running_stats=True)\n",
              "      (downsample): Sequential(\n",
              "        (0): Conv2d(64, 128, kernel_size=(1, 1), stride=(2, 2), bias=False)\n",
              "        (1): BatchNorm2d(128, eps=1e-05, momentum=0.1, affine=True, track_running_stats=True)\n",
              "      )\n",
              "    )\n",
              "    (1): BasicBlock(\n",
              "      (conv1): Conv2d(128, 128, kernel_size=(3, 3), stride=(1, 1), padding=(1, 1), bias=False)\n",
              "      (bn1): BatchNorm2d(128, eps=1e-05, momentum=0.1, affine=True, track_running_stats=True)\n",
              "      (relu): ReLU(inplace=True)\n",
              "      (conv2): Conv2d(128, 128, kernel_size=(3, 3), stride=(1, 1), padding=(1, 1), bias=False)\n",
              "      (bn2): BatchNorm2d(128, eps=1e-05, momentum=0.1, affine=True, track_running_stats=True)\n",
              "    )\n",
              "  )\n",
              "  (layer3): Sequential(\n",
              "    (0): BasicBlock(\n",
              "      (conv1): Conv2d(128, 256, kernel_size=(3, 3), stride=(2, 2), padding=(1, 1), bias=False)\n",
              "      (bn1): BatchNorm2d(256, eps=1e-05, momentum=0.1, affine=True, track_running_stats=True)\n",
              "      (relu): ReLU(inplace=True)\n",
              "      (conv2): Conv2d(256, 256, kernel_size=(3, 3), stride=(1, 1), padding=(1, 1), bias=False)\n",
              "      (bn2): BatchNorm2d(256, eps=1e-05, momentum=0.1, affine=True, track_running_stats=True)\n",
              "      (downsample): Sequential(\n",
              "        (0): Conv2d(128, 256, kernel_size=(1, 1), stride=(2, 2), bias=False)\n",
              "        (1): BatchNorm2d(256, eps=1e-05, momentum=0.1, affine=True, track_running_stats=True)\n",
              "      )\n",
              "    )\n",
              "    (1): BasicBlock(\n",
              "      (conv1): Conv2d(256, 256, kernel_size=(3, 3), stride=(1, 1), padding=(1, 1), bias=False)\n",
              "      (bn1): BatchNorm2d(256, eps=1e-05, momentum=0.1, affine=True, track_running_stats=True)\n",
              "      (relu): ReLU(inplace=True)\n",
              "      (conv2): Conv2d(256, 256, kernel_size=(3, 3), stride=(1, 1), padding=(1, 1), bias=False)\n",
              "      (bn2): BatchNorm2d(256, eps=1e-05, momentum=0.1, affine=True, track_running_stats=True)\n",
              "    )\n",
              "  )\n",
              "  (layer4): Sequential(\n",
              "    (0): BasicBlock(\n",
              "      (conv1): Conv2d(256, 512, kernel_size=(3, 3), stride=(2, 2), padding=(1, 1), bias=False)\n",
              "      (bn1): BatchNorm2d(512, eps=1e-05, momentum=0.1, affine=True, track_running_stats=True)\n",
              "      (relu): ReLU(inplace=True)\n",
              "      (conv2): Conv2d(512, 512, kernel_size=(3, 3), stride=(1, 1), padding=(1, 1), bias=False)\n",
              "      (bn2): BatchNorm2d(512, eps=1e-05, momentum=0.1, affine=True, track_running_stats=True)\n",
              "      (downsample): Sequential(\n",
              "        (0): Conv2d(256, 512, kernel_size=(1, 1), stride=(2, 2), bias=False)\n",
              "        (1): BatchNorm2d(512, eps=1e-05, momentum=0.1, affine=True, track_running_stats=True)\n",
              "      )\n",
              "    )\n",
              "    (1): BasicBlock(\n",
              "      (conv1): Conv2d(512, 512, kernel_size=(3, 3), stride=(1, 1), padding=(1, 1), bias=False)\n",
              "      (bn1): BatchNorm2d(512, eps=1e-05, momentum=0.1, affine=True, track_running_stats=True)\n",
              "      (relu): ReLU(inplace=True)\n",
              "      (conv2): Conv2d(512, 512, kernel_size=(3, 3), stride=(1, 1), padding=(1, 1), bias=False)\n",
              "      (bn2): BatchNorm2d(512, eps=1e-05, momentum=0.1, affine=True, track_running_stats=True)\n",
              "    )\n",
              "  )\n",
              "  (avgpool): AdaptiveAvgPool2d(output_size=(1, 1))\n",
              "  (fc): Linear(in_features=512, out_features=1000, bias=True)\n",
              ")"
            ]
          },
          "execution_count": 38,
          "metadata": {},
          "output_type": "execute_result"
        }
      ],
      "source": [
        "model"
      ]
    },
    {
      "cell_type": "code",
      "execution_count": 39,
      "metadata": {
        "id": "PT-JtF5i3Vj-"
      },
      "outputs": [],
      "source": [
        "for param in model.parameters():\n",
        "   param.requires_grad = False"
      ]
    },
    {
      "cell_type": "code",
      "execution_count": 40,
      "metadata": {
        "id": "WyPOMN8B3Y2O"
      },
      "outputs": [],
      "source": [
        "in_features = model.fc.in_features\n",
        "model.fc = nn.Linear(in_features, num_classes)"
      ]
    },
    {
      "cell_type": "code",
      "execution_count": 41,
      "metadata": {
        "colab": {
          "base_uri": "https://localhost:8080/"
        },
        "id": "D1mijCVS3d_R",
        "outputId": "8043a6f0-2fc8-4d4a-a6a0-71d749a67fe6"
      },
      "outputs": [
        {
          "data": {
            "text/plain": [
              "ResNet(\n",
              "  (conv1): Conv2d(3, 64, kernel_size=(7, 7), stride=(2, 2), padding=(3, 3), bias=False)\n",
              "  (bn1): BatchNorm2d(64, eps=1e-05, momentum=0.1, affine=True, track_running_stats=True)\n",
              "  (relu): ReLU(inplace=True)\n",
              "  (maxpool): MaxPool2d(kernel_size=3, stride=2, padding=1, dilation=1, ceil_mode=False)\n",
              "  (layer1): Sequential(\n",
              "    (0): BasicBlock(\n",
              "      (conv1): Conv2d(64, 64, kernel_size=(3, 3), stride=(1, 1), padding=(1, 1), bias=False)\n",
              "      (bn1): BatchNorm2d(64, eps=1e-05, momentum=0.1, affine=True, track_running_stats=True)\n",
              "      (relu): ReLU(inplace=True)\n",
              "      (conv2): Conv2d(64, 64, kernel_size=(3, 3), stride=(1, 1), padding=(1, 1), bias=False)\n",
              "      (bn2): BatchNorm2d(64, eps=1e-05, momentum=0.1, affine=True, track_running_stats=True)\n",
              "    )\n",
              "    (1): BasicBlock(\n",
              "      (conv1): Conv2d(64, 64, kernel_size=(3, 3), stride=(1, 1), padding=(1, 1), bias=False)\n",
              "      (bn1): BatchNorm2d(64, eps=1e-05, momentum=0.1, affine=True, track_running_stats=True)\n",
              "      (relu): ReLU(inplace=True)\n",
              "      (conv2): Conv2d(64, 64, kernel_size=(3, 3), stride=(1, 1), padding=(1, 1), bias=False)\n",
              "      (bn2): BatchNorm2d(64, eps=1e-05, momentum=0.1, affine=True, track_running_stats=True)\n",
              "    )\n",
              "  )\n",
              "  (layer2): Sequential(\n",
              "    (0): BasicBlock(\n",
              "      (conv1): Conv2d(64, 128, kernel_size=(3, 3), stride=(2, 2), padding=(1, 1), bias=False)\n",
              "      (bn1): BatchNorm2d(128, eps=1e-05, momentum=0.1, affine=True, track_running_stats=True)\n",
              "      (relu): ReLU(inplace=True)\n",
              "      (conv2): Conv2d(128, 128, kernel_size=(3, 3), stride=(1, 1), padding=(1, 1), bias=False)\n",
              "      (bn2): BatchNorm2d(128, eps=1e-05, momentum=0.1, affine=True, track_running_stats=True)\n",
              "      (downsample): Sequential(\n",
              "        (0): Conv2d(64, 128, kernel_size=(1, 1), stride=(2, 2), bias=False)\n",
              "        (1): BatchNorm2d(128, eps=1e-05, momentum=0.1, affine=True, track_running_stats=True)\n",
              "      )\n",
              "    )\n",
              "    (1): BasicBlock(\n",
              "      (conv1): Conv2d(128, 128, kernel_size=(3, 3), stride=(1, 1), padding=(1, 1), bias=False)\n",
              "      (bn1): BatchNorm2d(128, eps=1e-05, momentum=0.1, affine=True, track_running_stats=True)\n",
              "      (relu): ReLU(inplace=True)\n",
              "      (conv2): Conv2d(128, 128, kernel_size=(3, 3), stride=(1, 1), padding=(1, 1), bias=False)\n",
              "      (bn2): BatchNorm2d(128, eps=1e-05, momentum=0.1, affine=True, track_running_stats=True)\n",
              "    )\n",
              "  )\n",
              "  (layer3): Sequential(\n",
              "    (0): BasicBlock(\n",
              "      (conv1): Conv2d(128, 256, kernel_size=(3, 3), stride=(2, 2), padding=(1, 1), bias=False)\n",
              "      (bn1): BatchNorm2d(256, eps=1e-05, momentum=0.1, affine=True, track_running_stats=True)\n",
              "      (relu): ReLU(inplace=True)\n",
              "      (conv2): Conv2d(256, 256, kernel_size=(3, 3), stride=(1, 1), padding=(1, 1), bias=False)\n",
              "      (bn2): BatchNorm2d(256, eps=1e-05, momentum=0.1, affine=True, track_running_stats=True)\n",
              "      (downsample): Sequential(\n",
              "        (0): Conv2d(128, 256, kernel_size=(1, 1), stride=(2, 2), bias=False)\n",
              "        (1): BatchNorm2d(256, eps=1e-05, momentum=0.1, affine=True, track_running_stats=True)\n",
              "      )\n",
              "    )\n",
              "    (1): BasicBlock(\n",
              "      (conv1): Conv2d(256, 256, kernel_size=(3, 3), stride=(1, 1), padding=(1, 1), bias=False)\n",
              "      (bn1): BatchNorm2d(256, eps=1e-05, momentum=0.1, affine=True, track_running_stats=True)\n",
              "      (relu): ReLU(inplace=True)\n",
              "      (conv2): Conv2d(256, 256, kernel_size=(3, 3), stride=(1, 1), padding=(1, 1), bias=False)\n",
              "      (bn2): BatchNorm2d(256, eps=1e-05, momentum=0.1, affine=True, track_running_stats=True)\n",
              "    )\n",
              "  )\n",
              "  (layer4): Sequential(\n",
              "    (0): BasicBlock(\n",
              "      (conv1): Conv2d(256, 512, kernel_size=(3, 3), stride=(2, 2), padding=(1, 1), bias=False)\n",
              "      (bn1): BatchNorm2d(512, eps=1e-05, momentum=0.1, affine=True, track_running_stats=True)\n",
              "      (relu): ReLU(inplace=True)\n",
              "      (conv2): Conv2d(512, 512, kernel_size=(3, 3), stride=(1, 1), padding=(1, 1), bias=False)\n",
              "      (bn2): BatchNorm2d(512, eps=1e-05, momentum=0.1, affine=True, track_running_stats=True)\n",
              "      (downsample): Sequential(\n",
              "        (0): Conv2d(256, 512, kernel_size=(1, 1), stride=(2, 2), bias=False)\n",
              "        (1): BatchNorm2d(512, eps=1e-05, momentum=0.1, affine=True, track_running_stats=True)\n",
              "      )\n",
              "    )\n",
              "    (1): BasicBlock(\n",
              "      (conv1): Conv2d(512, 512, kernel_size=(3, 3), stride=(1, 1), padding=(1, 1), bias=False)\n",
              "      (bn1): BatchNorm2d(512, eps=1e-05, momentum=0.1, affine=True, track_running_stats=True)\n",
              "      (relu): ReLU(inplace=True)\n",
              "      (conv2): Conv2d(512, 512, kernel_size=(3, 3), stride=(1, 1), padding=(1, 1), bias=False)\n",
              "      (bn2): BatchNorm2d(512, eps=1e-05, momentum=0.1, affine=True, track_running_stats=True)\n",
              "    )\n",
              "  )\n",
              "  (avgpool): AdaptiveAvgPool2d(output_size=(1, 1))\n",
              "  (fc): Linear(in_features=512, out_features=5, bias=True)\n",
              ")"
            ]
          },
          "execution_count": 41,
          "metadata": {},
          "output_type": "execute_result"
        }
      ],
      "source": [
        "model"
      ]
    },
    {
      "cell_type": "code",
      "execution_count": 42,
      "metadata": {
        "colab": {
          "base_uri": "https://localhost:8080/"
        },
        "id": "EXlI7QhR3jHK",
        "outputId": "c01ad5fb-e86f-4692-c22d-142edc63437d"
      },
      "outputs": [
        {
          "data": {
            "text/plain": [
              "ResNet(\n",
              "  (conv1): Conv2d(3, 64, kernel_size=(7, 7), stride=(2, 2), padding=(3, 3), bias=False)\n",
              "  (bn1): BatchNorm2d(64, eps=1e-05, momentum=0.1, affine=True, track_running_stats=True)\n",
              "  (relu): ReLU(inplace=True)\n",
              "  (maxpool): MaxPool2d(kernel_size=3, stride=2, padding=1, dilation=1, ceil_mode=False)\n",
              "  (layer1): Sequential(\n",
              "    (0): BasicBlock(\n",
              "      (conv1): Conv2d(64, 64, kernel_size=(3, 3), stride=(1, 1), padding=(1, 1), bias=False)\n",
              "      (bn1): BatchNorm2d(64, eps=1e-05, momentum=0.1, affine=True, track_running_stats=True)\n",
              "      (relu): ReLU(inplace=True)\n",
              "      (conv2): Conv2d(64, 64, kernel_size=(3, 3), stride=(1, 1), padding=(1, 1), bias=False)\n",
              "      (bn2): BatchNorm2d(64, eps=1e-05, momentum=0.1, affine=True, track_running_stats=True)\n",
              "    )\n",
              "    (1): BasicBlock(\n",
              "      (conv1): Conv2d(64, 64, kernel_size=(3, 3), stride=(1, 1), padding=(1, 1), bias=False)\n",
              "      (bn1): BatchNorm2d(64, eps=1e-05, momentum=0.1, affine=True, track_running_stats=True)\n",
              "      (relu): ReLU(inplace=True)\n",
              "      (conv2): Conv2d(64, 64, kernel_size=(3, 3), stride=(1, 1), padding=(1, 1), bias=False)\n",
              "      (bn2): BatchNorm2d(64, eps=1e-05, momentum=0.1, affine=True, track_running_stats=True)\n",
              "    )\n",
              "  )\n",
              "  (layer2): Sequential(\n",
              "    (0): BasicBlock(\n",
              "      (conv1): Conv2d(64, 128, kernel_size=(3, 3), stride=(2, 2), padding=(1, 1), bias=False)\n",
              "      (bn1): BatchNorm2d(128, eps=1e-05, momentum=0.1, affine=True, track_running_stats=True)\n",
              "      (relu): ReLU(inplace=True)\n",
              "      (conv2): Conv2d(128, 128, kernel_size=(3, 3), stride=(1, 1), padding=(1, 1), bias=False)\n",
              "      (bn2): BatchNorm2d(128, eps=1e-05, momentum=0.1, affine=True, track_running_stats=True)\n",
              "      (downsample): Sequential(\n",
              "        (0): Conv2d(64, 128, kernel_size=(1, 1), stride=(2, 2), bias=False)\n",
              "        (1): BatchNorm2d(128, eps=1e-05, momentum=0.1, affine=True, track_running_stats=True)\n",
              "      )\n",
              "    )\n",
              "    (1): BasicBlock(\n",
              "      (conv1): Conv2d(128, 128, kernel_size=(3, 3), stride=(1, 1), padding=(1, 1), bias=False)\n",
              "      (bn1): BatchNorm2d(128, eps=1e-05, momentum=0.1, affine=True, track_running_stats=True)\n",
              "      (relu): ReLU(inplace=True)\n",
              "      (conv2): Conv2d(128, 128, kernel_size=(3, 3), stride=(1, 1), padding=(1, 1), bias=False)\n",
              "      (bn2): BatchNorm2d(128, eps=1e-05, momentum=0.1, affine=True, track_running_stats=True)\n",
              "    )\n",
              "  )\n",
              "  (layer3): Sequential(\n",
              "    (0): BasicBlock(\n",
              "      (conv1): Conv2d(128, 256, kernel_size=(3, 3), stride=(2, 2), padding=(1, 1), bias=False)\n",
              "      (bn1): BatchNorm2d(256, eps=1e-05, momentum=0.1, affine=True, track_running_stats=True)\n",
              "      (relu): ReLU(inplace=True)\n",
              "      (conv2): Conv2d(256, 256, kernel_size=(3, 3), stride=(1, 1), padding=(1, 1), bias=False)\n",
              "      (bn2): BatchNorm2d(256, eps=1e-05, momentum=0.1, affine=True, track_running_stats=True)\n",
              "      (downsample): Sequential(\n",
              "        (0): Conv2d(128, 256, kernel_size=(1, 1), stride=(2, 2), bias=False)\n",
              "        (1): BatchNorm2d(256, eps=1e-05, momentum=0.1, affine=True, track_running_stats=True)\n",
              "      )\n",
              "    )\n",
              "    (1): BasicBlock(\n",
              "      (conv1): Conv2d(256, 256, kernel_size=(3, 3), stride=(1, 1), padding=(1, 1), bias=False)\n",
              "      (bn1): BatchNorm2d(256, eps=1e-05, momentum=0.1, affine=True, track_running_stats=True)\n",
              "      (relu): ReLU(inplace=True)\n",
              "      (conv2): Conv2d(256, 256, kernel_size=(3, 3), stride=(1, 1), padding=(1, 1), bias=False)\n",
              "      (bn2): BatchNorm2d(256, eps=1e-05, momentum=0.1, affine=True, track_running_stats=True)\n",
              "    )\n",
              "  )\n",
              "  (layer4): Sequential(\n",
              "    (0): BasicBlock(\n",
              "      (conv1): Conv2d(256, 512, kernel_size=(3, 3), stride=(2, 2), padding=(1, 1), bias=False)\n",
              "      (bn1): BatchNorm2d(512, eps=1e-05, momentum=0.1, affine=True, track_running_stats=True)\n",
              "      (relu): ReLU(inplace=True)\n",
              "      (conv2): Conv2d(512, 512, kernel_size=(3, 3), stride=(1, 1), padding=(1, 1), bias=False)\n",
              "      (bn2): BatchNorm2d(512, eps=1e-05, momentum=0.1, affine=True, track_running_stats=True)\n",
              "      (downsample): Sequential(\n",
              "        (0): Conv2d(256, 512, kernel_size=(1, 1), stride=(2, 2), bias=False)\n",
              "        (1): BatchNorm2d(512, eps=1e-05, momentum=0.1, affine=True, track_running_stats=True)\n",
              "      )\n",
              "    )\n",
              "    (1): BasicBlock(\n",
              "      (conv1): Conv2d(512, 512, kernel_size=(3, 3), stride=(1, 1), padding=(1, 1), bias=False)\n",
              "      (bn1): BatchNorm2d(512, eps=1e-05, momentum=0.1, affine=True, track_running_stats=True)\n",
              "      (relu): ReLU(inplace=True)\n",
              "      (conv2): Conv2d(512, 512, kernel_size=(3, 3), stride=(1, 1), padding=(1, 1), bias=False)\n",
              "      (bn2): BatchNorm2d(512, eps=1e-05, momentum=0.1, affine=True, track_running_stats=True)\n",
              "    )\n",
              "  )\n",
              "  (avgpool): AdaptiveAvgPool2d(output_size=(1, 1))\n",
              "  (fc): Linear(in_features=512, out_features=5, bias=True)\n",
              ")"
            ]
          },
          "execution_count": 42,
          "metadata": {},
          "output_type": "execute_result"
        }
      ],
      "source": [
        "model.to(device)"
      ]
    },
    {
      "cell_type": "code",
      "execution_count": 43,
      "metadata": {
        "colab": {
          "base_uri": "https://localhost:8080/"
        },
        "id": "2IELmhrt3hVv",
        "outputId": "3e8c5bc8-3279-42ef-871f-5fbe8a3fd3c6"
      },
      "outputs": [
        {
          "name": "stdout",
          "output_type": "stream",
          "text": [
            "----------------------------------------------------------------\n",
            "        Layer (type)               Output Shape         Param #\n",
            "================================================================\n",
            "            Conv2d-1         [-1, 64, 112, 112]           9,408\n",
            "       BatchNorm2d-2         [-1, 64, 112, 112]             128\n",
            "              ReLU-3         [-1, 64, 112, 112]               0\n",
            "         MaxPool2d-4           [-1, 64, 56, 56]               0\n",
            "            Conv2d-5           [-1, 64, 56, 56]          36,864\n",
            "       BatchNorm2d-6           [-1, 64, 56, 56]             128\n",
            "              ReLU-7           [-1, 64, 56, 56]               0\n",
            "            Conv2d-8           [-1, 64, 56, 56]          36,864\n",
            "       BatchNorm2d-9           [-1, 64, 56, 56]             128\n",
            "             ReLU-10           [-1, 64, 56, 56]               0\n",
            "       BasicBlock-11           [-1, 64, 56, 56]               0\n",
            "           Conv2d-12           [-1, 64, 56, 56]          36,864\n",
            "      BatchNorm2d-13           [-1, 64, 56, 56]             128\n",
            "             ReLU-14           [-1, 64, 56, 56]               0\n",
            "           Conv2d-15           [-1, 64, 56, 56]          36,864\n",
            "      BatchNorm2d-16           [-1, 64, 56, 56]             128\n",
            "             ReLU-17           [-1, 64, 56, 56]               0\n",
            "       BasicBlock-18           [-1, 64, 56, 56]               0\n",
            "           Conv2d-19          [-1, 128, 28, 28]          73,728\n",
            "      BatchNorm2d-20          [-1, 128, 28, 28]             256\n",
            "             ReLU-21          [-1, 128, 28, 28]               0\n",
            "           Conv2d-22          [-1, 128, 28, 28]         147,456\n",
            "      BatchNorm2d-23          [-1, 128, 28, 28]             256\n",
            "           Conv2d-24          [-1, 128, 28, 28]           8,192\n",
            "      BatchNorm2d-25          [-1, 128, 28, 28]             256\n",
            "             ReLU-26          [-1, 128, 28, 28]               0\n",
            "       BasicBlock-27          [-1, 128, 28, 28]               0\n",
            "           Conv2d-28          [-1, 128, 28, 28]         147,456\n",
            "      BatchNorm2d-29          [-1, 128, 28, 28]             256\n",
            "             ReLU-30          [-1, 128, 28, 28]               0\n",
            "           Conv2d-31          [-1, 128, 28, 28]         147,456\n",
            "      BatchNorm2d-32          [-1, 128, 28, 28]             256\n",
            "             ReLU-33          [-1, 128, 28, 28]               0\n",
            "       BasicBlock-34          [-1, 128, 28, 28]               0\n",
            "           Conv2d-35          [-1, 256, 14, 14]         294,912\n",
            "      BatchNorm2d-36          [-1, 256, 14, 14]             512\n",
            "             ReLU-37          [-1, 256, 14, 14]               0\n",
            "           Conv2d-38          [-1, 256, 14, 14]         589,824\n",
            "      BatchNorm2d-39          [-1, 256, 14, 14]             512\n",
            "           Conv2d-40          [-1, 256, 14, 14]          32,768\n",
            "      BatchNorm2d-41          [-1, 256, 14, 14]             512\n",
            "             ReLU-42          [-1, 256, 14, 14]               0\n",
            "       BasicBlock-43          [-1, 256, 14, 14]               0\n",
            "           Conv2d-44          [-1, 256, 14, 14]         589,824\n",
            "      BatchNorm2d-45          [-1, 256, 14, 14]             512\n",
            "             ReLU-46          [-1, 256, 14, 14]               0\n",
            "           Conv2d-47          [-1, 256, 14, 14]         589,824\n",
            "      BatchNorm2d-48          [-1, 256, 14, 14]             512\n",
            "             ReLU-49          [-1, 256, 14, 14]               0\n",
            "       BasicBlock-50          [-1, 256, 14, 14]               0\n",
            "           Conv2d-51            [-1, 512, 7, 7]       1,179,648\n",
            "      BatchNorm2d-52            [-1, 512, 7, 7]           1,024\n",
            "             ReLU-53            [-1, 512, 7, 7]               0\n",
            "           Conv2d-54            [-1, 512, 7, 7]       2,359,296\n",
            "      BatchNorm2d-55            [-1, 512, 7, 7]           1,024\n",
            "           Conv2d-56            [-1, 512, 7, 7]         131,072\n",
            "      BatchNorm2d-57            [-1, 512, 7, 7]           1,024\n",
            "             ReLU-58            [-1, 512, 7, 7]               0\n",
            "       BasicBlock-59            [-1, 512, 7, 7]               0\n",
            "           Conv2d-60            [-1, 512, 7, 7]       2,359,296\n",
            "      BatchNorm2d-61            [-1, 512, 7, 7]           1,024\n",
            "             ReLU-62            [-1, 512, 7, 7]               0\n",
            "           Conv2d-63            [-1, 512, 7, 7]       2,359,296\n",
            "      BatchNorm2d-64            [-1, 512, 7, 7]           1,024\n",
            "             ReLU-65            [-1, 512, 7, 7]               0\n",
            "       BasicBlock-66            [-1, 512, 7, 7]               0\n",
            "AdaptiveAvgPool2d-67            [-1, 512, 1, 1]               0\n",
            "           Linear-68                    [-1, 5]           2,565\n",
            "================================================================\n",
            "Total params: 11,179,077\n",
            "Trainable params: 2,565\n",
            "Non-trainable params: 11,176,512\n",
            "----------------------------------------------------------------\n",
            "Input size (MB): 0.57\n",
            "Forward/backward pass size (MB): 62.79\n",
            "Params size (MB): 42.64\n",
            "Estimated Total Size (MB): 106.00\n",
            "----------------------------------------------------------------\n"
          ]
        }
      ],
      "source": [
        "summary(model, (3, 224, 224))"
      ]
    },
    {
      "cell_type": "code",
      "execution_count": 45,
      "metadata": {
        "colab": {
          "base_uri": "https://localhost:8080/"
        },
        "id": "JFgsbs2k4mhN",
        "outputId": "75a5d423-9cb1-4f6e-f2d3-67af7dc5a6de"
      },
      "outputs": [
        {
          "name": "stdout",
          "output_type": "stream",
          "text": [
            "| epoch   1 |     5/   46 batches | accuracy    0.245\n",
            "| epoch   1 |    10/   46 batches | accuracy    0.254\n",
            "| epoch   1 |    15/   46 batches | accuracy    0.264\n",
            "| epoch   1 |    20/   46 batches | accuracy    0.284\n",
            "| epoch   1 |    25/   46 batches | accuracy    0.299\n",
            "| epoch   1 |    30/   46 batches | accuracy    0.317\n",
            "| epoch   1 |    35/   46 batches | accuracy    0.324\n",
            "| epoch   1 |    40/   46 batches | accuracy    0.336\n",
            "| epoch   1 |    45/   46 batches | accuracy    0.350\n",
            "-----------------------------------------------------------\n",
            "| End of epoch   1 | Time: 91.97s | Train Accuracy    0.350 | Train Loss    1.514 | Valid Accuracy    0.413 | Valid Loss    1.389 \n",
            "-----------------------------------------------------------\n",
            "| epoch   2 |     5/   46 batches | accuracy    0.443\n",
            "| epoch   2 |    10/   46 batches | accuracy    0.496\n",
            "| epoch   2 |    15/   46 batches | accuracy    0.514\n",
            "| epoch   2 |    20/   46 batches | accuracy    0.519\n",
            "| epoch   2 |    25/   46 batches | accuracy    0.523\n",
            "| epoch   2 |    30/   46 batches | accuracy    0.523\n",
            "| epoch   2 |    35/   46 batches | accuracy    0.529\n",
            "| epoch   2 |    40/   46 batches | accuracy    0.538\n",
            "| epoch   2 |    45/   46 batches | accuracy    0.540\n",
            "-----------------------------------------------------------\n",
            "| End of epoch   2 | Time: 90.38s | Train Accuracy    0.540 | Train Loss    1.295 | Valid Accuracy    0.592 | Valid Loss    1.197 \n",
            "-----------------------------------------------------------\n",
            "| epoch   3 |     5/   46 batches | accuracy    0.607\n",
            "| epoch   3 |    10/   46 batches | accuracy    0.604\n",
            "| epoch   3 |    15/   46 batches | accuracy    0.624\n",
            "| epoch   3 |    20/   46 batches | accuracy    0.625\n",
            "| epoch   3 |    25/   46 batches | accuracy    0.635\n",
            "| epoch   3 |    30/   46 batches | accuracy    0.644\n",
            "| epoch   3 |    35/   46 batches | accuracy    0.646\n",
            "| epoch   3 |    40/   46 batches | accuracy    0.652\n",
            "| epoch   3 |    45/   46 batches | accuracy    0.659\n",
            "-----------------------------------------------------------\n",
            "| End of epoch   3 | Time: 91.90s | Train Accuracy    0.659 | Train Loss    1.134 | Valid Accuracy    0.711 | Valid Loss    1.043 \n",
            "-----------------------------------------------------------\n",
            "| epoch   4 |     5/   46 batches | accuracy    0.698\n",
            "| epoch   4 |    10/   46 batches | accuracy    0.695\n",
            "| epoch   4 |    15/   46 batches | accuracy    0.710\n",
            "| epoch   4 |    20/   46 batches | accuracy    0.714\n",
            "| epoch   4 |    25/   46 batches | accuracy    0.713\n",
            "| epoch   4 |    30/   46 batches | accuracy    0.715\n",
            "| epoch   4 |    35/   46 batches | accuracy    0.714\n",
            "| epoch   4 |    40/   46 batches | accuracy    0.720\n",
            "| epoch   4 |    45/   46 batches | accuracy    0.724\n",
            "-----------------------------------------------------------\n",
            "| End of epoch   4 | Time: 90.94s | Train Accuracy    0.724 | Train Loss    1.006 | Valid Accuracy    0.770 | Valid Loss    0.924 \n",
            "-----------------------------------------------------------\n",
            "| epoch   5 |     5/   46 batches | accuracy    0.750\n",
            "| epoch   5 |    10/   46 batches | accuracy    0.736\n",
            "| epoch   5 |    15/   46 batches | accuracy    0.750\n",
            "| epoch   5 |    20/   46 batches | accuracy    0.746\n",
            "| epoch   5 |    25/   46 batches | accuracy    0.748\n",
            "| epoch   5 |    30/   46 batches | accuracy    0.752\n",
            "| epoch   5 |    35/   46 batches | accuracy    0.756\n",
            "| epoch   5 |    40/   46 batches | accuracy    0.760\n",
            "| epoch   5 |    45/   46 batches | accuracy    0.763\n",
            "-----------------------------------------------------------\n",
            "| End of epoch   5 | Time: 91.16s | Train Accuracy    0.763 | Train Loss    0.910 | Valid Accuracy    0.809 | Valid Loss    0.839 \n",
            "-----------------------------------------------------------\n",
            "| epoch   6 |     5/   46 batches | accuracy    0.773\n",
            "| epoch   6 |    10/   46 batches | accuracy    0.781\n",
            "| epoch   6 |    15/   46 batches | accuracy    0.777\n",
            "| epoch   6 |    20/   46 batches | accuracy    0.780\n",
            "| epoch   6 |    25/   46 batches | accuracy    0.785\n",
            "| epoch   6 |    30/   46 batches | accuracy    0.782\n",
            "| epoch   6 |    35/   46 batches | accuracy    0.779\n",
            "| epoch   6 |    40/   46 batches | accuracy    0.781\n",
            "| epoch   6 |    45/   46 batches | accuracy    0.783\n",
            "-----------------------------------------------------------\n",
            "| End of epoch   6 | Time: 90.22s | Train Accuracy    0.783 | Train Loss    0.836 | Valid Accuracy    0.816 | Valid Loss    0.779 \n",
            "-----------------------------------------------------------\n",
            "| epoch   7 |     5/   46 batches | accuracy    0.786\n",
            "| epoch   7 |    10/   46 batches | accuracy    0.795\n",
            "| epoch   7 |    15/   46 batches | accuracy    0.798\n",
            "| epoch   7 |    20/   46 batches | accuracy    0.805\n",
            "| epoch   7 |    25/   46 batches | accuracy    0.805\n",
            "| epoch   7 |    30/   46 batches | accuracy    0.802\n",
            "| epoch   7 |    35/   46 batches | accuracy    0.808\n",
            "| epoch   7 |    40/   46 batches | accuracy    0.805\n",
            "| epoch   7 |    45/   46 batches | accuracy    0.800\n",
            "-----------------------------------------------------------\n",
            "| End of epoch   7 | Time: 91.74s | Train Accuracy    0.800 | Train Loss    0.772 | Valid Accuracy    0.828 | Valid Loss    0.713 \n",
            "-----------------------------------------------------------\n",
            "| epoch   8 |     5/   46 batches | accuracy    0.799\n",
            "| epoch   8 |    10/   46 batches | accuracy    0.810\n",
            "| epoch   8 |    15/   46 batches | accuracy    0.814\n",
            "| epoch   8 |    20/   46 batches | accuracy    0.810\n",
            "| epoch   8 |    25/   46 batches | accuracy    0.809\n",
            "| epoch   8 |    30/   46 batches | accuracy    0.809\n",
            "| epoch   8 |    35/   46 batches | accuracy    0.812\n",
            "| epoch   8 |    40/   46 batches | accuracy    0.811\n",
            "| epoch   8 |    45/   46 batches | accuracy    0.812\n",
            "-----------------------------------------------------------\n",
            "| End of epoch   8 | Time: 94.01s | Train Accuracy    0.812 | Train Loss    0.729 | Valid Accuracy    0.856 | Valid Loss    0.669 \n",
            "-----------------------------------------------------------\n",
            "| epoch   9 |     5/   46 batches | accuracy    0.839\n",
            "| epoch   9 |    10/   46 batches | accuracy    0.827\n",
            "| epoch   9 |    15/   46 batches | accuracy    0.829\n",
            "| epoch   9 |    20/   46 batches | accuracy    0.818\n",
            "| epoch   9 |    25/   46 batches | accuracy    0.813\n",
            "| epoch   9 |    30/   46 batches | accuracy    0.816\n",
            "| epoch   9 |    35/   46 batches | accuracy    0.815\n",
            "| epoch   9 |    40/   46 batches | accuracy    0.819\n",
            "| epoch   9 |    45/   46 batches | accuracy    0.818\n",
            "-----------------------------------------------------------\n",
            "| End of epoch   9 | Time: 91.47s | Train Accuracy    0.818 | Train Loss    0.684 | Valid Accuracy    0.857 | Valid Loss    0.625 \n",
            "-----------------------------------------------------------\n",
            "| epoch  10 |     5/   46 batches | accuracy    0.818\n",
            "| epoch  10 |    10/   46 batches | accuracy    0.814\n",
            "| epoch  10 |    15/   46 batches | accuracy    0.820\n",
            "| epoch  10 |    20/   46 batches | accuracy    0.822\n",
            "| epoch  10 |    25/   46 batches | accuracy    0.819\n",
            "| epoch  10 |    30/   46 batches | accuracy    0.829\n",
            "| epoch  10 |    35/   46 batches | accuracy    0.829\n",
            "| epoch  10 |    40/   46 batches | accuracy    0.831\n",
            "| epoch  10 |    45/   46 batches | accuracy    0.830\n",
            "-----------------------------------------------------------\n",
            "| End of epoch  10 | Time: 90.68s | Train Accuracy    0.830 | Train Loss    0.648 | Valid Accuracy    0.856 | Valid Loss    0.596 \n",
            "-----------------------------------------------------------\n",
            "| epoch  11 |     5/   46 batches | accuracy    0.799\n",
            "| epoch  11 |    10/   46 batches | accuracy    0.835\n",
            "| epoch  11 |    15/   46 batches | accuracy    0.844\n",
            "| epoch  11 |    20/   46 batches | accuracy    0.841\n",
            "| epoch  11 |    25/   46 batches | accuracy    0.846\n",
            "| epoch  11 |    30/   46 batches | accuracy    0.840\n",
            "| epoch  11 |    35/   46 batches | accuracy    0.842\n",
            "| epoch  11 |    40/   46 batches | accuracy    0.842\n",
            "| epoch  11 |    45/   46 batches | accuracy    0.842\n",
            "-----------------------------------------------------------\n",
            "| End of epoch  11 | Time: 93.87s | Train Accuracy    0.842 | Train Loss    0.614 | Valid Accuracy    0.873 | Valid Loss    0.569 \n",
            "-----------------------------------------------------------\n",
            "| epoch  12 |     5/   46 batches | accuracy    0.831\n",
            "| epoch  12 |    10/   46 batches | accuracy    0.838\n",
            "| epoch  12 |    15/   46 batches | accuracy    0.837\n",
            "| epoch  12 |    20/   46 batches | accuracy    0.839\n",
            "| epoch  12 |    25/   46 batches | accuracy    0.832\n",
            "| epoch  12 |    30/   46 batches | accuracy    0.828\n",
            "| epoch  12 |    35/   46 batches | accuracy    0.834\n",
            "| epoch  12 |    40/   46 batches | accuracy    0.838\n",
            "| epoch  12 |    45/   46 batches | accuracy    0.841\n",
            "-----------------------------------------------------------\n",
            "| End of epoch  12 | Time: 92.23s | Train Accuracy    0.841 | Train Loss    0.593 | Valid Accuracy    0.862 | Valid Loss    0.545 \n",
            "-----------------------------------------------------------\n",
            "| epoch  13 |     5/   46 batches | accuracy    0.823\n",
            "| epoch  13 |    10/   46 batches | accuracy    0.841\n",
            "| epoch  13 |    15/   46 batches | accuracy    0.850\n",
            "| epoch  13 |    20/   46 batches | accuracy    0.844\n",
            "| epoch  13 |    25/   46 batches | accuracy    0.849\n",
            "| epoch  13 |    30/   46 batches | accuracy    0.849\n",
            "| epoch  13 |    35/   46 batches | accuracy    0.848\n",
            "| epoch  13 |    40/   46 batches | accuracy    0.845\n",
            "| epoch  13 |    45/   46 batches | accuracy    0.847\n",
            "-----------------------------------------------------------\n",
            "| End of epoch  13 | Time: 92.18s | Train Accuracy    0.847 | Train Loss    0.569 | Valid Accuracy    0.875 | Valid Loss    0.526 \n",
            "-----------------------------------------------------------\n",
            "| epoch  14 |     5/   46 batches | accuracy    0.844\n",
            "| epoch  14 |    10/   46 batches | accuracy    0.862\n",
            "| epoch  14 |    15/   46 batches | accuracy    0.853\n",
            "| epoch  14 |    20/   46 batches | accuracy    0.850\n",
            "| epoch  14 |    25/   46 batches | accuracy    0.848\n",
            "| epoch  14 |    30/   46 batches | accuracy    0.846\n",
            "| epoch  14 |    35/   46 batches | accuracy    0.845\n",
            "| epoch  14 |    40/   46 batches | accuracy    0.847\n",
            "| epoch  14 |    45/   46 batches | accuracy    0.850\n",
            "-----------------------------------------------------------\n",
            "| End of epoch  14 | Time: 92.03s | Train Accuracy    0.850 | Train Loss    0.546 | Valid Accuracy    0.877 | Valid Loss    0.509 \n",
            "-----------------------------------------------------------\n",
            "| epoch  15 |     5/   46 batches | accuracy    0.836\n",
            "| epoch  15 |    10/   46 batches | accuracy    0.841\n",
            "| epoch  15 |    15/   46 batches | accuracy    0.848\n",
            "| epoch  15 |    20/   46 batches | accuracy    0.856\n",
            "| epoch  15 |    25/   46 batches | accuracy    0.861\n",
            "| epoch  15 |    30/   46 batches | accuracy    0.861\n",
            "| epoch  15 |    35/   46 batches | accuracy    0.859\n",
            "| epoch  15 |    40/   46 batches | accuracy    0.857\n",
            "| epoch  15 |    45/   46 batches | accuracy    0.855\n",
            "-----------------------------------------------------------\n",
            "| End of epoch  15 | Time: 95.42s | Train Accuracy    0.855 | Train Loss    0.531 | Valid Accuracy    0.869 | Valid Loss    0.491 \n",
            "-----------------------------------------------------------\n",
            "| epoch  16 |     5/   46 batches | accuracy    0.857\n",
            "| epoch  16 |    10/   46 batches | accuracy    0.831\n",
            "| epoch  16 |    15/   46 batches | accuracy    0.843\n",
            "| epoch  16 |    20/   46 batches | accuracy    0.849\n",
            "| epoch  16 |    25/   46 batches | accuracy    0.847\n",
            "| epoch  16 |    30/   46 batches | accuracy    0.847\n",
            "| epoch  16 |    35/   46 batches | accuracy    0.847\n",
            "| epoch  16 |    40/   46 batches | accuracy    0.851\n",
            "| epoch  16 |    45/   46 batches | accuracy    0.851\n",
            "-----------------------------------------------------------\n",
            "| End of epoch  16 | Time: 92.36s | Train Accuracy    0.851 | Train Loss    0.518 | Valid Accuracy    0.875 | Valid Loss    0.481 \n",
            "-----------------------------------------------------------\n",
            "| epoch  17 |     5/   46 batches | accuracy    0.859\n",
            "| epoch  17 |    10/   46 batches | accuracy    0.862\n",
            "| epoch  17 |    15/   46 batches | accuracy    0.864\n",
            "| epoch  17 |    20/   46 batches | accuracy    0.870\n",
            "| epoch  17 |    25/   46 batches | accuracy    0.868\n",
            "| epoch  17 |    30/   46 batches | accuracy    0.871\n",
            "| epoch  17 |    35/   46 batches | accuracy    0.868\n",
            "| epoch  17 |    40/   46 batches | accuracy    0.869\n",
            "| epoch  17 |    45/   46 batches | accuracy    0.866\n",
            "-----------------------------------------------------------\n",
            "| End of epoch  17 | Time: 92.86s | Train Accuracy    0.866 | Train Loss    0.499 | Valid Accuracy    0.880 | Valid Loss    0.467 \n",
            "-----------------------------------------------------------\n",
            "| epoch  18 |     5/   46 batches | accuracy    0.872\n",
            "| epoch  18 |    10/   46 batches | accuracy    0.878\n",
            "| epoch  18 |    15/   46 batches | accuracy    0.874\n",
            "| epoch  18 |    20/   46 batches | accuracy    0.862\n",
            "| epoch  18 |    25/   46 batches | accuracy    0.863\n",
            "| epoch  18 |    30/   46 batches | accuracy    0.860\n",
            "| epoch  18 |    35/   46 batches | accuracy    0.860\n",
            "| epoch  18 |    40/   46 batches | accuracy    0.863\n",
            "| epoch  18 |    45/   46 batches | accuracy    0.861\n",
            "-----------------------------------------------------------\n",
            "| End of epoch  18 | Time: 91.96s | Train Accuracy    0.861 | Train Loss    0.481 | Valid Accuracy    0.883 | Valid Loss    0.453 \n",
            "-----------------------------------------------------------\n",
            "| epoch  19 |     5/   46 batches | accuracy    0.852\n",
            "| epoch  19 |    10/   46 batches | accuracy    0.858\n",
            "| epoch  19 |    15/   46 batches | accuracy    0.860\n",
            "| epoch  19 |    20/   46 batches | accuracy    0.859\n",
            "| epoch  19 |    25/   46 batches | accuracy    0.855\n",
            "| epoch  19 |    30/   46 batches | accuracy    0.854\n",
            "| epoch  19 |    35/   46 batches | accuracy    0.858\n",
            "| epoch  19 |    40/   46 batches | accuracy    0.860\n",
            "| epoch  19 |    45/   46 batches | accuracy    0.864\n",
            "-----------------------------------------------------------\n",
            "| End of epoch  19 | Time: 91.14s | Train Accuracy    0.864 | Train Loss    0.475 | Valid Accuracy    0.882 | Valid Loss    0.443 \n",
            "-----------------------------------------------------------\n",
            "| epoch  20 |     5/   46 batches | accuracy    0.875\n",
            "| epoch  20 |    10/   46 batches | accuracy    0.876\n",
            "| epoch  20 |    15/   46 batches | accuracy    0.868\n",
            "| epoch  20 |    20/   46 batches | accuracy    0.870\n",
            "| epoch  20 |    25/   46 batches | accuracy    0.868\n",
            "| epoch  20 |    30/   46 batches | accuracy    0.863\n",
            "| epoch  20 |    35/   46 batches | accuracy    0.867\n",
            "| epoch  20 |    40/   46 batches | accuracy    0.865\n",
            "| epoch  20 |    45/   46 batches | accuracy    0.870\n",
            "-----------------------------------------------------------\n",
            "| End of epoch  20 | Time: 91.53s | Train Accuracy    0.870 | Train Loss    0.461 | Valid Accuracy    0.875 | Valid Loss    0.437 \n",
            "-----------------------------------------------------------\n",
            "| epoch  21 |     5/   46 batches | accuracy    0.883\n",
            "| epoch  21 |    10/   46 batches | accuracy    0.874\n",
            "| epoch  21 |    15/   46 batches | accuracy    0.872\n",
            "| epoch  21 |    20/   46 batches | accuracy    0.874\n",
            "| epoch  21 |    25/   46 batches | accuracy    0.870\n",
            "| epoch  21 |    30/   46 batches | accuracy    0.871\n",
            "| epoch  21 |    35/   46 batches | accuracy    0.875\n",
            "| epoch  21 |    40/   46 batches | accuracy    0.873\n",
            "| epoch  21 |    45/   46 batches | accuracy    0.873\n",
            "-----------------------------------------------------------\n",
            "| End of epoch  21 | Time: 92.31s | Train Accuracy    0.873 | Train Loss    0.452 | Valid Accuracy    0.883 | Valid Loss    0.427 \n",
            "-----------------------------------------------------------\n",
            "| epoch  22 |     5/   46 batches | accuracy    0.846\n",
            "| epoch  22 |    10/   46 batches | accuracy    0.862\n",
            "| epoch  22 |    15/   46 batches | accuracy    0.874\n",
            "| epoch  22 |    20/   46 batches | accuracy    0.863\n"
          ]
        },
        {
          "ename": "KeyboardInterrupt",
          "evalue": "",
          "output_type": "error",
          "traceback": [
            "\u001b[0;31m---------------------------------------------------------------------------\u001b[0m",
            "\u001b[0;31mKeyboardInterrupt\u001b[0m                         Traceback (most recent call last)",
            "\u001b[1;32m/media/huydn/DATA/Learn/Practice_AI/deep_learning/6_pretrained_models_for_image/flower_classification_using_pretrained_model.ipynb Cell 53\u001b[0m line \u001b[0;36m2\n\u001b[1;32m     <a href='vscode-notebook-cell:/media/huydn/DATA/Learn/Practice_AI/deep_learning/6_pretrained_models_for_image/flower_classification_using_pretrained_model.ipynb#Y112sZmlsZQ%3D%3D?line=18'>19</a>\u001b[0m os\u001b[39m.\u001b[39mmakedirs(save_model, exist_ok \u001b[39m=\u001b[39m \u001b[39mTrue\u001b[39;00m)\n\u001b[1;32m     <a href='vscode-notebook-cell:/media/huydn/DATA/Learn/Practice_AI/deep_learning/6_pretrained_models_for_image/flower_classification_using_pretrained_model.ipynb#Y112sZmlsZQ%3D%3D?line=19'>20</a>\u001b[0m model_name \u001b[39m=\u001b[39m \u001b[39m'\u001b[39m\u001b[39mtransfer_model\u001b[39m\u001b[39m'\u001b[39m\n\u001b[0;32m---> <a href='vscode-notebook-cell:/media/huydn/DATA/Learn/Practice_AI/deep_learning/6_pretrained_models_for_image/flower_classification_using_pretrained_model.ipynb#Y112sZmlsZQ%3D%3D?line=21'>22</a>\u001b[0m transfer_model, transfer_metrics \u001b[39m=\u001b[39m train(\n\u001b[1;32m     <a href='vscode-notebook-cell:/media/huydn/DATA/Learn/Practice_AI/deep_learning/6_pretrained_models_for_image/flower_classification_using_pretrained_model.ipynb#Y112sZmlsZQ%3D%3D?line=22'>23</a>\u001b[0m     transfer_model, model_name, save_model, optimizer, criterion, train_dataloader, valid_dataloader, num_epochs, device\n\u001b[1;32m     <a href='vscode-notebook-cell:/media/huydn/DATA/Learn/Practice_AI/deep_learning/6_pretrained_models_for_image/flower_classification_using_pretrained_model.ipynb#Y112sZmlsZQ%3D%3D?line=23'>24</a>\u001b[0m )\n",
            "\u001b[1;32m/media/huydn/DATA/Learn/Practice_AI/deep_learning/6_pretrained_models_for_image/flower_classification_using_pretrained_model.ipynb Cell 53\u001b[0m line \u001b[0;36m9\n\u001b[1;32m      <a href='vscode-notebook-cell:/media/huydn/DATA/Learn/Practice_AI/deep_learning/6_pretrained_models_for_image/flower_classification_using_pretrained_model.ipynb#Y112sZmlsZQ%3D%3D?line=6'>7</a>\u001b[0m epoch_start_time \u001b[39m=\u001b[39m time\u001b[39m.\u001b[39mtime()\n\u001b[1;32m      <a href='vscode-notebook-cell:/media/huydn/DATA/Learn/Practice_AI/deep_learning/6_pretrained_models_for_image/flower_classification_using_pretrained_model.ipynb#Y112sZmlsZQ%3D%3D?line=7'>8</a>\u001b[0m \u001b[39m# Training\u001b[39;00m\n\u001b[0;32m----> <a href='vscode-notebook-cell:/media/huydn/DATA/Learn/Practice_AI/deep_learning/6_pretrained_models_for_image/flower_classification_using_pretrained_model.ipynb#Y112sZmlsZQ%3D%3D?line=8'>9</a>\u001b[0m train_acc, train_loss \u001b[39m=\u001b[39m train_epoch(model, optimizer, criterion, train_dataloader, device, epoch)\n\u001b[1;32m     <a href='vscode-notebook-cell:/media/huydn/DATA/Learn/Practice_AI/deep_learning/6_pretrained_models_for_image/flower_classification_using_pretrained_model.ipynb#Y112sZmlsZQ%3D%3D?line=9'>10</a>\u001b[0m train_accs\u001b[39m.\u001b[39mappend(train_acc)\n\u001b[1;32m     <a href='vscode-notebook-cell:/media/huydn/DATA/Learn/Practice_AI/deep_learning/6_pretrained_models_for_image/flower_classification_using_pretrained_model.ipynb#Y112sZmlsZQ%3D%3D?line=10'>11</a>\u001b[0m train_losses\u001b[39m.\u001b[39mappend(train_loss)\n",
            "\u001b[1;32m/media/huydn/DATA/Learn/Practice_AI/deep_learning/6_pretrained_models_for_image/flower_classification_using_pretrained_model.ipynb Cell 53\u001b[0m line \u001b[0;36m1\n\u001b[1;32m     <a href='vscode-notebook-cell:/media/huydn/DATA/Learn/Practice_AI/deep_learning/6_pretrained_models_for_image/flower_classification_using_pretrained_model.ipynb#Y112sZmlsZQ%3D%3D?line=13'>14</a>\u001b[0m \u001b[39m# compute loss\u001b[39;00m\n\u001b[1;32m     <a href='vscode-notebook-cell:/media/huydn/DATA/Learn/Practice_AI/deep_learning/6_pretrained_models_for_image/flower_classification_using_pretrained_model.ipynb#Y112sZmlsZQ%3D%3D?line=14'>15</a>\u001b[0m loss \u001b[39m=\u001b[39m criterion(predictions, labels)\n\u001b[0;32m---> <a href='vscode-notebook-cell:/media/huydn/DATA/Learn/Practice_AI/deep_learning/6_pretrained_models_for_image/flower_classification_using_pretrained_model.ipynb#Y112sZmlsZQ%3D%3D?line=15'>16</a>\u001b[0m losses\u001b[39m.\u001b[39mappend(loss\u001b[39m.\u001b[39;49mitem())\n\u001b[1;32m     <a href='vscode-notebook-cell:/media/huydn/DATA/Learn/Practice_AI/deep_learning/6_pretrained_models_for_image/flower_classification_using_pretrained_model.ipynb#Y112sZmlsZQ%3D%3D?line=17'>18</a>\u001b[0m \u001b[39m# backward\u001b[39;00m\n\u001b[1;32m     <a href='vscode-notebook-cell:/media/huydn/DATA/Learn/Practice_AI/deep_learning/6_pretrained_models_for_image/flower_classification_using_pretrained_model.ipynb#Y112sZmlsZQ%3D%3D?line=18'>19</a>\u001b[0m loss\u001b[39m.\u001b[39mbackward()\n",
            "\u001b[0;31mKeyboardInterrupt\u001b[0m: "
          ]
        }
      ],
      "source": [
        "transfer_model = models.resnet18(\n",
        "    weights=models.ResNet18_Weights.IMAGENET1K_V1\n",
        ")\n",
        "# freeze FE\n",
        "for param in transfer_model.parameters():\n",
        "   param.requires_grad = False\n",
        "\n",
        "in_features = transfer_model.fc.in_features\n",
        "transfer_model.fc = nn.Linear(in_features, num_classes)\n",
        "\n",
        "device = torch.device('cuda' if torch.cuda.is_available() else 'cpu')\n",
        "transfer_model.to(device)\n",
        "\n",
        "criterion = torch.nn.CrossEntropyLoss()\n",
        "optimizer = optim.Adam(transfer_model.parameters(), lr=0.0001)\n",
        "\n",
        "num_epochs = 50\n",
        "save_model = 'model'\n",
        "os.makedirs(save_model, exist_ok = True)\n",
        "model_name = 'transfer_model'\n",
        "\n",
        "transfer_model, transfer_metrics = train(\n",
        "    transfer_model, model_name, save_model, optimizer, criterion, train_dataloader, valid_dataloader, num_epochs, device\n",
        ")"
      ]
    },
    {
      "cell_type": "code",
      "execution_count": null,
      "metadata": {
        "colab": {
          "base_uri": "https://localhost:8080/"
        },
        "id": "TqhT-xZ25v-0",
        "outputId": "691f38aa-9a6f-4e07-a542-393a936bb7db"
      },
      "outputs": [],
      "source": [
        "test_acc, test_loss = evaluate_epoch(transfer_model, criterion, test_dataloader)\n",
        "test_acc, test_loss"
      ]
    },
    {
      "cell_type": "code",
      "execution_count": null,
      "metadata": {
        "colab": {
          "base_uri": "https://localhost:8080/",
          "height": 545
        },
        "id": "LItvSEP45zGX",
        "outputId": "28bc1527-7253-46be-d914-d551afaf4383"
      },
      "outputs": [],
      "source": [
        "plot_result(\n",
        "    num_epochs,\n",
        "    transfer_metrics[\"train_accuracy\"],\n",
        "    transfer_metrics[\"valid_accuracy\"],\n",
        "    transfer_metrics[\"train_loss\"],\n",
        "    transfer_metrics[\"valid_loss\"]\n",
        ")"
      ]
    },
    {
      "cell_type": "markdown",
      "metadata": {
        "id": "YBBaFdjf4_dZ"
      },
      "source": [
        "###**4.3. Fine-Tuning**"
      ]
    },
    {
      "cell_type": "code",
      "execution_count": null,
      "metadata": {
        "colab": {
          "base_uri": "https://localhost:8080/"
        },
        "id": "Lb46HLR45Ff5",
        "outputId": "ec0cca01-2ac8-46b1-e30d-225feb0fb987"
      },
      "outputs": [],
      "source": [
        "model = models.resnet18(weights=models.ResNet18_Weights.IMAGENET1K_V1)"
      ]
    },
    {
      "cell_type": "code",
      "execution_count": null,
      "metadata": {
        "colab": {
          "base_uri": "https://localhost:8080/"
        },
        "id": "kQUYQMM7-pm4",
        "outputId": "bb884201-94bc-41db-a6c1-5364bae6293b"
      },
      "outputs": [],
      "source": [
        "model"
      ]
    },
    {
      "cell_type": "code",
      "execution_count": null,
      "metadata": {
        "id": "VeAgVXsN9aXX"
      },
      "outputs": [],
      "source": [
        "# freeze the first 50 layers\n",
        "num_layers = 50\n",
        "for index, param in enumerate(model.parameters()):\n",
        "    if index < num_layers:\n",
        "        param.requires_grad = False"
      ]
    },
    {
      "cell_type": "code",
      "execution_count": null,
      "metadata": {
        "id": "Fd2fbr6cnv5y"
      },
      "outputs": [],
      "source": [
        "in_features = model.fc.in_features\n",
        "model.fc = nn.Linear(in_features, num_classes)"
      ]
    },
    {
      "cell_type": "code",
      "execution_count": null,
      "metadata": {
        "colab": {
          "base_uri": "https://localhost:8080/"
        },
        "id": "xTytQmmz_P6f",
        "outputId": "962fb16b-af78-4d40-d5a7-755811bceeb9"
      },
      "outputs": [],
      "source": [
        "model.to(device)"
      ]
    },
    {
      "cell_type": "code",
      "execution_count": null,
      "metadata": {
        "id": "Y8GvykIEn48Y"
      },
      "outputs": [],
      "source": [
        "device = torch.device('cuda' if torch.cuda.is_available() else 'cpu')"
      ]
    },
    {
      "cell_type": "code",
      "execution_count": null,
      "metadata": {
        "colab": {
          "base_uri": "https://localhost:8080/"
        },
        "id": "ENycynLnn5hk",
        "outputId": "e355daa3-861a-4a57-8d70-cf1ca0ba13f4"
      },
      "outputs": [],
      "source": [
        "model.to(device)"
      ]
    },
    {
      "cell_type": "code",
      "execution_count": null,
      "metadata": {
        "colab": {
          "base_uri": "https://localhost:8080/"
        },
        "id": "up-SpW2R_SLc",
        "outputId": "028a9b8e-0d53-4ec2-86c1-55e2afda95a5"
      },
      "outputs": [],
      "source": [
        "summary(model, (3, 224, 224))"
      ]
    },
    {
      "cell_type": "code",
      "execution_count": null,
      "metadata": {
        "colab": {
          "base_uri": "https://localhost:8080/"
        },
        "id": "zGuvvqBD_lC1",
        "outputId": "d656dee4-e9b4-4647-a823-7d8539c11f23"
      },
      "outputs": [],
      "source": [
        "fine_tuning_model = models.resnet18(\n",
        "    weights=models.ResNet18_Weights.IMAGENET1K_V1\n",
        ")\n",
        "\n",
        "# freeze the first 50 layers\n",
        "num_layers = 50\n",
        "for index, param in enumerate(fine_tuning_model.parameters()):\n",
        "    if index < num_layers:\n",
        "        param.requires_grad = False\n",
        "\n",
        "in_features = fine_tuning_model.fc.in_features\n",
        "fine_tuning_model.fc = nn.Linear(in_features, num_classes)\n",
        "\n",
        "device = torch.device('cuda' if torch.cuda.is_available() else 'cpu')\n",
        "fine_tuning_model.to(device)\n",
        "\n",
        "criterion = torch.nn.CrossEntropyLoss()\n",
        "optimizer = optim.Adam(fine_tuning_model.parameters(), lr=0.0001)\n",
        "\n",
        "num_epochs = 50\n",
        "save_model = 'model'\n",
        "os.makedirs(save_model, exist_ok = True)\n",
        "model_name = 'fine_tuning_model'\n",
        "\n",
        "fine_tuning_model, fine_tuning_metrics = train(\n",
        "    fine_tuning_model, model_name, save_model, optimizer, criterion, train_dataloader, valid_dataloader, num_epochs, device\n",
        ")"
      ]
    },
    {
      "cell_type": "code",
      "execution_count": null,
      "metadata": {
        "colab": {
          "base_uri": "https://localhost:8080/"
        },
        "id": "v9Lduk5vEAvV",
        "outputId": "173bd3da-0a65-49e0-cece-6ec8d6a27b53"
      },
      "outputs": [],
      "source": [
        "test_acc, test_loss = evaluate_epoch(fine_tuning_model, criterion, test_dataloader)\n",
        "test_acc, test_loss"
      ]
    },
    {
      "cell_type": "code",
      "execution_count": null,
      "metadata": {
        "colab": {
          "base_uri": "https://localhost:8080/",
          "height": 542
        },
        "id": "Jd-ZqPzCEFJT",
        "outputId": "912f8396-e2cf-4b4d-8443-d677db11f61d"
      },
      "outputs": [],
      "source": [
        "plot_result(\n",
        "    num_epochs,\n",
        "    fine_tuning_metrics[\"train_accuracy\"],\n",
        "    fine_tuning_metrics[\"valid_accuracy\"],\n",
        "    fine_tuning_metrics[\"train_loss\"],\n",
        "    fine_tuning_metrics[\"valid_loss\"]\n",
        ")"
      ]
    },
    {
      "cell_type": "markdown",
      "metadata": {
        "id": "npiqGSQ_8dhA"
      },
      "source": [
        "###**4.4. Fine-Tuning (Initilization)**"
      ]
    },
    {
      "cell_type": "code",
      "execution_count": null,
      "metadata": {
        "id": "8a2vmUELKPvJ"
      },
      "outputs": [],
      "source": [
        "model = models.resnet18(weights=models.ResNet18_Weights.IMAGENET1K_V1)"
      ]
    },
    {
      "cell_type": "code",
      "execution_count": null,
      "metadata": {
        "id": "IQ2spOIpoxT7"
      },
      "outputs": [],
      "source": [
        "in_features = model.fc.in_features\n",
        "model.fc = nn.Linear(in_features, num_classes)"
      ]
    },
    {
      "cell_type": "code",
      "execution_count": null,
      "metadata": {
        "colab": {
          "base_uri": "https://localhost:8080/"
        },
        "id": "DqbiEV0NKSox",
        "outputId": "5cc7d647-01af-43f2-ca35-a63de4ec1988"
      },
      "outputs": [],
      "source": [
        "model.to(device)"
      ]
    },
    {
      "cell_type": "code",
      "execution_count": null,
      "metadata": {
        "colab": {
          "base_uri": "https://localhost:8080/"
        },
        "id": "txHuQnaCKVVF",
        "outputId": "27a025de-0da3-455c-eae8-863cc05b3d4e"
      },
      "outputs": [],
      "source": [
        "summary(model, (3, 224, 224))"
      ]
    },
    {
      "cell_type": "code",
      "execution_count": null,
      "metadata": {
        "colab": {
          "base_uri": "https://localhost:8080/"
        },
        "id": "ljT0xGr_Es1d",
        "outputId": "56788fe9-3fd1-4085-880b-c1d1c6ffc465"
      },
      "outputs": [],
      "source": [
        "initilization_model = models.resnet18(\n",
        "    weights=models.ResNet18_Weights.IMAGENET1K_V1\n",
        "    )\n",
        "\n",
        "in_features = initilization_model.fc.in_features\n",
        "initilization_model.fc = nn.Linear(in_features, num_classes)\n",
        "\n",
        "device = torch.device('cuda' if torch.cuda.is_available() else 'cpu')\n",
        "initilization_model.to(device)\n",
        "\n",
        "criterion = torch.nn.CrossEntropyLoss()\n",
        "optimizer = optim.Adam(initilization_model.parameters(), lr=0.0001)\n",
        "\n",
        "num_epochs = 50\n",
        "save_model = 'model'\n",
        "os.makedirs(save_model, exist_ok = True)\n",
        "model_name = 'initilization_model'\n",
        "\n",
        "initilization_model, initilization_metrics = train(\n",
        "    initilization_model, model_name, save_model, optimizer, criterion, train_dataloader, valid_dataloader, num_epochs, device\n",
        ")"
      ]
    },
    {
      "cell_type": "code",
      "execution_count": null,
      "metadata": {
        "colab": {
          "base_uri": "https://localhost:8080/"
        },
        "id": "JpT4cIQTGvs4",
        "outputId": "4bec5ecd-51d7-4b05-ebb9-89629ee7eacb"
      },
      "outputs": [],
      "source": [
        "test_acc, test_loss = evaluate_epoch(initilization_model, criterion, test_dataloader)\n",
        "test_acc, test_loss"
      ]
    },
    {
      "cell_type": "code",
      "execution_count": null,
      "metadata": {
        "colab": {
          "base_uri": "https://localhost:8080/",
          "height": 542
        },
        "id": "IjJmL9WDG0mU",
        "outputId": "8a98247c-a840-4bdd-b227-e939fbbcdeec"
      },
      "outputs": [],
      "source": [
        "plot_result(\n",
        "    num_epochs,\n",
        "    initilization_metrics[\"train_accuracy\"],\n",
        "    initilization_metrics[\"valid_accuracy\"],\n",
        "    initilization_metrics[\"train_loss\"],\n",
        "    initilization_metrics[\"valid_loss\"]\n",
        ")"
      ]
    },
    {
      "cell_type": "markdown",
      "metadata": {
        "id": "0yVInf0s8mrf"
      },
      "source": [
        "##**5. Comparing**"
      ]
    },
    {
      "cell_type": "code",
      "execution_count": null,
      "metadata": {
        "colab": {
          "base_uri": "https://localhost:8080/",
          "height": 559
        },
        "id": "wYs9j5w18qmT",
        "outputId": "527b28bd-908a-48b1-ddf2-c2be0b8439c5"
      },
      "outputs": [],
      "source": [
        "epochs = list(range(num_epochs))\n",
        "fig, axs = plt.subplots(nrows = 1, ncols =2 , figsize = (12,6))\n",
        "\n",
        "metrics = [base_metrics, transfer_metrics, fine_tuning_metrics, initilization_metrics]\n",
        "lables_plt = [\"base\", \"transfer_learning\", \"fine_tuning\", \"initilization\"]\n",
        "\n",
        "for idx, metric in enumerate(metrics):\n",
        "    axs[0].plot(epochs, metric['valid_loss'], label=lables_plt[idx])\n",
        "    axs[1].plot(epochs, metric['valid_accuracy'], label=lables_plt[idx])\n",
        "axs[0].set_xlabel(\"Epoch\")\n",
        "axs[1].set_xlabel(\"Epoch\")\n",
        "axs[0].set_ylabel(\"Evaluation Loss\")\n",
        "axs[1].set_ylabel(\"Evaluation Accuracy\")\n",
        "plt.legend()"
      ]
    },
    {
      "cell_type": "code",
      "execution_count": null,
      "metadata": {
        "colab": {
          "base_uri": "https://localhost:8080/",
          "height": 559
        },
        "id": "GKIqz56fJyGn",
        "outputId": "5b588bc6-8fbd-474a-e97c-0e73a6ad4d48"
      },
      "outputs": [],
      "source": [
        "epochs = list(range(num_epochs))\n",
        "fig, axs = plt.subplots(nrows = 1, ncols =2 , figsize = (12,6))\n",
        "\n",
        "metrics = [base_metrics, transfer_metrics, fine_tuning_metrics, initilization_metrics]\n",
        "lables_plt = [\"base\", \"transfer_learning\", \"fine_tuning\", \"initilization\"]\n",
        "\n",
        "for idx, metric in enumerate(metrics):\n",
        "    axs[0].plot(epochs, metric['train_loss'], label=lables_plt[idx])\n",
        "    axs[1].plot(epochs, metric['train_accuracy'], label=lables_plt[idx])\n",
        "axs[0].set_xlabel(\"Epoch\")\n",
        "axs[1].set_xlabel(\"Epoch\")\n",
        "axs[0].set_ylabel(\"Training Loss\")\n",
        "axs[1].set_ylabel(\"Training Accuracy\")\n",
        "plt.legend()"
      ]
    }
  ],
  "metadata": {
    "accelerator": "GPU",
    "colab": {
      "gpuType": "V100",
      "provenance": [],
      "toc_visible": true
    },
    "kernelspec": {
      "display_name": "Python 3",
      "name": "python3"
    },
    "language_info": {
      "codemirror_mode": {
        "name": "ipython",
        "version": 3
      },
      "file_extension": ".py",
      "mimetype": "text/x-python",
      "name": "python",
      "nbconvert_exporter": "python",
      "pygments_lexer": "ipython3",
      "version": "3.11.5"
    }
  },
  "nbformat": 4,
  "nbformat_minor": 0
}
