{
 "cells": [
  {
   "cell_type": "code",
   "execution_count": 7,
   "metadata": {},
   "outputs": [],
   "source": [
    "#!pip install nltk\n",
    "#!pip install datasets"
   ]
  },
  {
   "cell_type": "code",
   "execution_count": 9,
   "metadata": {
    "id": "bKrxaqO_mtqp"
   },
   "outputs": [
    {
     "name": "stderr",
     "output_type": "stream",
     "text": [
      "[nltk_data] Downloading package punkt to C:\\Users\\Dinh\n",
      "[nltk_data]     Vinh\\AppData\\Roaming\\nltk_data...\n",
      "[nltk_data]   Package punkt is already up-to-date!\n"
     ]
    },
    {
     "data": {
      "text/plain": [
       "True"
      ]
     },
     "execution_count": 9,
     "metadata": {},
     "output_type": "execute_result"
    }
   ],
   "source": [
    "import torch\n",
    "import torch.nn as nn\n",
    "import torch.nn.functional as F\n",
    "\n",
    "nltk.download('punkt')"
   ]
  },
  {
   "cell_type": "markdown",
   "metadata": {},
   "source": [
    "# 1. Data preparation"
   ]
  },
  {
   "cell_type": "code",
   "execution_count": 10,
   "metadata": {
    "scrolled": true
   },
   "outputs": [
    {
     "data": {
      "application/vnd.jupyter.widget-view+json": {
       "model_id": "97f4a3d56f6145979d83fe3eea04e97a",
       "version_major": 2,
       "version_minor": 0
      },
      "text/plain": [
       "Downloading builder script:   0%|          | 0.00/4.31k [00:00<?, ?B/s]"
      ]
     },
     "metadata": {},
     "output_type": "display_data"
    },
    {
     "data": {
      "application/vnd.jupyter.widget-view+json": {
       "model_id": "7aad6d791d17480dbc19f36b6cd344b9",
       "version_major": 2,
       "version_minor": 0
      },
      "text/plain": [
       "Downloading metadata:   0%|          | 0.00/2.17k [00:00<?, ?B/s]"
      ]
     },
     "metadata": {},
     "output_type": "display_data"
    },
    {
     "data": {
      "application/vnd.jupyter.widget-view+json": {
       "model_id": "5862dcf32ae544f7be8f8d8acd9d935f",
       "version_major": 2,
       "version_minor": 0
      },
      "text/plain": [
       "Downloading readme:   0%|          | 0.00/7.59k [00:00<?, ?B/s]"
      ]
     },
     "metadata": {},
     "output_type": "display_data"
    },
    {
     "data": {
      "application/vnd.jupyter.widget-view+json": {
       "model_id": "3cdb42e1ec144106a13778de5b138a4f",
       "version_major": 2,
       "version_minor": 0
      },
      "text/plain": [
       "Downloading data:   0%|          | 0.00/84.1M [00:00<?, ?B/s]"
      ]
     },
     "metadata": {},
     "output_type": "display_data"
    },
    {
     "data": {
      "application/vnd.jupyter.widget-view+json": {
       "model_id": "1a277047af354d66b1f1c403454cbf47",
       "version_major": 2,
       "version_minor": 0
      },
      "text/plain": [
       "Generating train split:   0%|          | 0/25000 [00:00<?, ? examples/s]"
      ]
     },
     "metadata": {},
     "output_type": "display_data"
    },
    {
     "data": {
      "application/vnd.jupyter.widget-view+json": {
       "model_id": "aacecd727d9c4e0fb2b2f28cb9782400",
       "version_major": 2,
       "version_minor": 0
      },
      "text/plain": [
       "Generating test split:   0%|          | 0/25000 [00:00<?, ? examples/s]"
      ]
     },
     "metadata": {},
     "output_type": "display_data"
    },
    {
     "data": {
      "application/vnd.jupyter.widget-view+json": {
       "model_id": "61f5bc43739a4830b5da6fcef9a5ae5f",
       "version_major": 2,
       "version_minor": 0
      },
      "text/plain": [
       "Generating unsupervised split:   0%|          | 0/50000 [00:00<?, ? examples/s]"
      ]
     },
     "metadata": {},
     "output_type": "display_data"
    }
   ],
   "source": [
    "from datasets import load_dataset\n",
    "\n",
    "imdb = load_dataset(\"imdb\")\n",
    "train_data, test_data = imdb['train'], imdb['test']"
   ]
  },
  {
   "cell_type": "code",
   "execution_count": 11,
   "metadata": {},
   "outputs": [
    {
     "name": "stdout",
     "output_type": "stream",
     "text": [
      "(25000, 2)\n",
      "(25000, 2)\n"
     ]
    }
   ],
   "source": [
    "# test\n",
    "print(train_data.shape)\n",
    "print(test_data.shape)"
   ]
  },
  {
   "cell_type": "code",
   "execution_count": 24,
   "metadata": {},
   "outputs": [
    {
     "name": "stdout",
     "output_type": "stream",
     "text": [
      "I rented I AM CURIOUS-YELLOW from my video store because of all the controversy that surrounded it when it was first released in 1967. I also heard that at first it was seized by U.S. customs if it ever tried to enter this country, therefore being a fan of films considered \"controversial\" I really had to see this for myself.<br /><br />The plot is centered around a young Swedish drama student named Lena who wants to learn everything she can about life. In particular she wants to focus her attentions to making some sort of documentary on what the average Swede thought about certain political issues such as the Vietnam War and race issues in the United States. In between asking politicians and ordinary denizens of Stockholm about their opinions on politics, she has sex with her drama teacher, classmates, and married men.<br /><br />What kills me about I AM CURIOUS-YELLOW is that 40 years ago, this was considered pornographic. Really, the sex and nudity scenes are few and far between, even then it's not shot like some cheaply made porno. While my countrymen mind find it shocking, in reality sex and nudity are a major staple in Swedish cinema. Even Ingmar Bergman, arguably their answer to good old boy John Ford, had sex scenes in his films.<br /><br />I do commend the filmmakers for the fact that any sex shown in the film is shown for artistic purposes rather than just to shock people and make money to be shown in pornographic theaters in America. I AM CURIOUS-YELLOW is a good film for anyone wanting to study the meat and potatoes (no pun intended) of Swedish cinema. But really, this film doesn't have much of a plot.\n"
     ]
    }
   ],
   "source": [
    "print(train_data[0]['text'])"
   ]
  },
  {
   "cell_type": "code",
   "execution_count": 25,
   "metadata": {},
   "outputs": [
    {
     "name": "stdout",
     "output_type": "stream",
     "text": [
      "0\n"
     ]
    }
   ],
   "source": [
    "print(train_data[0]['label'])"
   ]
  },
  {
   "cell_type": "code",
   "execution_count": null,
   "metadata": {},
   "outputs": [],
   "source": []
  },
  {
   "cell_type": "code",
   "execution_count": null,
   "metadata": {},
   "outputs": [],
   "source": []
  },
  {
   "cell_type": "code",
   "execution_count": 12,
   "metadata": {},
   "outputs": [],
   "source": [
    "from torchtext.data.utils import get_tokenizer\n",
    "from torchtext.vocab import build_vocab_from_iterator\n",
    "\n",
    "\n",
    "tokenizer = get_tokenizer(\"basic_english\")\n",
    "vocab_size = 20000\n",
    "\n",
    "def yield_tokens(data_iter):\n",
    "    for data in data_iter:\n",
    "        yield tokenizer(data[\"text\"])\n",
    "\n",
    "vocab = build_vocab_from_iterator(yield_tokens(train_data),\n",
    "                                  min_freq = 3,\n",
    "                                  max_tokens=vocab_size,\n",
    "                                  specials=[\"<pad>\", \"<s>\", \"<unk>\"])\n",
    "vocab.set_default_index(vocab[\"<unk>\"]) # This index will be returned when OOV token is queried"
   ]
  },
  {
   "cell_type": "code",
   "execution_count": 13,
   "metadata": {},
   "outputs": [],
   "source": [
    "seq_length = 500\n",
    "text_pipeline = lambda x: vocab(tokenizer(x))\n",
    "\n",
    "def collate_batch(batch, seq_length=500):\n",
    "    text_list, label_list = [], []\n",
    "    for sample in batch:\n",
    "        label_list.append(sample['label'])\n",
    "        \n",
    "        text_processed = text_pipeline(sample['text'])[:seq_length]\n",
    "        if len(text_processed) < seq_length:\n",
    "            pad_size = seq_length - len(text_processed) -1\n",
    "            text_processed = [vocab[\"<pad>\"]] * pad_size + [vocab[\"<s>\"]] + text_processed\n",
    "        text_list.append(text_processed)\n",
    "\n",
    "    input_ids = torch.tensor(text_list, dtype=torch.int64)\n",
    "    labels = torch.tensor(label_list, dtype=torch.int64)\n",
    "    return input_ids, labels"
   ]
  },
  {
   "cell_type": "code",
   "execution_count": 14,
   "metadata": {},
   "outputs": [],
   "source": [
    "from torch.utils.data import DataLoader\n",
    "batch_size = 64\n",
    "\n",
    "train_loader = DataLoader(train_data, batch_size=batch_size, shuffle=True, collate_fn=collate_batch, drop_last=True)\n",
    "test_loader = DataLoader(test_data, batch_size=batch_size, shuffle=False, collate_fn=collate_batch, drop_last=True)"
   ]
  },
  {
   "cell_type": "code",
   "execution_count": null,
   "metadata": {},
   "outputs": [],
   "source": []
  },
  {
   "cell_type": "code",
   "execution_count": 17,
   "metadata": {},
   "outputs": [
    {
     "data": {
      "text/plain": [
       "(1, 0, 2)"
      ]
     },
     "execution_count": 17,
     "metadata": {},
     "output_type": "execute_result"
    }
   ],
   "source": [
    "vocab[\"<s>\"], vocab[\"<pad>\"], vocab[\"<unk>\"]"
   ]
  },
  {
   "cell_type": "code",
   "execution_count": 18,
   "metadata": {},
   "outputs": [
    {
     "name": "stdout",
     "output_type": "stream",
     "text": [
      "tensor([    0,     0,     0,     0,     0,     0,     0,     0,     0,     0,\n",
      "            0,     0,     0,     0,     0,     0,     0,     0,     0,     0,\n",
      "            0,     0,     0,     0,     0,     0,     0,     0,     0,     0,\n",
      "            0,     0,     0,     0,     0,     0,     0,     0,     0,     0,\n",
      "            0,     0,     0,     0,     0,     0,     0,     0,     0,     0,\n",
      "            0,     0,     0,     0,     0,     0,     0,     0,     0,     0,\n",
      "            0,     0,     0,     0,     0,     0,     0,     0,     0,     0,\n",
      "            0,     0,     0,     0,     0,     0,     0,     0,     0,     0,\n",
      "            0,     0,     0,     0,     0,     0,     0,     0,     0,     0,\n",
      "            0,     0,     0,     0,     0,     0,     0,     0,     0,     0,\n",
      "            0,     0,     0,     0,     0,     0,     0,     0,     0,     0,\n",
      "            0,     0,     0,     0,     0,     0,     0,     0,     0,     0,\n",
      "            0,     0,     0,     0,     0,     0,     0,     0,     0,     0,\n",
      "            0,     0,     0,     0,     0,     0,     0,     0,     0,     0,\n",
      "            0,     0,     0,     0,     0,     0,     0,     0,     0,     0,\n",
      "            0,     0,     0,     0,     0,     0,     0,     0,     0,     0,\n",
      "            0,     0,     0,     0,     0,     0,     0,     0,     0,     0,\n",
      "            0,     0,     0,     0,     0,     0,     0,     0,     0,     0,\n",
      "            0,     0,     0,     0,     0,     0,     0,     0,     0,     0,\n",
      "            0,     0,     0,     0,     0,     0,     0,     0,     0,     0,\n",
      "            0,     0,     0,     0,     0,     0,     0,     0,     0,     0,\n",
      "            0,     0,     0,     0,     0,     0,     0,     0,     0,     0,\n",
      "            0,     0,     0,     0,     0,     0,     0,     0,     0,     0,\n",
      "            0,     0,     0,     0,     0,     0,     0,     0,     0,     0,\n",
      "            1,    19,    27,   205,    49,   205,    30,    34,   554,     5,\n",
      "           47,    11,    66,   761,   992,   204,  2061,    49,  1108,    13,\n",
      "           15,    24,     4,    36,   205,   102,   908,   145,     3,   430,\n",
      "         5051,   148,     7,   161,     5,    23,    73,    12,    10,    17,\n",
      "          248,     8,  2260,    93,   167,   329,    51,    15,    24,   101,\n",
      "          108,   287,   347,     4,    47,    18,   427,    66,    72,    49,\n",
      "          122,     5,    50,   190,  1411,     4,     3,   123,    18,   941,\n",
      "           90,     5,   443,    80,     2,  3821,    90,     4,    30,    71,\n",
      "           78,    47,    66,   992,   204,  2061,     6,  1108,    23,    14,\n",
      "          111,    47,    18,    71,    36,   143,    21,  1108,    64,    13,\n",
      "           12,     4,    74,   106,    67,   598,    19,    52,    12,    78,\n",
      "         7318,    41,    42,  1004,   333,   177,   251,     4,     3,   143,\n",
      "           18,   484,  1498,     6,    54,     8,   276,     6,  2509,    36,\n",
      "            8,     3,   112,   992,     3,  1108,   140,    21,     7,     2,\n",
      "            2,    26,    14,    10,   153,    30,  3943,    25,    23,    40,\n",
      "          350,  5510,   489,   315,     4,    15,    18,  4013,     3, 11149,\n",
      "           22,    14,    10,   147,   132,   118,    13,    65,   128,     4,\n",
      "            3,    71, 10046,    16,    14,   575,    10,    28,   484, 12446,\n",
      "          182,   406,  1854,    20,   371,     8,    15,    24,    11,    52,\n",
      "           14,  2013,    16,    12,    18,  1120,  1070,    41,  2235,   333,\n",
      "          177,    10,    17,     4,    73,   159,     5,    64,    21,    38,\n",
      "            8,     3,  2799,    14,  1422,   133,     5,    14,    10,   246,\n",
      "         1429,   156,    15,    22,  4362,   467,    29,     3,   199,    16,\n",
      "           12,   205,    63,    81,    35,     3,   254,    22,   132,     5,\n",
      "            6,    93,     8,    15,    11,   188,  2797,     4,    64,    50,\n",
      "         7761,     3,  1473,    13,    12,   150,   396,    27,  2128,     4])\n"
     ]
    }
   ],
   "source": [
    "for inputs, labels in train_loader:\n",
    "    sample = inputs[0]\n",
    "    print(sample)\n",
    "    break"
   ]
  },
  {
   "cell_type": "code",
   "execution_count": null,
   "metadata": {},
   "outputs": [],
   "source": []
  },
  {
   "cell_type": "markdown",
   "metadata": {},
   "source": [
    "# 2. Model"
   ]
  },
  {
   "cell_type": "code",
   "execution_count": 26,
   "metadata": {},
   "outputs": [],
   "source": [
    "class TextClsModel(nn.Module):\n",
    "    def __init__(self, vocab_size, emb_dim, hidden_dim, num_layers):\n",
    "        super().__init__()\n",
    "        self.embedding = nn.Embedding(vocab_size, emb_dim)\n",
    "        self.rnn = nn.RNN(emb_dim, hidden_dim, num_layers=num_layers, batch_first=True)\n",
    "        self.fc = nn.Linear(hidden_dim, 2)\n",
    "\n",
    "    def forward(self, x):\n",
    "        x = self.embedding(x)\n",
    "        _, hidden = self.rnn(x)\n",
    "        last_hidden = hidden[-1,:,:] \n",
    "        x = self.fc(last_hidden)\n",
    "        return x\n"
   ]
  },
  {
   "cell_type": "code",
   "execution_count": 27,
   "metadata": {},
   "outputs": [],
   "source": [
    "model = TextClsModel(vocab_size=vocab_size, \n",
    "                     emb_dim=128, \n",
    "                     hidden_dim=64,\n",
    "                     num_layers=2\n",
    "                     )"
   ]
  },
  {
   "cell_type": "code",
   "execution_count": 32,
   "metadata": {},
   "outputs": [
    {
     "name": "stdout",
     "output_type": "stream",
     "text": [
      "random_tensor: torch.Size([64, 500])\n",
      "==========================================================================================\n",
      "Layer (type:depth-idx)                   Output Shape              Param #\n",
      "==========================================================================================\n",
      "├─Embedding: 1-1                         [-1, 500, 128]            2,560,000\n",
      "├─RNN: 1-2                               [-1, 500, 64]             20,736\n",
      "├─Linear: 1-3                            [-1, 2]                   130\n",
      "==========================================================================================\n",
      "Total params: 2,580,866\n",
      "Trainable params: 2,580,866\n",
      "Non-trainable params: 0\n",
      "Total mult-adds (M): 2.58\n",
      "==========================================================================================\n",
      "Input size (MB): 0.12\n",
      "Forward/backward pass size (MB): 0.73\n",
      "Params size (MB): 9.85\n",
      "Estimated Total Size (MB): 10.70\n",
      "==========================================================================================\n"
     ]
    },
    {
     "data": {
      "text/plain": [
       "==========================================================================================\n",
       "Layer (type:depth-idx)                   Output Shape              Param #\n",
       "==========================================================================================\n",
       "├─Embedding: 1-1                         [-1, 500, 128]            2,560,000\n",
       "├─RNN: 1-2                               [-1, 500, 64]             20,736\n",
       "├─Linear: 1-3                            [-1, 2]                   130\n",
       "==========================================================================================\n",
       "Total params: 2,580,866\n",
       "Trainable params: 2,580,866\n",
       "Non-trainable params: 0\n",
       "Total mult-adds (M): 2.58\n",
       "==========================================================================================\n",
       "Input size (MB): 0.12\n",
       "Forward/backward pass size (MB): 0.73\n",
       "Params size (MB): 9.85\n",
       "Estimated Total Size (MB): 10.70\n",
       "=========================================================================================="
      ]
     },
     "execution_count": 32,
     "metadata": {},
     "output_type": "execute_result"
    }
   ],
   "source": [
    "from torchsummary import summary\n",
    "\n",
    "random_tensor = torch.randint(low=0, high=vocab_size, size=(64, seq_length), dtype=torch.long)\n",
    "print('random_tensor:', random_tensor.shape)\n",
    "summary(model, random_tensor)"
   ]
  },
  {
   "cell_type": "markdown",
   "metadata": {},
   "source": [
    "# 3. Evaluate"
   ]
  },
  {
   "cell_type": "code",
   "execution_count": 9,
   "metadata": {},
   "outputs": [],
   "source": [
    "def evaluate(model, test_loader, criterion, device):\n",
    "    model.eval()\n",
    "    test_loss = 0.0\n",
    "    correct = 0\n",
    "    total = 0\n",
    "    with torch.no_grad(): \n",
    "        for inputs, labels in test_loader:\n",
    "            inputs, labels = inputs.to(device), labels.to(device)\n",
    "\n",
    "            outputs = model(inputs)\n",
    "            loss = criterion(outputs, labels)\n",
    "            _, predicted = torch.max(outputs, 1)\n",
    "\n",
    "            total += labels.size(0)\n",
    "            test_loss += loss.item()\n",
    "            correct +=(predicted == labels).sum().item()\n",
    "\n",
    "    test_loss = test_loss / len(test_loader)\n",
    "    accuracy = 100* correct / total\n",
    "\n",
    "    return test_loss, accuracy"
   ]
  },
  {
   "cell_type": "markdown",
   "metadata": {},
   "source": [
    "# 4. Train"
   ]
  },
  {
   "cell_type": "code",
   "execution_count": 10,
   "metadata": {},
   "outputs": [],
   "source": [
    "device = 'cuda'\n",
    "max_epoch = 20\n",
    "LR = 0.01\n",
    "criterion = nn.CrossEntropyLoss()\n",
    "optimizer = torch.optim.Adam(model.parameters(), lr=LR)"
   ]
  },
  {
   "cell_type": "code",
   "execution_count": 11,
   "metadata": {},
   "outputs": [
    {
     "name": "stdout",
     "output_type": "stream",
     "text": [
      "Epoch [1/20], Loss: 0.6798, Accuracy: 57.33%, Test Loss: 0.6311, Test Accuracy: 65.71%\n",
      "Epoch [2/20], Loss: 0.6221, Accuracy: 65.94%, Test Loss: 0.6420, Test Accuracy: 62.90%\n",
      "Epoch [3/20], Loss: 0.5785, Accuracy: 69.71%, Test Loss: 0.6244, Test Accuracy: 65.52%\n",
      "Epoch [4/20], Loss: 0.5374, Accuracy: 73.33%, Test Loss: 0.6397, Test Accuracy: 66.32%\n",
      "Epoch [5/20], Loss: 0.5250, Accuracy: 74.59%, Test Loss: 0.6464, Test Accuracy: 66.18%\n",
      "Epoch [6/20], Loss: 0.5321, Accuracy: 74.30%, Test Loss: 0.6288, Test Accuracy: 67.60%\n",
      "Epoch [7/20], Loss: 0.5214, Accuracy: 74.61%, Test Loss: 0.6534, Test Accuracy: 66.52%\n",
      "Epoch [8/20], Loss: 0.5064, Accuracy: 75.93%, Test Loss: 0.6543, Test Accuracy: 66.41%\n",
      "Epoch [9/20], Loss: 0.4855, Accuracy: 77.04%, Test Loss: 0.6207, Test Accuracy: 67.94%\n",
      "Epoch [10/20], Loss: 0.4688, Accuracy: 78.00%, Test Loss: 0.6205, Test Accuracy: 67.78%\n",
      "Epoch [11/20], Loss: 0.4684, Accuracy: 78.06%, Test Loss: 0.6268, Test Accuracy: 69.59%\n",
      "Epoch [12/20], Loss: 0.4761, Accuracy: 77.99%, Test Loss: 0.6192, Test Accuracy: 68.11%\n",
      "Epoch [13/20], Loss: 0.4690, Accuracy: 78.40%, Test Loss: 0.6597, Test Accuracy: 68.55%\n",
      "Epoch [14/20], Loss: 0.4590, Accuracy: 78.94%, Test Loss: 0.6513, Test Accuracy: 68.21%\n",
      "Epoch [15/20], Loss: 0.4659, Accuracy: 78.18%, Test Loss: 0.6384, Test Accuracy: 68.21%\n",
      "Epoch [16/20], Loss: 0.4706, Accuracy: 77.76%, Test Loss: 0.6350, Test Accuracy: 67.76%\n",
      "Epoch [17/20], Loss: 0.4557, Accuracy: 78.43%, Test Loss: 0.6572, Test Accuracy: 68.53%\n",
      "Epoch [18/20], Loss: 0.4578, Accuracy: 78.29%, Test Loss: 0.6835, Test Accuracy: 67.56%\n",
      "Epoch [19/20], Loss: 0.4569, Accuracy: 78.49%, Test Loss: 0.6341, Test Accuracy: 67.93%\n",
      "Epoch [20/20], Loss: 0.4557, Accuracy: 78.59%, Test Loss: 0.6540, Test Accuracy: 67.17%\n"
     ]
    }
   ],
   "source": [
    "train_losses = []\n",
    "train_accuracies = []\n",
    "test_losses = []\n",
    "test_accuracies = []\n",
    "\n",
    "model.to(device)\n",
    "for epoch in range(max_epoch):\n",
    "    model.train()\n",
    "    running_loss = 0.0\n",
    "    running_correct = 0\n",
    "    total = 0\n",
    "    for inputs, labels in train_loader:\n",
    "        inputs, labels = inputs.to(device), labels.to(device)\n",
    "\n",
    "        optimizer.zero_grad()\n",
    "        outputs = model(inputs)\n",
    "        loss = criterion(outputs, labels)\n",
    "        running_loss += loss.item()\n",
    "\n",
    "        _, predicted = torch.max(outputs, 1)\n",
    "        total += labels.size(0)\n",
    "        running_correct += (predicted == labels).sum().item()\n",
    "\n",
    "        loss.backward()\n",
    "        optimizer.step()\n",
    "\n",
    "    epoch_loss =  running_loss / len(train_loader)\n",
    "    epoch_accuracy = 100* running_correct / total\n",
    "    test_loss, test_accuracy = evaluate(model, test_loader, criterion, device)\n",
    "\n",
    "    print(f\"Epoch [{epoch + 1}/{max_epoch}], Loss: {epoch_loss:.4f}, Accuracy: {epoch_accuracy:.2f}%, Test Loss: {test_loss:.4f}, Test Accuracy: {test_accuracy:.2f}%\")\n",
    "\n",
    "    train_losses.append(epoch_loss)\n",
    "    train_accuracies.append(epoch_accuracy)\n",
    "    test_losses.append(test_loss)\n",
    "    test_accuracies.append(test_accuracy)"
   ]
  },
  {
   "cell_type": "code",
   "execution_count": 12,
   "metadata": {
    "id": "C0MZtyIbmvhZ"
   },
   "outputs": [
    {
     "data": {
      "image/png": "[encoded data removed]",
      "text/plain": [
       "<Figure size 800x800 with 2 Axes>"
      ]
     },
     "metadata": {},
     "output_type": "display_data"
    }
   ],
   "source": [
    "import matplotlib.pyplot as plt\n",
    "\n",
    "plt.figure(figsize=(8, 8))\n",
    "plt.subplot(2, 1, 1)\n",
    "plt.plot(train_accuracies, label='Training Accuracy')\n",
    "plt.plot(test_accuracies, label='Validation Accuracy')\n",
    "plt.legend(loc='lower right')\n",
    "plt.ylabel('Accuracy')\n",
    "plt.ylim([min(plt.ylim()),100])\n",
    "plt.title('Training and Validation Accuracy')\n",
    "\n",
    "plt.subplot(2, 1, 2)\n",
    "plt.plot(train_losses, label='Training Loss')\n",
    "plt.plot(test_losses, label='Validation Loss')\n",
    "plt.legend(loc='upper right')\n",
    "plt.ylabel('Binary Cross Entropy')\n",
    "plt.title('Training and Validation Loss')\n",
    "plt.xlabel('epoch')\n",
    "plt.show()"
   ]
  },
  {
   "cell_type": "code",
   "execution_count": null,
   "metadata": {},
   "outputs": [],
   "source": []
  }
 ],
 "metadata": {
  "accelerator": "GPU",
  "colab": {
   "provenance": []
  },
  "gpuClass": "standard",
  "kernelspec": {
   "display_name": "Python 3 (ipykernel)",
   "language": "python",
   "name": "python3"
  },
  "language_info": {
   "codemirror_mode": {
    "name": "ipython",
    "version": 3
   },
   "file_extension": ".py",
   "mimetype": "text/x-python",
   "name": "python",
   "nbconvert_exporter": "python",
   "pygments_lexer": "ipython3",
   "version": "3.11.5"
  },
  "toc": {
   "base_numbering": 1,
   "nav_menu": {},
   "number_sections": true,
   "sideBar": true,
   "skip_h1_title": false,
   "title_cell": "Table of Contents",
   "title_sidebar": "Contents",
   "toc_cell": false,
   "toc_position": {},
   "toc_section_display": true,
   "toc_window_display": false
  }
 },
 "nbformat": 4,
 "nbformat_minor": 4
}
